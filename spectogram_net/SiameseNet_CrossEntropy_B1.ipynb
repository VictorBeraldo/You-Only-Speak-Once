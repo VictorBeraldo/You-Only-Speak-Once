{
 "cells": [
  {
   "cell_type": "markdown",
   "metadata": {
    "colab_type": "text",
    "id": "S2IaITBP0f5R"
   },
   "source": [
    "# Siamese Net for Speaker Identification using spectogram images of speech data, leveraging Cross Entropy Loss"
   ]
  },
  {
   "cell_type": "code",
   "execution_count": 7,
   "metadata": {},
   "outputs": [
    {
     "name": "stdout",
     "output_type": "stream",
     "text": [
      "Found existing installation: pyvis 0.1.8.2\r\n",
      "Uninstalling pyvis-0.1.8.2:\r\n",
      "  Successfully uninstalled pyvis-0.1.8.2\r\n"
     ]
    }
   ],
   "source": [
    "! pip uninstall -y pyvis"
   ]
  },
  {
   "cell_type": "code",
   "execution_count": 5,
   "metadata": {
    "colab": {
     "base_uri": "https://localhost:8080/",
     "height": 51
    },
    "colab_type": "code",
    "id": "4GS0yuGl0mHQ",
    "outputId": "be9d2cb1-7d03-4b4d-ff7d-e614a9b12bc7"
   },
   "outputs": [
    {
     "name": "stdout",
     "output_type": "stream",
     "text": [
      "Version 1.5.1\n",
      "CUDA enabled: False\n"
     ]
    }
   ],
   "source": [
    "import torch\n",
    "print('Version', torch.__version__)\n",
    "print('CUDA enabled:', torch.cuda.is_available())\n",
    "  \n",
    "# Running this should then print out:\n",
    "# Version 1.3.0+cu100\n",
    "# CUDA enabled: True"
   ]
  },
  {
   "cell_type": "code",
   "execution_count": 6,
   "metadata": {
    "colab": {},
    "colab_type": "code",
    "id": "gFJ6HNuprCPh"
   },
   "outputs": [],
   "source": [
    "%matplotlib inline\n",
    "import torchvision\n",
    "import torchvision.datasets as dset\n",
    "import torchvision.transforms as transforms\n",
    "from torch.utils.data import DataLoader,Dataset\n",
    "import matplotlib.pyplot as plt\n",
    "import torchvision.utils\n",
    "import numpy as np\n",
    "import random\n",
    "from PIL import Image\n",
    "import torch\n",
    "from torch.autograd import Variable\n",
    "import PIL.ImageOps    \n",
    "import torch.nn as nn\n",
    "from torch import optim\n",
    "import torch.nn.functional as F"
   ]
  },
  {
   "cell_type": "code",
   "execution_count": 7,
   "metadata": {},
   "outputs": [
    {
     "name": "stdout",
     "output_type": "stream",
     "text": [
      "/mnt/c/Users/victor/OneDrive - Universidade Federal do ABC/Mestrado/pesquisa_codigos/You-Only-Speak-Once/spectogram_net\r\n"
     ]
    }
   ],
   "source": [
    "! pwd"
   ]
  },
  {
   "cell_type": "code",
   "execution_count": 8,
   "metadata": {
    "colab": {},
    "colab_type": "code",
    "id": "eS79HbdP3IAI"
   },
   "outputs": [],
   "source": [
    "import os\n",
    "BASE_PATH = '/mnt/c/Users/victor/OneDrive - Universidade Federal do ABC/Mestrado/pesquisa_codigos/You-Only-Speak-Once/spectogram_net'\n",
    "os.chdir(BASE_PATH)"
   ]
  },
  {
   "cell_type": "code",
   "execution_count": 9,
   "metadata": {
    "colab": {},
    "colab_type": "code",
    "id": "3De-BMQIQk3g"
   },
   "outputs": [],
   "source": [
    "def imshow(img,text=None,should_save=False):\n",
    "    npimg = img.numpy()\n",
    "    plt.axis(\"off\")\n",
    "    if text:\n",
    "        plt.text(75, 8, text, style='italic',fontweight='bold',\n",
    "            bbox={'facecolor':'white', 'alpha':0.8, 'pad':10})\n",
    "    plt.imshow(np.transpose(npimg, (1, 2, 0)))\n",
    "    plt.show()    \n",
    "\n",
    "def show_plot(iteration,loss):\n",
    "    plt.plot(iteration,loss)\n",
    "    plt.show()"
   ]
  },
  {
   "cell_type": "markdown",
   "metadata": {
    "colab_type": "text",
    "id": "jwGf7I7LQk3j"
   },
   "source": [
    "## Configuration Class\n",
    "A simple class to manage configuration"
   ]
  },
  {
   "cell_type": "code",
   "execution_count": 13,
   "metadata": {
    "colab": {
     "base_uri": "https://localhost:8080/",
     "height": 34
    },
    "colab_type": "code",
    "id": "wQ2k46mV3cTk",
    "outputId": "ddf78d1d-ab22-4d76-9e76-1b2d5d6f6b93"
   },
   "outputs": [
    {
     "name": "stdout",
     "output_type": "stream",
     "text": [
      "DR1_mini\t\t      SiameseNet_CrossEntropy_B1.ipynb\r\n",
      "feature_extraction\t      SiameseNet_CrossEntropy.ipynb\r\n",
      "__init__.py\t\t      SiameseNet_CrossEntropy.py\r\n",
      "SiameseNet_Contrastive.ipynb  SiameseNet_CrossEntropy_withDropout.ipynb\r\n"
     ]
    }
   ],
   "source": [
    "!ls "
   ]
  },
  {
   "cell_type": "code",
   "execution_count": 63,
   "metadata": {
    "colab": {},
    "colab_type": "code",
    "id": "0pZuUFgvQk3m"
   },
   "outputs": [],
   "source": [
    "class Config():\n",
    "    #base_dir = \"\"\n",
    "    training_dir = BASE_PATH + \"/train-gram/\"\n",
    "    testing_dir = BASE_PATH + \"/train-gram/\"\n",
    "    train_batch_size = 2\n",
    "    train_number_epochs = 10"
   ]
  },
  {
   "cell_type": "markdown",
   "metadata": {},
   "source": [
    "# Preprocess Spectrogram"
   ]
  },
  {
   "cell_type": "code",
   "execution_count": 33,
   "metadata": {},
   "outputs": [],
   "source": [
    "import numpy as np\n",
    "import pandas as pd\n",
    "import librosa\n",
    "import librosa.display\n",
    "import matplotlib.pyplot as plt\n",
    "import os, errno\n",
    "from pathlib import Path\n",
    "from glob import glob\n",
    "import uuid"
   ]
  },
  {
   "cell_type": "code",
   "execution_count": 34,
   "metadata": {},
   "outputs": [],
   "source": [
    "files = glob('DR1_mini/*/*.wav')"
   ]
  },
  {
   "cell_type": "code",
   "execution_count": 25,
   "metadata": {},
   "outputs": [],
   "source": [
    "os.makedirs('train-gram')"
   ]
  },
  {
   "cell_type": "code",
   "execution_count": 58,
   "metadata": {},
   "outputs": [
    {
     "name": "stdout",
     "output_type": "stream",
     "text": [
      "work done on index 0, speaker 14\n",
      "work done on index 1, speaker 14\n",
      "work done on index 2, speaker 14\n",
      "work done on index 3, speaker 14\n",
      "work done on index 4, speaker 14\n",
      "work done on index 5, speaker 14\n",
      "work done on index 6, speaker 14\n",
      "work done on index 7, speaker 14\n",
      "work done on index 8, speaker 14\n",
      "work done on index 9, speaker 16\n",
      "work done on index 10, speaker 16\n",
      "work done on index 11, speaker 16\n",
      "work done on index 12, speaker 16\n",
      "work done on index 13, speaker 16\n",
      "work done on index 14, speaker 16\n",
      "work done on index 15, speaker 16\n",
      "work done on index 16, speaker 16\n",
      "work done on index 17, speaker 19\n",
      "work done on index 18, speaker 19\n",
      "work done on index 19, speaker 19\n",
      "work done on index 20, speaker 19\n",
      "work done on index 21, speaker 19\n",
      "work done on index 22, speaker 19\n",
      "work done on index 23, speaker 19\n",
      "work done on index 24, speaker 19\n",
      "work done on index 25, speaker 20\n",
      "work done on index 26, speaker 20\n",
      "work done on index 27, speaker 20\n",
      "work done on index 28, speaker 20\n",
      "work done on index 29, speaker 20\n",
      "work done on index 30, speaker 20\n",
      "work done on index 31, speaker 20\n",
      "work done on index 32, speaker 20\n",
      "work done on index 33, speaker 20\n",
      "work done on index 34, speaker 20\n",
      "work done on index 35, speaker 22\n",
      "work done on index 36, speaker 22\n",
      "work done on index 37, speaker 22\n",
      "work done on index 38, speaker 22\n",
      "work done on index 39, speaker 22\n",
      "work done on index 40, speaker 22\n",
      "work done on index 41, speaker 22\n",
      "work done on index 42, speaker 22\n",
      "work done on index 43, speaker 22\n",
      "work done on index 44, speaker 22\n",
      "work done on index 45, speaker 23\n",
      "work done on index 46, speaker 23\n",
      "work done on index 47, speaker 23\n",
      "work done on index 48, speaker 23\n",
      "work done on index 49, speaker 25\n",
      "work done on index 50, speaker 25\n",
      "work done on index 51, speaker 25\n",
      "work done on index 52, speaker 25\n",
      "work done on index 53, speaker 25\n",
      "work done on index 54, speaker 25\n",
      "work done on index 55, speaker 25\n",
      "work done on index 56, speaker 25\n",
      "work done on index 57, speaker 25\n",
      "work done on index 58, speaker 25\n",
      "work done on index 59, speaker 29\n",
      "work done on index 60, speaker 29\n",
      "work done on index 61, speaker 29\n",
      "work done on index 62, speaker 29\n",
      "work done on index 63, speaker 29\n",
      "work done on index 64, speaker 30\n",
      "work done on index 65, speaker 30\n",
      "work done on index 66, speaker 30\n",
      "work done on index 67, speaker 30\n",
      "work done on index 68, speaker 30\n",
      "work done on index 69, speaker 30\n",
      "work done on index 70, speaker 30\n",
      "work done on index 71, speaker 30\n",
      "work done on index 72, speaker 32\n",
      "work done on index 73, speaker 32\n",
      "work done on index 74, speaker 32\n",
      "work done on index 75, speaker 32\n",
      "work done on index 76, speaker 32\n",
      "work done on index 77, speaker 32\n",
      "work done on index 78, speaker 32\n",
      "work done on index 79, speaker 32\n",
      "work done on index 80, speaker 32\n",
      "work done on index 81, speaker 36\n",
      "work done on index 82, speaker 36\n",
      "work done on index 83, speaker 36\n",
      "work done on index 84, speaker 36\n",
      "work done on index 85, speaker 36\n",
      "work done on index 86, speaker 36\n",
      "work done on index 87, speaker 36\n",
      "work done on index 88, speaker 36\n",
      "work done on index 89, speaker 37\n",
      "work done on index 90, speaker 37\n",
      "work done on index 91, speaker 37\n",
      "work done on index 92, speaker 37\n",
      "work done on index 93, speaker 37\n",
      "work done on index 94, speaker 37\n",
      "work done on index 95, speaker 37\n",
      "work done on index 96, speaker 37\n",
      "work done on index 97, speaker 37\n",
      "work done on index 98, speaker 38\n",
      "work done on index 99, speaker 38\n",
      "work done on index 100, speaker 38\n",
      "work done on index 101, speaker 38\n",
      "work done on index 102, speaker 38\n",
      "work done on index 103, speaker 38\n",
      "work done on index 104, speaker 38\n",
      "work done on index 105, speaker 38\n",
      "work done on index 106, speaker 40\n",
      "work done on index 107, speaker 40\n",
      "work done on index 108, speaker 40\n",
      "work done on index 109, speaker 40\n",
      "work done on index 110, speaker 40\n",
      "work done on index 111, speaker 40\n",
      "work done on index 112, speaker 40\n",
      "work done on index 113, speaker 40\n",
      "work done on index 114, speaker 40\n",
      "work done on index 115, speaker 44\n",
      "work done on index 116, speaker 44\n",
      "work done on index 117, speaker 44\n",
      "work done on index 118, speaker 44\n",
      "work done on index 119, speaker 44\n",
      "work done on index 120, speaker 44\n",
      "work done on index 121, speaker 44\n",
      "work done on index 122, speaker 49\n",
      "work done on index 123, speaker 49\n",
      "work done on index 124, speaker 49\n",
      "work done on index 125, speaker 49\n",
      "work done on index 126, speaker 49\n",
      "work done on index 127, speaker 49\n",
      "work done on index 128, speaker 49\n",
      "work done on index 129, speaker 54\n",
      "work done on index 130, speaker 54\n",
      "work done on index 131, speaker 54\n",
      "work done on index 132, speaker 54\n",
      "work done on index 133, speaker 54\n",
      "work done on index 134, speaker 54\n",
      "work done on index 135, speaker 54\n",
      "work done on index 136, speaker 54\n",
      "work done on index 137, speaker 54\n",
      "work done on index 138, speaker 60\n",
      "work done on index 139, speaker 60\n",
      "work done on index 140, speaker 60\n",
      "work done on index 141, speaker 60\n",
      "work done on index 142, speaker 60\n",
      "work done on index 143, speaker 60\n",
      "work done on index 144, speaker 60\n",
      "work done on index 145, speaker 60\n",
      "work done on index 146, speaker 60\n",
      "work done on index 147, speaker 60\n",
      "work done on index 148, speaker 64\n",
      "work done on index 149, speaker 64\n",
      "work done on index 150, speaker 64\n",
      "work done on index 151, speaker 64\n",
      "work done on index 152, speaker 64\n",
      "work done on index 153, speaker 64\n",
      "work done on index 154, speaker 64\n",
      "work done on index 155, speaker 64\n",
      "work done on index 156, speaker 64\n",
      "work done on index 157, speaker 64\n",
      "work done on index 158, speaker 65\n",
      "work done on index 159, speaker 65\n",
      "work done on index 160, speaker 65\n",
      "work done on index 161, speaker 65\n",
      "work done on index 162, speaker 65\n",
      "work done on index 163, speaker 65\n",
      "work done on index 164, speaker 65\n",
      "work done on index 165, speaker 65\n",
      "work done on index 166, speaker 65\n",
      "work done on index 167, speaker 65\n",
      "work done on index 168, speaker 77\n",
      "work done on index 169, speaker 77\n",
      "work done on index 170, speaker 77\n",
      "work done on index 171, speaker 77\n",
      "work done on index 172, speaker 77\n",
      "work done on index 173, speaker 77\n",
      "work done on index 174, speaker 77\n",
      "work done on index 175, speaker 77\n",
      "work done on index 176, speaker 77\n",
      "work done on index 177, speaker 77\n",
      "work done on index 178, speaker 81\n",
      "work done on index 179, speaker 81\n",
      "work done on index 180, speaker 81\n",
      "work done on index 181, speaker 81\n",
      "work done on index 182, speaker 81\n",
      "work done on index 183, speaker 81\n",
      "work done on index 184, speaker 81\n",
      "work done on index 185, speaker 81\n",
      "work done on index 186, speaker 81\n",
      "work done on index 187, speaker 81\n",
      "work done on index 188, speaker 82\n",
      "work done on index 189, speaker 82\n",
      "work done on index 190, speaker 82\n",
      "work done on index 191, speaker 82\n",
      "work done on index 192, speaker 82\n",
      "work done on index 193, speaker 82\n",
      "work done on index 194, speaker 82\n",
      "work done on index 195, speaker 82\n",
      "work done on index 196, speaker 82\n",
      "work done on index 197, speaker 84\n",
      "work done on index 198, speaker 84\n",
      "work done on index 199, speaker 84\n",
      "work done on index 200, speaker 84\n",
      "work done on index 201, speaker 84\n",
      "work done on index 202, speaker 84\n",
      "work done on index 203, speaker 84\n",
      "work done on index 204, speaker 84\n",
      "work done on index 205, speaker 85\n",
      "work done on index 206, speaker 85\n",
      "work done on index 207, speaker 85\n",
      "work done on index 208, speaker 85\n",
      "work done on index 209, speaker 85\n",
      "work done on index 210, speaker 85\n",
      "work done on index 211, speaker 85\n",
      "work done on index 212, speaker 85\n",
      "work done on index 213, speaker 85\n",
      "work done on index 214, speaker 85\n",
      "work done on index 215, speaker 87\n",
      "work done on index 216, speaker 87\n",
      "work done on index 217, speaker 87\n",
      "work done on index 218, speaker 87\n",
      "work done on index 219, speaker 87\n",
      "work done on index 220, speaker 87\n",
      "work done on index 221, speaker 87\n",
      "work done on index 222, speaker 87\n",
      "work done on index 223, speaker 87\n",
      "work done on index 224, speaker 89\n",
      "work done on index 225, speaker 89\n",
      "work done on index 226, speaker 89\n",
      "work done on index 227, speaker 89\n",
      "work done on index 228, speaker 89\n",
      "work done on index 229, speaker 89\n",
      "work done on index 230, speaker 89\n",
      "work done on index 231, speaker 89\n",
      "work done on index 232, speaker 89\n"
     ]
    }
   ],
   "source": [
    "my_dpi = 120\n",
    "\n",
    "for index,f in enumerate(files):\n",
    "    spk = f.split('/')[1]\n",
    "    os.makedirs(f'train-gram/{spk}',exist_ok=True)\n",
    "    ay, sr = librosa.load(f)\n",
    "    sr = 8000\n",
    "    duration = ay.shape[0] / sr\n",
    "    start = 0\n",
    "    while start + 5 < duration:\n",
    "        slice_ = ay[start * sr: (start + 5) * sr]\n",
    "        start = start + 5 - 1\n",
    "        x = librosa.stft(slice_)\n",
    "        xdb = librosa.amplitude_to_db(abs(x))\n",
    "        plt.figure(figsize=(227 / my_dpi, 227 / my_dpi), dpi=my_dpi)\n",
    "        plt.axis('off')\n",
    "        librosa.display.specshow(xdb, sr=sr, x_axis='time', y_axis='log')\n",
    "        plt.savefig('train-gram/' + str(spk) + '/' + uuid.uuid4().hex + '.png', dpi=my_dpi)\n",
    "        plt.close()\n",
    "\n",
    "    print('work done on index {}, speaker {}'.format(index, spk))\n"
   ]
  },
  {
   "cell_type": "markdown",
   "metadata": {
    "colab_type": "text",
    "id": "62pzvktyQk3o"
   },
   "source": [
    "## Custom Dataset Class\n",
    "This dataset generates a pair of images. 0 for geniune pair and 1 for imposter pair"
   ]
  },
  {
   "cell_type": "code",
   "execution_count": 64,
   "metadata": {
    "colab": {},
    "colab_type": "code",
    "id": "pD-gYNE0Qk3p"
   },
   "outputs": [],
   "source": [
    "class SiameseNetworkDataset(Dataset):\n",
    "    \n",
    "    def __init__(self,imageFolderDataset,transform=None,should_invert=True):\n",
    "        self.imageFolderDataset = imageFolderDataset    \n",
    "        self.transform = transform\n",
    "        self.should_invert = should_invert\n",
    "        \n",
    "    def __getitem__(self,index):\n",
    "        img0_tuple = random.choice(self.imageFolderDataset.imgs)\n",
    "        #we need to make sure approx 50% of images are in the same class\n",
    "        should_get_same_class = random.randint(0,1) \n",
    "        if should_get_same_class:\n",
    "            while True:\n",
    "                #keep looping till the same class image is found\n",
    "                img1_tuple = random.choice(self.imageFolderDataset.imgs) \n",
    "                if img0_tuple[1]==img1_tuple[1]:\n",
    "                    break\n",
    "        else:\n",
    "            while True:\n",
    "                #keep looping till a different class image is found\n",
    "                \n",
    "                img1_tuple = random.choice(self.imageFolderDataset.imgs) \n",
    "                if img0_tuple[1] !=img1_tuple[1]:\n",
    "                    break\n",
    "\n",
    "        img0 = Image.open(img0_tuple[0])\n",
    "        img1 = Image.open(img1_tuple[0])\n",
    "        img0 = img0.convert(\"L\")\n",
    "        img1 = img1.convert(\"L\")\n",
    "        \n",
    "        if self.should_invert:\n",
    "            img0 = PIL.ImageOps.invert(img0)\n",
    "            img1 = PIL.ImageOps.invert(img1)\n",
    "\n",
    "        if self.transform is not None:\n",
    "            img0 = self.transform(img0)\n",
    "            img1 = self.transform(img1)\n",
    "        labels = torch.squeeze(torch.from_numpy(np.array([int(img1_tuple[1]==img0_tuple[1])],dtype=np.float32)).long())\n",
    "        # Label = 1 when the images are from the same class\n",
    "        return img0, img1 , labels\n",
    "    \n",
    "    def __len__(self):\n",
    "        return len(self.imageFolderDataset.imgs)"
   ]
  },
  {
   "cell_type": "markdown",
   "metadata": {
    "colab_type": "text",
    "id": "5cQTVWENQk3r"
   },
   "source": [
    "## Using Image Folder Dataset"
   ]
  },
  {
   "cell_type": "code",
   "execution_count": 65,
   "metadata": {
    "colab": {
     "base_uri": "https://localhost:8080/",
     "height": 51
    },
    "colab_type": "code",
    "id": "T1LgP6_Orf3r",
    "outputId": "f90687b8-7f98-4d64-822f-81690748317e"
   },
   "outputs": [
    {
     "name": "stdout",
     "output_type": "stream",
     "text": [
      "Using device cpu\n",
      "num workers: 4\n"
     ]
    }
   ],
   "source": [
    "use_cuda = torch.cuda.is_available()\n",
    "device = torch.device(\"cuda\" if use_cuda else \"cpu\")\n",
    "print('Using device', device)\n",
    "import multiprocessing\n",
    "num_workers = multiprocessing.cpu_count()\n",
    "print('num workers:', num_workers)\n",
    "kwargs = {'num_workers': num_workers,\n",
    "          'pin_memory': True} if use_cuda else {}"
   ]
  },
  {
   "cell_type": "code",
   "execution_count": 66,
   "metadata": {},
   "outputs": [
    {
     "data": {
      "text/plain": [
       "'/mnt/c/Users/victor/OneDrive - Universidade Federal do ABC/Mestrado/pesquisa_codigos/You-Only-Speak-Once/spectogram_net/train-gram/'"
      ]
     },
     "execution_count": 66,
     "metadata": {},
     "output_type": "execute_result"
    }
   ],
   "source": [
    "Config.training_dir"
   ]
  },
  {
   "cell_type": "code",
   "execution_count": 67,
   "metadata": {
    "colab": {},
    "colab_type": "code",
    "id": "9tVIJ5CxQk3u"
   },
   "outputs": [],
   "source": [
    "folder_dataset = dset.ImageFolder(root=Config.training_dir)\n",
    "siamese_dataset = SiameseNetworkDataset(imageFolderDataset=folder_dataset,\n",
    "                                        transform=transforms.Compose([#transforms.Resize((227,227)),\n",
    "                                                                      transforms.ToTensor()\n",
    "                                                                      ])\n",
    "                                       ,should_invert=False)\n",
    "train_dataloader = DataLoader(siamese_dataset,\n",
    "                              shuffle=True,\n",
    "                              batch_size=Config.train_batch_size,\n",
    "                              **kwargs)"
   ]
  },
  {
   "cell_type": "code",
   "execution_count": 101,
   "metadata": {},
   "outputs": [
    {
     "data": {
      "text/plain": [
       "233"
      ]
     },
     "execution_count": 101,
     "metadata": {},
     "output_type": "execute_result"
    }
   ],
   "source": [
    "len(DataLoader(siamese_dataset, batch_size=2, shuffle=False, **kwargs))"
   ]
  },
  {
   "cell_type": "markdown",
   "metadata": {
    "colab_type": "text",
    "id": "dS5NwqiEQk3x"
   },
   "source": [
    "## Visualising some of the data\n",
    "The top row and the bottom row of any column is one pair. The 0s and 1s correspond to the column of the image.\n",
    "1 indiciates samle class, and 0 indicates not the same class."
   ]
  },
  {
   "cell_type": "code",
   "execution_count": 68,
   "metadata": {
    "colab": {
     "base_uri": "https://localhost:8080/",
     "height": 132
    },
    "colab_type": "code",
    "id": "YB6ibCK4Qk3x",
    "outputId": "5fb79389-7c9e-4fb0-8159-69c04de61336"
   },
   "outputs": [
    {
     "data": {
      "image/png": "[encoded data removed]",
      "text/plain": [
       "<Figure size 432x288 with 1 Axes>"
      ]
     },
     "metadata": {},
     "output_type": "display_data"
    },
    {
     "name": "stdout",
     "output_type": "stream",
     "text": [
      "[1 0 1 1 0 0 1 1]\n"
     ]
    }
   ],
   "source": [
    "vis_dataloader = DataLoader(siamese_dataset, shuffle=True,         \n",
    "                            batch_size=8, **kwargs)\n",
    "dataiter = iter(vis_dataloader)\n",
    "\n",
    "\n",
    "example_batch = next(dataiter)\n",
    "concatenated = torch.cat((example_batch[0],example_batch[1]),0)\n",
    "imshow(torchvision.utils.make_grid(concatenated))\n",
    "print(example_batch[2].numpy())"
   ]
  },
  {
   "cell_type": "markdown",
   "metadata": {
    "colab_type": "text",
    "collapsed": true,
    "id": "9hgfbmLLQk30"
   },
   "source": [
    "## Neural Net Definition\n",
    "We will use a standard convolutional neural network"
   ]
  },
  {
   "cell_type": "code",
   "execution_count": 76,
   "metadata": {
    "colab": {},
    "colab_type": "code",
    "id": "hX2lEqT5Qk31"
   },
   "outputs": [],
   "source": [
    "class SiameseNetwork(nn.Module):\n",
    "    def __init__(self):\n",
    "        super(SiameseNetwork, self).__init__()\n",
    "        self.cnn1 = nn.Sequential(\n",
    "            nn.ReflectionPad2d(1),\n",
    "            nn.Conv2d(1, 4, kernel_size=3),\n",
    "            nn.ReLU(inplace=True),\n",
    "            nn.BatchNorm2d(4),\n",
    "            \n",
    "            nn.ReflectionPad2d(1),\n",
    "            nn.Conv2d(4, 8, kernel_size=3),\n",
    "            nn.ReLU(inplace=True),\n",
    "            nn.BatchNorm2d(8),\n",
    "\n",
    "\n",
    "            # nn.ReflectionPad2d(1),\n",
    "            # nn.Conv2d(8, 8, kernel_size=3),\n",
    "            # nn.ReLU(inplace=True),\n",
    "            # nn.BatchNorm2d(8),\n",
    "\n",
    "\n",
    "        )\n",
    "\n",
    "        self.fc1 = nn.Sequential(\n",
    "            nn.Linear(8*227*227, 512),\n",
    "            nn.ReLU(inplace=True),\n",
    "\n",
    "            # nn.Linear(512, 128),\n",
    "            # nn.ReLU(inplace=True)\n",
    "            )\n",
    "\n",
    "        self.fc2 = nn.Linear(512, 2)\n",
    "\n",
    "    def forward_once(self, x):\n",
    "        output = self.cnn1(x)\n",
    "        output = output.view(output.size()[0], -1)\n",
    "        output = self.fc1(output)\n",
    "        return output\n",
    "\n",
    "    def forward(self, input1, input2):\n",
    "        output1 = self.forward_once(input1)\n",
    "        output2 = self.forward_once(input2)\n",
    "        return self.fc2(torch.abs(output1 - output2))"
   ]
  },
  {
   "cell_type": "markdown",
   "metadata": {
    "colab_type": "text",
    "id": "hM2UnPF4Qk33"
   },
   "source": [
    "## Contrastive Loss"
   ]
  },
  {
   "cell_type": "code",
   "execution_count": 77,
   "metadata": {
    "colab": {},
    "colab_type": "code",
    "id": "l1Yku_FiQk33"
   },
   "outputs": [],
   "source": [
    "class ContrastiveLoss(torch.nn.Module):\n",
    "    def __init__(self, margin=2.0):\n",
    "        super(ContrastiveLoss, self).__init__()\n",
    "        self.margin = margin\n",
    "\n",
    "    def forward(self, output1, output2, label):\n",
    "        euclidean_distance = F.pairwise_distance(output1, output2, keepdim = True)\n",
    "        loss_contrastive = torch.mean((1-label) * torch.pow(euclidean_distance, 2) +\n",
    "                                      (label) * torch.pow(torch.clamp(self.margin - euclidean_distance, min=0.0), 2))\n",
    "        return loss_contrastive"
   ]
  },
  {
   "cell_type": "code",
   "execution_count": 78,
   "metadata": {
    "colab": {},
    "colab_type": "code",
    "id": "-uLAzr2AQk36",
    "outputId": "1777bfbe-adfa-4d79-9a36-3716d2d8f3ec"
   },
   "outputs": [
    {
     "data": {
      "text/plain": [
       "ContrastiveLoss()"
      ]
     },
     "execution_count": 78,
     "metadata": {},
     "output_type": "execute_result"
    }
   ],
   "source": [
    "ContrastiveLoss()"
   ]
  },
  {
   "cell_type": "markdown",
   "metadata": {
    "colab_type": "text",
    "id": "y7KzHmVZQk38"
   },
   "source": [
    "## Cross Entropy Loss"
   ]
  },
  {
   "cell_type": "code",
   "execution_count": 79,
   "metadata": {
    "colab": {},
    "colab_type": "code",
    "id": "gUXhX7FIQk38"
   },
   "outputs": [],
   "source": [
    "class CrossEntropyLoss(torch.nn.Module):\n",
    "    def __init__(self):\n",
    "        super(CrossEntropyLoss, self).__init__()\n",
    "\n",
    "    def forward(self, output, label):\n",
    "        label = label.long()\n",
    "        #import pdb; pdb.set_trace()\n",
    "        loss = F.cross_entropy(output, label)\n",
    "        return loss"
   ]
  },
  {
   "cell_type": "markdown",
   "metadata": {
    "colab_type": "text",
    "id": "hDpvW4IdQk3_"
   },
   "source": [
    "## Training Time!"
   ]
  },
  {
   "cell_type": "code",
   "execution_count": 80,
   "metadata": {
    "colab": {
     "base_uri": "https://localhost:8080/",
     "height": 34
    },
    "colab_type": "code",
    "id": "05JIqXwDQk4A",
    "outputId": "f894313a-8236-4411-b1d9-15ec01d51baf"
   },
   "outputs": [
    {
     "data": {
      "text/plain": [
       "2"
      ]
     },
     "execution_count": 80,
     "metadata": {},
     "output_type": "execute_result"
    }
   ],
   "source": [
    "Config.train_batch_size"
   ]
  },
  {
   "cell_type": "code",
   "execution_count": 81,
   "metadata": {
    "colab": {
     "base_uri": "https://localhost:8080/",
     "height": 34
    },
    "colab_type": "code",
    "id": "H8ZkgBRLQk4F",
    "outputId": "12915f0c-b638-49aa-9498-67669f2a00f6"
   },
   "outputs": [
    {
     "data": {
      "text/plain": [
       "233"
      ]
     },
     "execution_count": 81,
     "metadata": {},
     "output_type": "execute_result"
    }
   ],
   "source": [
    "len(train_dataloader)"
   ]
  },
  {
   "cell_type": "code",
   "execution_count": 82,
   "metadata": {
    "colab": {},
    "colab_type": "code",
    "id": "6mfW9qT9Qk4H"
   },
   "outputs": [],
   "source": [
    "net = SiameseNetwork().to(device)\n",
    "criterion = CrossEntropyLoss().to(device)\n",
    "optimizer = optim.Adam(net.parameters(), lr = 0.001)"
   ]
  },
  {
   "cell_type": "code",
   "execution_count": 83,
   "metadata": {
    "colab": {
     "base_uri": "https://localhost:8080/",
     "height": 306
    },
    "colab_type": "code",
    "id": "0Qz7VvkpQk4K",
    "outputId": "a13da395-8b14-4753-c962-483e1993d130"
   },
   "outputs": [
    {
     "data": {
      "text/plain": [
       "SiameseNetwork(\n",
       "  (cnn1): Sequential(\n",
       "    (0): ReflectionPad2d((1, 1, 1, 1))\n",
       "    (1): Conv2d(1, 4, kernel_size=(3, 3), stride=(1, 1))\n",
       "    (2): ReLU(inplace=True)\n",
       "    (3): BatchNorm2d(4, eps=1e-05, momentum=0.1, affine=True, track_running_stats=True)\n",
       "    (4): ReflectionPad2d((1, 1, 1, 1))\n",
       "    (5): Conv2d(4, 8, kernel_size=(3, 3), stride=(1, 1))\n",
       "    (6): ReLU(inplace=True)\n",
       "    (7): BatchNorm2d(8, eps=1e-05, momentum=0.1, affine=True, track_running_stats=True)\n",
       "  )\n",
       "  (fc1): Sequential(\n",
       "    (0): Linear(in_features=412232, out_features=512, bias=True)\n",
       "    (1): ReLU(inplace=True)\n",
       "  )\n",
       "  (fc2): Linear(in_features=512, out_features=2, bias=True)\n",
       ")"
      ]
     },
     "execution_count": 83,
     "metadata": {},
     "output_type": "execute_result"
    }
   ],
   "source": [
    "net"
   ]
  },
  {
   "cell_type": "code",
   "execution_count": 84,
   "metadata": {
    "colab": {},
    "colab_type": "code",
    "id": "Jfa5xrqvQk4M"
   },
   "outputs": [],
   "source": [
    "counter = []\n",
    "loss_history = [] \n",
    "iteration_number= 0"
   ]
  },
  {
   "cell_type": "code",
   "execution_count": 85,
   "metadata": {
    "colab": {},
    "colab_type": "code",
    "id": "D5MnyPKtQk4U"
   },
   "outputs": [],
   "source": [
    "def train(model, device, train_loader, epoch):\n",
    "    model.train()\n",
    "    losses = []\n",
    "    accurate_labels = 0\n",
    "    all_labels = 0\n",
    "    len_train_loader = len(train_loader)\n",
    "    for batch_idx, (data0, data1, label) in enumerate(tqdm.tqdm(train_loader)): #tqdm.tqdm(train_loader)\n",
    "        data0, data1, label = data0.to(device), data1.to(device), label.to(device)\n",
    "        optimizer.zero_grad()\n",
    "        \n",
    "        out = model(data0, data1)\n",
    "        loss_function = criterion(out, label)\n",
    "        losses.append(loss_function.item())\n",
    "        loss_function.backward()\n",
    "        \n",
    "        optimizer.step()\n",
    "        \n",
    "        accurate_labels += torch.sum(torch.argmax(out, dim=1) == label).cpu()\n",
    "        all_labels += len(label)\n",
    "            \n",
    "        if batch_idx % 20 == 0:\n",
    "            print('Train Epoch: {} [{}/{} ({:.0f}%)]\\tLoss: {:.6f}\\tTrain Accuracy: {:.6f}'.format(\n",
    "                epoch, (batch_idx+1) * len(data0), len(train_loader.dataset),\n",
    "                100. * (batch_idx+1) / len(train_loader), loss_function.item(),\n",
    "                (100. * accurate_labels / all_labels)))\n",
    "    train_loss = np.mean(losses)\n",
    "    train_accuracy = 100. * accurate_labels / all_labels\n",
    "    print('\\nTrain set: Average loss = {:.4f}, Train Accuracy = {:.4f}\\n'.format(train_loss, train_accuracy))\n",
    "    return train_loss, train_accuracy"
   ]
  },
  {
   "cell_type": "code",
   "execution_count": 86,
   "metadata": {
    "colab": {},
    "colab_type": "code",
    "id": "RuZHfCbfQk4Y"
   },
   "outputs": [],
   "source": [
    "folder_dataset_test = dset.ImageFolder(root=Config.testing_dir)\n",
    "siamese_dataset = SiameseNetworkDataset(imageFolderDataset=folder_dataset_test,\n",
    "                                        transform=transforms.Compose([#transforms.Resize((100,100)),\n",
    "                                                                      transforms.ToTensor()\n",
    "                                                                      ])\n",
    "                                       ,should_invert=False)\n",
    "\n",
    "test_dataloader = DataLoader(siamese_dataset, batch_size=256, shuffle=False, **kwargs)"
   ]
  },
  {
   "cell_type": "code",
   "execution_count": 87,
   "metadata": {
    "colab": {},
    "colab_type": "code",
    "id": "7QaW5QGhQk4a"
   },
   "outputs": [],
   "source": [
    "def test(model, device, test_loader):\n",
    "    model.eval()\n",
    "    accurate_labels = 0\n",
    "    all_labels = 0\n",
    "    losses = []\n",
    "    with torch.no_grad():\n",
    "        for batch_idx, (data0, data1, label) in enumerate(tqdm.tqdm(test_loader)):\n",
    "            data0, data1, label = data0.to(device), data1.to(device), label.to(device)\n",
    "            out = model(data0, data1)\n",
    "            #import pdb; pdb.set_trace()\n",
    "            loss_function = criterion(out, label)\n",
    "            losses.append(loss_function.item())\n",
    "\n",
    "            accurate_labels += torch.sum(torch.argmax(out, dim=1) == label).cpu()\n",
    "            all_labels += len(label)\n",
    "    test_loss = np.mean(losses)\n",
    "    test_accuracy = 100. * accurate_labels / all_labels\n",
    "    print('\\nTest set: Average loss = {:.4f}, Test Accuracy = {:.4f}\\n'.format(test_loss, test_accuracy))\n",
    "    return test_loss, test_accuracy"
   ]
  },
  {
   "cell_type": "code",
   "execution_count": 88,
   "metadata": {
    "colab": {},
    "colab_type": "code",
    "id": "7z3oR9dWQk4c"
   },
   "outputs": [],
   "source": [
    "EPOCHS = 50"
   ]
  },
  {
   "cell_type": "code",
   "execution_count": 91,
   "metadata": {
    "colab": {},
    "colab_type": "code",
    "id": "fAtlqGj2Qk4d"
   },
   "outputs": [],
   "source": [
    "import tqdm\n",
    "import time"
   ]
  },
  {
   "cell_type": "code",
   "execution_count": 92,
   "metadata": {
    "colab": {
     "base_uri": "https://localhost:8080/",
     "height": 34
    },
    "colab_type": "code",
    "id": "yqPEhndjQk4f",
    "outputId": "c1c6f58d-a0f0-465e-d8cd-5f7469f35aa7"
   },
   "outputs": [
    {
     "data": {
      "text/plain": [
       "device(type='cpu')"
      ]
     },
     "execution_count": 92,
     "metadata": {},
     "output_type": "execute_result"
    }
   ],
   "source": [
    "device = torch.device('cuda' if torch.cuda.is_available() else 'cpu')\n",
    "device"
   ]
  },
  {
   "cell_type": "code",
   "execution_count": 93,
   "metadata": {
    "colab": {
     "base_uri": "https://localhost:8080/",
     "height": 34
    },
    "colab_type": "code",
    "id": "rv8eFKN3Qk4h",
    "outputId": "eb4a2372-d8e4-4c95-fcbd-cc64eb55adfb"
   },
   "outputs": [
    {
     "data": {
      "text/plain": [
       "2"
      ]
     },
     "execution_count": 93,
     "metadata": {},
     "output_type": "execute_result"
    }
   ],
   "source": [
    "len(test_dataloader)"
   ]
  },
  {
   "cell_type": "code",
   "execution_count": 94,
   "metadata": {
    "colab": {
     "base_uri": "https://localhost:8080/",
     "height": 34
    },
    "colab_type": "code",
    "id": "tUBEIr4AQk4j",
    "outputId": "596b7ba7-d8d8-4474-e6a9-807edeb849d4"
   },
   "outputs": [
    {
     "data": {
      "text/plain": [
       "233"
      ]
     },
     "execution_count": 94,
     "metadata": {},
     "output_type": "execute_result"
    }
   ],
   "source": [
    "len(train_dataloader)"
   ]
  },
  {
   "cell_type": "code",
   "execution_count": 95,
   "metadata": {
    "colab": {
     "base_uri": "https://localhost:8080/",
     "height": 1000
    },
    "colab_type": "code",
    "id": "TMD-AGM3Qk4m",
    "outputId": "2b27bf2e-d8d1-45d8-e479-ac59504c7ee0"
   },
   "outputs": [
    {
     "name": "stderr",
     "output_type": "stream",
     "text": [
      "100%|██████████| 2/2 [00:22<00:00, 11.28s/it]"
     ]
    },
    {
     "name": "stdout",
     "output_type": "stream",
     "text": [
      "\n",
      "Test set: Average loss = 0.6933, Test Accuracy = 49.6774\n",
      "\n"
     ]
    },
    {
     "name": "stderr",
     "output_type": "stream",
     "text": [
      "\n"
     ]
    },
    {
     "data": {
      "text/plain": [
       "(0.6933451890945435, tensor(49.6774))"
      ]
     },
     "execution_count": 95,
     "metadata": {},
     "output_type": "execute_result"
    }
   ],
   "source": [
    "test(net, device, test_dataloader)"
   ]
  },
  {
   "cell_type": "code",
   "execution_count": 0,
   "metadata": {
    "colab": {
     "base_uri": "https://localhost:8080/",
     "height": 1000
    },
    "colab_type": "code",
    "id": "WahFL4RiQk4q",
    "outputId": "b7308404-f09d-494b-f25a-28a9b36365ea"
   },
   "outputs": [
    {
     "name": "stderr",
     "output_type": "stream",
     "text": [
      "\r",
      "  0%|          | 0/215 [00:00<?, ?it/s]"
     ]
    },
    {
     "name": "stdout",
     "output_type": "stream",
     "text": [
      "Epoch number:  0\n",
      "\n",
      "Training:\n"
     ]
    },
    {
     "name": "stderr",
     "output_type": "stream",
     "text": [
      "\r",
      "  0%|          | 1/215 [03:20<11:54:06, 200.22s/it]"
     ]
    },
    {
     "name": "stdout",
     "output_type": "stream",
     "text": [
      "Train Epoch: 0 [256/54863 (0%)]\tLoss: 0.701044\tTrain Accuracy: 51.171875\n"
     ]
    },
    {
     "name": "stderr",
     "output_type": "stream",
     "text": [
      " 10%|▉         | 21/215 [29:27<4:27:10, 82.63s/it]"
     ]
    },
    {
     "name": "stdout",
     "output_type": "stream",
     "text": [
      "Train Epoch: 0 [5376/54863 (10%)]\tLoss: 3.231353\tTrain Accuracy: 61.421131\n"
     ]
    },
    {
     "name": "stderr",
     "output_type": "stream",
     "text": [
      " 19%|█▉        | 41/215 [51:01<3:32:17, 73.20s/it]"
     ]
    },
    {
     "name": "stdout",
     "output_type": "stream",
     "text": [
      "Train Epoch: 0 [10496/54863 (19%)]\tLoss: 2.224010\tTrain Accuracy: 63.567074\n"
     ]
    },
    {
     "name": "stderr",
     "output_type": "stream",
     "text": [
      " 28%|██▊       | 61/215 [1:08:49<2:32:12, 59.30s/it]"
     ]
    },
    {
     "name": "stdout",
     "output_type": "stream",
     "text": [
      "Train Epoch: 0 [15616/54863 (28%)]\tLoss: 0.859614\tTrain Accuracy: 65.573769\n"
     ]
    },
    {
     "name": "stderr",
     "output_type": "stream",
     "text": [
      " 38%|███▊      | 81/215 [1:23:14<1:45:19, 47.16s/it]"
     ]
    },
    {
     "name": "stdout",
     "output_type": "stream",
     "text": [
      "Train Epoch: 0 [20736/54863 (38%)]\tLoss: 0.759258\tTrain Accuracy: 67.211609\n"
     ]
    },
    {
     "name": "stderr",
     "output_type": "stream",
     "text": [
      " 47%|████▋     | 101/215 [1:35:21<1:15:31, 39.75s/it]"
     ]
    },
    {
     "name": "stdout",
     "output_type": "stream",
     "text": [
      "Train Epoch: 0 [25856/54863 (47%)]\tLoss: 0.612861\tTrain Accuracy: 68.537285\n"
     ]
    },
    {
     "name": "stderr",
     "output_type": "stream",
     "text": [
      " 56%|█████▋    | 121/215 [1:45:27<52:38, 33.60s/it]"
     ]
    },
    {
     "name": "stdout",
     "output_type": "stream",
     "text": [
      "Train Epoch: 0 [30976/54863 (56%)]\tLoss: 0.522496\tTrain Accuracy: 69.983215\n"
     ]
    },
    {
     "name": "stderr",
     "output_type": "stream",
     "text": [
      " 66%|██████▌   | 141/215 [1:54:03<34:13, 27.75s/it]"
     ]
    },
    {
     "name": "stdout",
     "output_type": "stream",
     "text": [
      "Train Epoch: 0 [36096/54863 (66%)]\tLoss: 0.391625\tTrain Accuracy: 71.395721\n"
     ]
    },
    {
     "name": "stderr",
     "output_type": "stream",
     "text": [
      " 75%|███████▍  | 161/215 [2:01:36<21:25, 23.81s/it]"
     ]
    },
    {
     "name": "stdout",
     "output_type": "stream",
     "text": [
      "Train Epoch: 0 [41216/54863 (75%)]\tLoss: 0.516778\tTrain Accuracy: 72.726608\n"
     ]
    },
    {
     "name": "stderr",
     "output_type": "stream",
     "text": [
      " 84%|████████▍ | 181/215 [2:07:59<11:27, 20.22s/it]"
     ]
    },
    {
     "name": "stdout",
     "output_type": "stream",
     "text": [
      "Train Epoch: 0 [46336/54863 (84%)]\tLoss: 0.365414\tTrain Accuracy: 73.836754\n"
     ]
    },
    {
     "name": "stderr",
     "output_type": "stream",
     "text": [
      " 93%|█████████▎| 201/215 [2:13:14<03:53, 16.65s/it]"
     ]
    },
    {
     "name": "stdout",
     "output_type": "stream",
     "text": [
      "Train Epoch: 0 [51456/54863 (93%)]\tLoss: 0.351161\tTrain Accuracy: 74.821205\n"
     ]
    },
    {
     "name": "stderr",
     "output_type": "stream",
     "text": [
      "100%|██████████| 215/215 [2:15:52<00:00,  8.96s/it]\n",
      "  0%|          | 0/55 [00:00<?, ?it/s]"
     ]
    },
    {
     "name": "stdout",
     "output_type": "stream",
     "text": [
      "\n",
      "Train set: Average loss = 1.3348, Train Accuracy = 75.3969\n",
      "\n",
      "\n",
      "Testing:\n"
     ]
    },
    {
     "name": "stderr",
     "output_type": "stream",
     "text": [
      "100%|██████████| 55/55 [34:39<00:00, 37.81s/it]\n"
     ]
    },
    {
     "name": "stdout",
     "output_type": "stream",
     "text": [
      "\n",
      "Test set: Average loss = 0.5135, Test Accuracy = 78.3876\n",
      "\n"
     ]
    },
    {
     "name": "stderr",
     "output_type": "stream",
     "text": [
      "\r",
      "  0%|          | 0/215 [00:00<?, ?it/s]"
     ]
    },
    {
     "name": "stdout",
     "output_type": "stream",
     "text": [
      "Time taken for running epoch 0 is 10236.168 seconds.\n",
      "\n",
      "\n",
      "Epoch number:  1\n",
      "\n",
      "Training:\n"
     ]
    },
    {
     "name": "stderr",
     "output_type": "stream",
     "text": [
      "\r",
      "  0%|          | 1/215 [00:28<1:40:28, 28.17s/it]"
     ]
    },
    {
     "name": "stdout",
     "output_type": "stream",
     "text": [
      "Train Epoch: 1 [256/54863 (0%)]\tLoss: 0.290471\tTrain Accuracy: 87.500000\n"
     ]
    },
    {
     "name": "stderr",
     "output_type": "stream",
     "text": [
      " 10%|▉         | 21/215 [04:19<36:55, 11.42s/it]"
     ]
    },
    {
     "name": "stdout",
     "output_type": "stream",
     "text": [
      "Train Epoch: 1 [5376/54863 (10%)]\tLoss: 0.335392\tTrain Accuracy: 85.342262\n"
     ]
    },
    {
     "name": "stderr",
     "output_type": "stream",
     "text": [
      " 19%|█▉        | 41/215 [07:34<23:11,  8.00s/it]"
     ]
    },
    {
     "name": "stdout",
     "output_type": "stream",
     "text": [
      "Train Epoch: 1 [10496/54863 (19%)]\tLoss: 0.334344\tTrain Accuracy: 85.489708\n"
     ]
    },
    {
     "name": "stderr",
     "output_type": "stream",
     "text": [
      " 28%|██▊       | 61/215 [10:20<17:49,  6.94s/it]"
     ]
    },
    {
     "name": "stdout",
     "output_type": "stream",
     "text": [
      "Train Epoch: 1 [15616/54863 (28%)]\tLoss: 0.276616\tTrain Accuracy: 85.495644\n"
     ]
    },
    {
     "name": "stderr",
     "output_type": "stream",
     "text": [
      " 38%|███▊      | 81/215 [12:46<14:41,  6.58s/it]"
     ]
    },
    {
     "name": "stdout",
     "output_type": "stream",
     "text": [
      "Train Epoch: 1 [20736/54863 (38%)]\tLoss: 0.337728\tTrain Accuracy: 85.667435\n"
     ]
    },
    {
     "name": "stderr",
     "output_type": "stream",
     "text": [
      " 47%|████▋     | 101/215 [14:48<10:58,  5.77s/it]"
     ]
    },
    {
     "name": "stdout",
     "output_type": "stream",
     "text": [
      "Train Epoch: 1 [25856/54863 (47%)]\tLoss: 0.364119\tTrain Accuracy: 85.829208\n"
     ]
    },
    {
     "name": "stderr",
     "output_type": "stream",
     "text": [
      " 56%|█████▋    | 121/215 [16:52<06:56,  4.43s/it]"
     ]
    },
    {
     "name": "stdout",
     "output_type": "stream",
     "text": [
      "Train Epoch: 1 [30976/54863 (56%)]\tLoss: 0.266493\tTrain Accuracy: 85.818054\n"
     ]
    },
    {
     "name": "stderr",
     "output_type": "stream",
     "text": [
      " 66%|██████▌   | 141/215 [18:31<05:27,  4.43s/it]"
     ]
    },
    {
     "name": "stdout",
     "output_type": "stream",
     "text": [
      "Train Epoch: 1 [36096/54863 (66%)]\tLoss: 0.263538\tTrain Accuracy: 85.973518\n"
     ]
    },
    {
     "name": "stderr",
     "output_type": "stream",
     "text": [
      " 75%|███████▍  | 161/215 [19:50<03:03,  3.40s/it]"
     ]
    },
    {
     "name": "stdout",
     "output_type": "stream",
     "text": [
      "Train Epoch: 1 [41216/54863 (75%)]\tLoss: 0.334007\tTrain Accuracy: 86.172844\n"
     ]
    },
    {
     "name": "stderr",
     "output_type": "stream",
     "text": [
      " 84%|████████▍ | 181/215 [21:01<01:57,  3.47s/it]"
     ]
    },
    {
     "name": "stdout",
     "output_type": "stream",
     "text": [
      "Train Epoch: 1 [46336/54863 (84%)]\tLoss: 0.265939\tTrain Accuracy: 86.336754\n"
     ]
    },
    {
     "name": "stderr",
     "output_type": "stream",
     "text": [
      " 93%|█████████▎| 201/215 [22:04<00:42,  3.07s/it]"
     ]
    },
    {
     "name": "stdout",
     "output_type": "stream",
     "text": [
      "Train Epoch: 1 [51456/54863 (93%)]\tLoss: 0.294000\tTrain Accuracy: 86.450562\n"
     ]
    },
    {
     "name": "stderr",
     "output_type": "stream",
     "text": [
      "100%|██████████| 215/215 [22:46<00:00,  2.52s/it]\n",
      "  0%|          | 0/55 [00:00<?, ?it/s]"
     ]
    },
    {
     "name": "stdout",
     "output_type": "stream",
     "text": [
      "\n",
      "Train set: Average loss = 0.3246, Train Accuracy = 86.5647\n",
      "\n",
      "\n",
      "Testing:\n"
     ]
    },
    {
     "name": "stderr",
     "output_type": "stream",
     "text": [
      "100%|██████████| 55/55 [05:44<00:00,  6.26s/it]\n"
     ]
    },
    {
     "name": "stdout",
     "output_type": "stream",
     "text": [
      "\n",
      "Test set: Average loss = 0.5280, Test Accuracy = 80.8532\n",
      "\n"
     ]
    },
    {
     "name": "stderr",
     "output_type": "stream",
     "text": [
      "\r",
      "  0%|          | 0/215 [00:00<?, ?it/s]"
     ]
    },
    {
     "name": "stdout",
     "output_type": "stream",
     "text": [
      "Time taken for running epoch 1 is 1714.207 seconds.\n",
      "\n",
      "\n",
      "Epoch number:  2\n",
      "\n",
      "Training:\n"
     ]
    },
    {
     "name": "stderr",
     "output_type": "stream",
     "text": [
      "\r",
      "  0%|          | 1/215 [00:07<28:18,  7.94s/it]"
     ]
    },
    {
     "name": "stdout",
     "output_type": "stream",
     "text": [
      "Train Epoch: 2 [256/54863 (0%)]\tLoss: 0.325105\tTrain Accuracy: 86.718750\n"
     ]
    },
    {
     "name": "stderr",
     "output_type": "stream",
     "text": [
      " 10%|▉         | 21/215 [01:09<09:30,  2.94s/it]"
     ]
    },
    {
     "name": "stdout",
     "output_type": "stream",
     "text": [
      "Train Epoch: 2 [5376/54863 (10%)]\tLoss: 0.321361\tTrain Accuracy: 87.537201\n"
     ]
    },
    {
     "name": "stderr",
     "output_type": "stream",
     "text": [
      " 19%|█▉        | 41/215 [02:03<07:45,  2.68s/it]"
     ]
    },
    {
     "name": "stdout",
     "output_type": "stream",
     "text": [
      "Train Epoch: 2 [10496/54863 (19%)]\tLoss: 0.237743\tTrain Accuracy: 87.957314\n"
     ]
    },
    {
     "name": "stderr",
     "output_type": "stream",
     "text": [
      " 28%|██▊       | 61/215 [02:57<06:38,  2.58s/it]"
     ]
    },
    {
     "name": "stdout",
     "output_type": "stream",
     "text": [
      "Train Epoch: 2 [15616/54863 (28%)]\tLoss: 0.364173\tTrain Accuracy: 88.230019\n"
     ]
    },
    {
     "name": "stderr",
     "output_type": "stream",
     "text": [
      " 38%|███▊      | 81/215 [03:42<04:52,  2.18s/it]"
     ]
    },
    {
     "name": "stdout",
     "output_type": "stream",
     "text": [
      "Train Epoch: 2 [20736/54863 (38%)]\tLoss: 0.281983\tTrain Accuracy: 88.387344\n"
     ]
    },
    {
     "name": "stderr",
     "output_type": "stream",
     "text": [
      " 47%|████▋     | 101/215 [04:29<04:25,  2.33s/it]"
     ]
    },
    {
     "name": "stdout",
     "output_type": "stream",
     "text": [
      "Train Epoch: 2 [25856/54863 (47%)]\tLoss: 0.278942\tTrain Accuracy: 88.590652\n"
     ]
    },
    {
     "name": "stderr",
     "output_type": "stream",
     "text": [
      " 56%|█████▋    | 121/215 [05:18<03:57,  2.53s/it]"
     ]
    },
    {
     "name": "stdout",
     "output_type": "stream",
     "text": [
      "Train Epoch: 2 [30976/54863 (56%)]\tLoss: 0.280247\tTrain Accuracy: 88.665421\n"
     ]
    },
    {
     "name": "stderr",
     "output_type": "stream",
     "text": [
      " 66%|██████▌   | 141/215 [05:58<02:28,  2.01s/it]"
     ]
    },
    {
     "name": "stdout",
     "output_type": "stream",
     "text": [
      "Train Epoch: 2 [36096/54863 (66%)]\tLoss: 0.321508\tTrain Accuracy: 88.671875\n"
     ]
    },
    {
     "name": "stderr",
     "output_type": "stream",
     "text": [
      " 75%|███████▍  | 161/215 [06:40<02:03,  2.29s/it]"
     ]
    },
    {
     "name": "stdout",
     "output_type": "stream",
     "text": [
      "Train Epoch: 2 [41216/54863 (75%)]\tLoss: 0.209545\tTrain Accuracy: 88.727676\n"
     ]
    },
    {
     "name": "stderr",
     "output_type": "stream",
     "text": [
      " 84%|████████▍ | 181/215 [07:19<01:04,  1.88s/it]"
     ]
    },
    {
     "name": "stdout",
     "output_type": "stream",
     "text": [
      "Train Epoch: 2 [46336/54863 (84%)]\tLoss: 0.304656\tTrain Accuracy: 88.730148\n"
     ]
    },
    {
     "name": "stderr",
     "output_type": "stream",
     "text": [
      " 93%|█████████▎| 201/215 [07:56<00:25,  1.80s/it]"
     ]
    },
    {
     "name": "stdout",
     "output_type": "stream",
     "text": [
      "Train Epoch: 2 [51456/54863 (93%)]\tLoss: 0.308561\tTrain Accuracy: 88.848724\n"
     ]
    },
    {
     "name": "stderr",
     "output_type": "stream",
     "text": [
      "100%|██████████| 215/215 [08:22<00:00,  1.50s/it]\n",
      "  0%|          | 0/55 [00:00<?, ?it/s]"
     ]
    },
    {
     "name": "stdout",
     "output_type": "stream",
     "text": [
      "\n",
      "Train set: Average loss = 0.2827, Train Accuracy = 88.8741\n",
      "\n",
      "\n",
      "Testing:\n"
     ]
    },
    {
     "name": "stderr",
     "output_type": "stream",
     "text": [
      "100%|██████████| 55/55 [01:51<00:00,  2.02s/it]\n"
     ]
    },
    {
     "name": "stdout",
     "output_type": "stream",
     "text": [
      "\n",
      "Test set: Average loss = 0.5616, Test Accuracy = 81.4678\n",
      "\n"
     ]
    },
    {
     "name": "stderr",
     "output_type": "stream",
     "text": [
      "\r",
      "  0%|          | 0/215 [00:00<?, ?it/s]"
     ]
    },
    {
     "name": "stdout",
     "output_type": "stream",
     "text": [
      "Time taken for running epoch 2 is 617.124 seconds.\n",
      "\n",
      "\n",
      "Epoch number:  3\n",
      "\n",
      "Training:\n"
     ]
    },
    {
     "name": "stderr",
     "output_type": "stream",
     "text": [
      "\r",
      "  0%|          | 1/215 [00:05<17:56,  5.03s/it]"
     ]
    },
    {
     "name": "stdout",
     "output_type": "stream",
     "text": [
      "Train Epoch: 3 [256/54863 (0%)]\tLoss: 0.304283\tTrain Accuracy: 88.281250\n"
     ]
    },
    {
     "name": "stderr",
     "output_type": "stream",
     "text": [
      " 10%|▉         | 21/215 [00:47<06:25,  1.99s/it]"
     ]
    },
    {
     "name": "stdout",
     "output_type": "stream",
     "text": [
      "Train Epoch: 3 [5376/54863 (10%)]\tLoss: 0.273944\tTrain Accuracy: 89.825150\n"
     ]
    },
    {
     "name": "stderr",
     "output_type": "stream",
     "text": [
      " 19%|█▉        | 41/215 [01:28<05:43,  1.97s/it]"
     ]
    },
    {
     "name": "stdout",
     "output_type": "stream",
     "text": [
      "Train Epoch: 3 [10496/54863 (19%)]\tLoss: 0.211078\tTrain Accuracy: 89.853279\n"
     ]
    },
    {
     "name": "stderr",
     "output_type": "stream",
     "text": [
      " 28%|██▊       | 61/215 [02:08<05:05,  1.98s/it]"
     ]
    },
    {
     "name": "stdout",
     "output_type": "stream",
     "text": [
      "Train Epoch: 3 [15616/54863 (28%)]\tLoss: 0.336167\tTrain Accuracy: 90.221565\n"
     ]
    },
    {
     "name": "stderr",
     "output_type": "stream",
     "text": [
      " 38%|███▊      | 81/215 [02:48<04:06,  1.84s/it]"
     ]
    },
    {
     "name": "stdout",
     "output_type": "stream",
     "text": [
      "Train Epoch: 3 [20736/54863 (38%)]\tLoss: 0.212841\tTrain Accuracy: 90.499611\n"
     ]
    },
    {
     "name": "stderr",
     "output_type": "stream",
     "text": [
      " 47%|████▋     | 101/215 [03:27<03:43,  1.96s/it]"
     ]
    },
    {
     "name": "stdout",
     "output_type": "stream",
     "text": [
      "Train Epoch: 3 [25856/54863 (47%)]\tLoss: 0.234489\tTrain Accuracy: 90.659805\n"
     ]
    },
    {
     "name": "stderr",
     "output_type": "stream",
     "text": [
      " 56%|█████▋    | 121/215 [04:04<03:02,  1.94s/it]"
     ]
    },
    {
     "name": "stdout",
     "output_type": "stream",
     "text": [
      "Train Epoch: 3 [30976/54863 (56%)]\tLoss: 0.264090\tTrain Accuracy: 90.602402\n"
     ]
    },
    {
     "name": "stderr",
     "output_type": "stream",
     "text": [
      " 66%|██████▌   | 141/215 [04:42<02:29,  2.02s/it]"
     ]
    },
    {
     "name": "stdout",
     "output_type": "stream",
     "text": [
      "Train Epoch: 3 [36096/54863 (66%)]\tLoss: 0.213623\tTrain Accuracy: 90.605606\n"
     ]
    },
    {
     "name": "stderr",
     "output_type": "stream",
     "text": [
      " 75%|███████▍  | 161/215 [05:19<01:38,  1.82s/it]"
     ]
    },
    {
     "name": "stdout",
     "output_type": "stream",
     "text": [
      "Train Epoch: 3 [41216/54863 (75%)]\tLoss: 0.239315\tTrain Accuracy: 90.649261\n"
     ]
    },
    {
     "name": "stderr",
     "output_type": "stream",
     "text": [
      " 84%|████████▍ | 181/215 [05:56<01:03,  1.87s/it]"
     ]
    },
    {
     "name": "stdout",
     "output_type": "stream",
     "text": [
      "Train Epoch: 3 [46336/54863 (84%)]\tLoss: 0.331392\tTrain Accuracy: 90.625000\n"
     ]
    },
    {
     "name": "stderr",
     "output_type": "stream",
     "text": [
      " 93%|█████████▎| 201/215 [06:30<00:24,  1.74s/it]"
     ]
    },
    {
     "name": "stdout",
     "output_type": "stream",
     "text": [
      "Train Epoch: 3 [51456/54863 (93%)]\tLoss: 0.206228\tTrain Accuracy: 90.582245\n"
     ]
    },
    {
     "name": "stderr",
     "output_type": "stream",
     "text": [
      "100%|██████████| 215/215 [06:54<00:00,  1.42s/it]\n",
      "  0%|          | 0/55 [00:00<?, ?it/s]"
     ]
    },
    {
     "name": "stdout",
     "output_type": "stream",
     "text": [
      "\n",
      "Train set: Average loss = 0.2379, Train Accuracy = 90.6677\n",
      "\n",
      "\n",
      "Testing:\n"
     ]
    },
    {
     "name": "stderr",
     "output_type": "stream",
     "text": [
      "100%|██████████| 55/55 [01:29<00:00,  1.62s/it]\n"
     ]
    },
    {
     "name": "stdout",
     "output_type": "stream",
     "text": [
      "\n",
      "Test set: Average loss = 0.5594, Test Accuracy = 82.0390\n",
      "\n"
     ]
    },
    {
     "name": "stderr",
     "output_type": "stream",
     "text": [
      "\r",
      "  0%|          | 0/215 [00:00<?, ?it/s]"
     ]
    },
    {
     "name": "stdout",
     "output_type": "stream",
     "text": [
      "Time taken for running epoch 3 is 507.622 seconds.\n",
      "\n",
      "\n",
      "Epoch number:  4\n",
      "\n",
      "Training:\n"
     ]
    },
    {
     "name": "stderr",
     "output_type": "stream",
     "text": [
      "\r",
      "  0%|          | 1/215 [00:05<19:31,  5.47s/it]"
     ]
    },
    {
     "name": "stdout",
     "output_type": "stream",
     "text": [
      "Train Epoch: 4 [256/54863 (0%)]\tLoss: 0.151786\tTrain Accuracy: 95.312500\n"
     ]
    },
    {
     "name": "stderr",
     "output_type": "stream",
     "text": [
      " 10%|▉         | 21/215 [00:46<06:37,  2.05s/it]"
     ]
    },
    {
     "name": "stdout",
     "output_type": "stream",
     "text": [
      "Train Epoch: 4 [5376/54863 (10%)]\tLoss: 0.231355\tTrain Accuracy: 91.350449\n"
     ]
    },
    {
     "name": "stderr",
     "output_type": "stream",
     "text": [
      " 19%|█▉        | 41/215 [01:25<05:34,  1.92s/it]"
     ]
    },
    {
     "name": "stdout",
     "output_type": "stream",
     "text": [
      "Train Epoch: 4 [10496/54863 (19%)]\tLoss: 0.218345\tTrain Accuracy: 91.291924\n"
     ]
    },
    {
     "name": "stderr",
     "output_type": "stream",
     "text": [
      " 28%|██▊       | 61/215 [02:04<04:50,  1.89s/it]"
     ]
    },
    {
     "name": "stdout",
     "output_type": "stream",
     "text": [
      "Train Epoch: 4 [15616/54863 (28%)]\tLoss: 0.202255\tTrain Accuracy: 91.387039\n"
     ]
    },
    {
     "name": "stderr",
     "output_type": "stream",
     "text": [
      " 38%|███▊      | 81/215 [02:42<04:05,  1.83s/it]"
     ]
    },
    {
     "name": "stdout",
     "output_type": "stream",
     "text": [
      "Train Epoch: 4 [20736/54863 (38%)]\tLoss: 0.258800\tTrain Accuracy: 91.589508\n"
     ]
    },
    {
     "name": "stderr",
     "output_type": "stream",
     "text": [
      " 47%|████▋     | 101/215 [03:19<03:26,  1.81s/it]"
     ]
    },
    {
     "name": "stdout",
     "output_type": "stream",
     "text": [
      "Train Epoch: 4 [25856/54863 (47%)]\tLoss: 0.275579\tTrain Accuracy: 91.533882\n"
     ]
    },
    {
     "name": "stderr",
     "output_type": "stream",
     "text": [
      " 56%|█████▋    | 121/215 [03:57<02:55,  1.86s/it]"
     ]
    },
    {
     "name": "stdout",
     "output_type": "stream",
     "text": [
      "Train Epoch: 4 [30976/54863 (56%)]\tLoss: 0.202247\tTrain Accuracy: 91.467590\n"
     ]
    },
    {
     "name": "stderr",
     "output_type": "stream",
     "text": [
      " 66%|██████▌   | 141/215 [04:33<02:11,  1.77s/it]"
     ]
    },
    {
     "name": "stdout",
     "output_type": "stream",
     "text": [
      "Train Epoch: 4 [36096/54863 (66%)]\tLoss: 0.240530\tTrain Accuracy: 91.469971\n"
     ]
    },
    {
     "name": "stderr",
     "output_type": "stream",
     "text": [
      " 75%|███████▍  | 161/215 [05:10<01:33,  1.74s/it]"
     ]
    },
    {
     "name": "stdout",
     "output_type": "stream",
     "text": [
      "Train Epoch: 4 [41216/54863 (75%)]\tLoss: 0.300874\tTrain Accuracy: 91.515434\n"
     ]
    },
    {
     "name": "stderr",
     "output_type": "stream",
     "text": [
      " 84%|████████▍ | 181/215 [05:45<01:00,  1.77s/it]"
     ]
    },
    {
     "name": "stdout",
     "output_type": "stream",
     "text": [
      "Train Epoch: 4 [46336/54863 (84%)]\tLoss: 0.237736\tTrain Accuracy: 91.326401\n"
     ]
    },
    {
     "name": "stderr",
     "output_type": "stream",
     "text": [
      " 93%|█████████▎| 201/215 [06:22<00:24,  1.78s/it]"
     ]
    },
    {
     "name": "stdout",
     "output_type": "stream",
     "text": [
      "Train Epoch: 4 [51456/54863 (93%)]\tLoss: 0.176825\tTrain Accuracy: 91.396530\n"
     ]
    },
    {
     "name": "stderr",
     "output_type": "stream",
     "text": [
      "100%|██████████| 215/215 [06:45<00:00,  1.33s/it]\n",
      "  0%|          | 0/55 [00:00<?, ?it/s]"
     ]
    },
    {
     "name": "stdout",
     "output_type": "stream",
     "text": [
      "\n",
      "Train set: Average loss = 0.2267, Train Accuracy = 91.4314\n",
      "\n",
      "\n",
      "Testing:\n"
     ]
    },
    {
     "name": "stderr",
     "output_type": "stream",
     "text": [
      "100%|██████████| 55/55 [01:26<00:00,  1.58s/it]\n"
     ]
    },
    {
     "name": "stdout",
     "output_type": "stream",
     "text": [
      "\n",
      "Test set: Average loss = 0.5844, Test Accuracy = 82.1258\n",
      "\n"
     ]
    },
    {
     "name": "stderr",
     "output_type": "stream",
     "text": [
      "\r",
      "  0%|          | 0/215 [00:00<?, ?it/s]"
     ]
    },
    {
     "name": "stdout",
     "output_type": "stream",
     "text": [
      "Time taken for running epoch 4 is 496.620 seconds.\n",
      "\n",
      "\n",
      "Epoch number:  5\n",
      "\n",
      "Training:\n"
     ]
    },
    {
     "name": "stderr",
     "output_type": "stream",
     "text": [
      "\r",
      "  0%|          | 1/215 [00:05<18:37,  5.22s/it]"
     ]
    },
    {
     "name": "stdout",
     "output_type": "stream",
     "text": [
      "Train Epoch: 5 [256/54863 (0%)]\tLoss: 0.210613\tTrain Accuracy: 91.015625\n"
     ]
    },
    {
     "name": "stderr",
     "output_type": "stream",
     "text": [
      " 10%|▉         | 21/215 [00:46<06:21,  1.97s/it]"
     ]
    },
    {
     "name": "stdout",
     "output_type": "stream",
     "text": [
      "Train Epoch: 5 [5376/54863 (10%)]\tLoss: 0.163488\tTrain Accuracy: 91.964287\n"
     ]
    },
    {
     "name": "stderr",
     "output_type": "stream",
     "text": [
      " 19%|█▉        | 41/215 [01:25<05:58,  2.06s/it]"
     ]
    },
    {
     "name": "stdout",
     "output_type": "stream",
     "text": [
      "Train Epoch: 5 [10496/54863 (19%)]\tLoss: 0.254854\tTrain Accuracy: 91.072792\n"
     ]
    },
    {
     "name": "stderr",
     "output_type": "stream",
     "text": [
      " 28%|██▊       | 61/215 [02:04<05:14,  2.04s/it]"
     ]
    },
    {
     "name": "stdout",
     "output_type": "stream",
     "text": [
      "Train Epoch: 5 [15616/54863 (28%)]\tLoss: 0.233552\tTrain Accuracy: 90.983604\n"
     ]
    },
    {
     "name": "stderr",
     "output_type": "stream",
     "text": [
      " 38%|███▊      | 81/215 [02:43<04:31,  2.03s/it]"
     ]
    },
    {
     "name": "stdout",
     "output_type": "stream",
     "text": [
      "Train Epoch: 5 [20736/54863 (38%)]\tLoss: 0.199016\tTrain Accuracy: 91.290512\n"
     ]
    },
    {
     "name": "stderr",
     "output_type": "stream",
     "text": [
      " 47%|████▋     | 101/215 [03:21<03:38,  1.92s/it]"
     ]
    },
    {
     "name": "stdout",
     "output_type": "stream",
     "text": [
      "Train Epoch: 5 [25856/54863 (47%)]\tLoss: 0.158324\tTrain Accuracy: 91.448792\n"
     ]
    },
    {
     "name": "stderr",
     "output_type": "stream",
     "text": [
      " 56%|█████▋    | 121/215 [03:59<02:57,  1.88s/it]"
     ]
    },
    {
     "name": "stdout",
     "output_type": "stream",
     "text": [
      "Train Epoch: 5 [30976/54863 (56%)]\tLoss: 0.185705\tTrain Accuracy: 91.593491\n"
     ]
    },
    {
     "name": "stderr",
     "output_type": "stream",
     "text": [
      " 66%|██████▌   | 141/215 [04:36<02:21,  1.92s/it]"
     ]
    },
    {
     "name": "stdout",
     "output_type": "stream",
     "text": [
      "Train Epoch: 5 [36096/54863 (66%)]\tLoss: 0.207221\tTrain Accuracy: 91.594635\n"
     ]
    },
    {
     "name": "stderr",
     "output_type": "stream",
     "text": [
      " 75%|███████▍  | 161/215 [05:13<01:41,  1.88s/it]"
     ]
    },
    {
     "name": "stdout",
     "output_type": "stream",
     "text": [
      "Train Epoch: 5 [41216/54863 (75%)]\tLoss: 0.121153\tTrain Accuracy: 91.772614\n"
     ]
    },
    {
     "name": "stderr",
     "output_type": "stream",
     "text": [
      " 84%|████████▍ | 181/215 [05:49<01:03,  1.87s/it]"
     ]
    },
    {
     "name": "stdout",
     "output_type": "stream",
     "text": [
      "Train Epoch: 5 [46336/54863 (84%)]\tLoss: 0.207673\tTrain Accuracy: 91.814140\n"
     ]
    },
    {
     "name": "stderr",
     "output_type": "stream",
     "text": [
      " 93%|█████████▎| 201/215 [06:25<00:26,  1.90s/it]"
     ]
    },
    {
     "name": "stdout",
     "output_type": "stream",
     "text": [
      "Train Epoch: 5 [51456/54863 (93%)]\tLoss: 0.239062\tTrain Accuracy: 91.824081\n"
     ]
    },
    {
     "name": "stderr",
     "output_type": "stream",
     "text": [
      "100%|██████████| 215/215 [06:49<00:00,  1.38s/it]\n",
      "  0%|          | 0/55 [00:00<?, ?it/s]"
     ]
    },
    {
     "name": "stdout",
     "output_type": "stream",
     "text": [
      "\n",
      "Train set: Average loss = 0.2168, Train Accuracy = 91.8925\n",
      "\n",
      "\n",
      "Testing:\n"
     ]
    },
    {
     "name": "stderr",
     "output_type": "stream",
     "text": [
      "100%|██████████| 55/55 [01:25<00:00,  1.56s/it]\n"
     ]
    },
    {
     "name": "stdout",
     "output_type": "stream",
     "text": [
      "\n",
      "Test set: Average loss = 0.6879, Test Accuracy = 82.0607\n",
      "\n"
     ]
    },
    {
     "name": "stderr",
     "output_type": "stream",
     "text": [
      "\r",
      "  0%|          | 0/215 [00:00<?, ?it/s]"
     ]
    },
    {
     "name": "stdout",
     "output_type": "stream",
     "text": [
      "Time taken for running epoch 5 is 499.714 seconds.\n",
      "\n",
      "\n",
      "Epoch number:  6\n",
      "\n",
      "Training:\n"
     ]
    },
    {
     "name": "stderr",
     "output_type": "stream",
     "text": [
      "\r",
      "  0%|          | 1/215 [00:05<18:30,  5.19s/it]"
     ]
    },
    {
     "name": "stdout",
     "output_type": "stream",
     "text": [
      "Train Epoch: 6 [256/54863 (0%)]\tLoss: 0.213466\tTrain Accuracy: 92.187500\n"
     ]
    },
    {
     "name": "stderr",
     "output_type": "stream",
     "text": [
      " 10%|▉         | 21/215 [00:46<06:36,  2.04s/it]"
     ]
    },
    {
     "name": "stdout",
     "output_type": "stream",
     "text": [
      "Train Epoch: 6 [5376/54863 (10%)]\tLoss: 0.638511\tTrain Accuracy: 88.169640\n"
     ]
    },
    {
     "name": "stderr",
     "output_type": "stream",
     "text": [
      " 19%|█▉        | 41/215 [01:26<05:53,  2.03s/it]"
     ]
    },
    {
     "name": "stdout",
     "output_type": "stream",
     "text": [
      "Train Epoch: 6 [10496/54863 (19%)]\tLoss: 0.264440\tTrain Accuracy: 89.643677\n"
     ]
    },
    {
     "name": "stderr",
     "output_type": "stream",
     "text": [
      " 28%|██▊       | 61/215 [02:05<05:02,  1.97s/it]"
     ]
    },
    {
     "name": "stdout",
     "output_type": "stream",
     "text": [
      "Train Epoch: 6 [15616/54863 (28%)]\tLoss: 0.191185\tTrain Accuracy: 90.298409\n"
     ]
    },
    {
     "name": "stderr",
     "output_type": "stream",
     "text": [
      " 38%|███▊      | 81/215 [02:44<04:26,  1.99s/it]"
     ]
    },
    {
     "name": "stdout",
     "output_type": "stream",
     "text": [
      "Train Epoch: 6 [20736/54863 (38%)]\tLoss: 0.179311\tTrain Accuracy: 90.832367\n"
     ]
    },
    {
     "name": "stderr",
     "output_type": "stream",
     "text": [
      " 47%|████▋     | 101/215 [03:22<03:38,  1.92s/it]"
     ]
    },
    {
     "name": "stdout",
     "output_type": "stream",
     "text": [
      "Train Epoch: 6 [25856/54863 (47%)]\tLoss: 0.229962\tTrain Accuracy: 90.992416\n"
     ]
    },
    {
     "name": "stderr",
     "output_type": "stream",
     "text": [
      " 56%|█████▋    | 121/215 [03:59<02:59,  1.91s/it]"
     ]
    },
    {
     "name": "stdout",
     "output_type": "stream",
     "text": [
      "Train Epoch: 6 [30976/54863 (56%)]\tLoss: 0.223161\tTrain Accuracy: 91.170586\n"
     ]
    },
    {
     "name": "stderr",
     "output_type": "stream",
     "text": [
      " 66%|██████▌   | 141/215 [04:36<02:21,  1.91s/it]"
     ]
    },
    {
     "name": "stdout",
     "output_type": "stream",
     "text": [
      "Train Epoch: 6 [36096/54863 (66%)]\tLoss: 0.271351\tTrain Accuracy: 91.342529\n"
     ]
    },
    {
     "name": "stderr",
     "output_type": "stream",
     "text": [
      " 75%|███████▍  | 161/215 [05:13<01:40,  1.87s/it]"
     ]
    },
    {
     "name": "stdout",
     "output_type": "stream",
     "text": [
      "Train Epoch: 6 [41216/54863 (75%)]\tLoss: 0.227124\tTrain Accuracy: 91.563957\n"
     ]
    },
    {
     "name": "stderr",
     "output_type": "stream",
     "text": [
      " 84%|████████▍ | 181/215 [05:50<01:03,  1.88s/it]"
     ]
    },
    {
     "name": "stdout",
     "output_type": "stream",
     "text": [
      "Train Epoch: 6 [46336/54863 (84%)]\tLoss: 0.156256\tTrain Accuracy: 91.766663\n"
     ]
    },
    {
     "name": "stderr",
     "output_type": "stream",
     "text": [
      " 93%|█████████▎| 201/215 [06:26<00:26,  1.86s/it]"
     ]
    },
    {
     "name": "stdout",
     "output_type": "stream",
     "text": [
      "Train Epoch: 6 [51456/54863 (93%)]\tLoss: 0.250224\tTrain Accuracy: 91.917366\n"
     ]
    },
    {
     "name": "stderr",
     "output_type": "stream",
     "text": [
      "100%|██████████| 215/215 [06:49<00:00,  1.36s/it]\n",
      "  0%|          | 0/55 [00:00<?, ?it/s]"
     ]
    },
    {
     "name": "stdout",
     "output_type": "stream",
     "text": [
      "\n",
      "Train set: Average loss = 0.2219, Train Accuracy = 91.9891\n",
      "\n",
      "\n",
      "Testing:\n"
     ]
    },
    {
     "name": "stderr",
     "output_type": "stream",
     "text": [
      "100%|██████████| 55/55 [01:26<00:00,  1.57s/it]\n"
     ]
    },
    {
     "name": "stdout",
     "output_type": "stream",
     "text": [
      "\n",
      "Test set: Average loss = 0.6658, Test Accuracy = 81.7281\n",
      "\n"
     ]
    },
    {
     "name": "stderr",
     "output_type": "stream",
     "text": [
      "\r",
      "  0%|          | 0/215 [00:00<?, ?it/s]"
     ]
    },
    {
     "name": "stdout",
     "output_type": "stream",
     "text": [
      "Time taken for running epoch 6 is 499.733 seconds.\n",
      "\n",
      "\n",
      "Epoch number:  7\n",
      "\n",
      "Training:\n"
     ]
    },
    {
     "name": "stderr",
     "output_type": "stream",
     "text": [
      "\r",
      "  0%|          | 1/215 [00:05<18:54,  5.30s/it]"
     ]
    },
    {
     "name": "stdout",
     "output_type": "stream",
     "text": [
      "Train Epoch: 7 [256/54863 (0%)]\tLoss: 0.189585\tTrain Accuracy: 91.796875\n"
     ]
    },
    {
     "name": "stderr",
     "output_type": "stream",
     "text": [
      " 10%|▉         | 21/215 [00:46<06:35,  2.04s/it]"
     ]
    },
    {
     "name": "stdout",
     "output_type": "stream",
     "text": [
      "Train Epoch: 7 [5376/54863 (10%)]\tLoss: 0.240325\tTrain Accuracy: 93.563988\n"
     ]
    },
    {
     "name": "stderr",
     "output_type": "stream",
     "text": [
      " 19%|█▉        | 41/215 [01:25<05:53,  2.03s/it]"
     ]
    },
    {
     "name": "stdout",
     "output_type": "stream",
     "text": [
      "Train Epoch: 7 [10496/54863 (19%)]\tLoss: 0.200548\tTrain Accuracy: 92.959221\n"
     ]
    },
    {
     "name": "stderr",
     "output_type": "stream",
     "text": [
      " 28%|██▊       | 61/215 [02:05<05:14,  2.04s/it]"
     ]
    },
    {
     "name": "stdout",
     "output_type": "stream",
     "text": [
      "Train Epoch: 7 [15616/54863 (28%)]\tLoss: 0.177769\tTrain Accuracy: 92.866287\n"
     ]
    },
    {
     "name": "stderr",
     "output_type": "stream",
     "text": [
      " 38%|███▊      | 81/215 [02:44<04:32,  2.03s/it]"
     ]
    },
    {
     "name": "stdout",
     "output_type": "stream",
     "text": [
      "Train Epoch: 7 [20736/54863 (38%)]\tLoss: 0.196975\tTrain Accuracy: 93.079666\n"
     ]
    },
    {
     "name": "stderr",
     "output_type": "stream",
     "text": [
      " 47%|████▋     | 101/215 [03:22<03:45,  1.98s/it]"
     ]
    },
    {
     "name": "stdout",
     "output_type": "stream",
     "text": [
      "Train Epoch: 7 [25856/54863 (47%)]\tLoss: 0.185240\tTrain Accuracy: 93.073174\n"
     ]
    },
    {
     "name": "stderr",
     "output_type": "stream",
     "text": [
      " 56%|█████▋    | 121/215 [04:00<03:02,  1.94s/it]"
     ]
    },
    {
     "name": "stdout",
     "output_type": "stream",
     "text": [
      "Train Epoch: 7 [30976/54863 (56%)]\tLoss: 0.180983\tTrain Accuracy: 93.149536\n"
     ]
    },
    {
     "name": "stderr",
     "output_type": "stream",
     "text": [
      " 66%|██████▌   | 141/215 [04:37<02:17,  1.86s/it]"
     ]
    },
    {
     "name": "stdout",
     "output_type": "stream",
     "text": [
      "Train Epoch: 7 [36096/54863 (66%)]\tLoss: 0.152034\tTrain Accuracy: 93.279037\n"
     ]
    },
    {
     "name": "stderr",
     "output_type": "stream",
     "text": [
      " 75%|███████▍  | 161/215 [05:13<01:42,  1.90s/it]"
     ]
    },
    {
     "name": "stdout",
     "output_type": "stream",
     "text": [
      "Train Epoch: 7 [41216/54863 (75%)]\tLoss: 0.164887\tTrain Accuracy: 93.371506\n"
     ]
    },
    {
     "name": "stderr",
     "output_type": "stream",
     "text": [
      " 84%|████████▍ | 181/215 [05:50<01:05,  1.91s/it]"
     ]
    },
    {
     "name": "stdout",
     "output_type": "stream",
     "text": [
      "Train Epoch: 7 [46336/54863 (84%)]\tLoss: 0.193172\tTrain Accuracy: 93.376640\n"
     ]
    },
    {
     "name": "stderr",
     "output_type": "stream",
     "text": [
      " 93%|█████████▎| 201/215 [06:26<00:26,  1.88s/it]"
     ]
    },
    {
     "name": "stdout",
     "output_type": "stream",
     "text": [
      "Train Epoch: 7 [51456/54863 (93%)]\tLoss: 0.118442\tTrain Accuracy: 93.421562\n"
     ]
    },
    {
     "name": "stderr",
     "output_type": "stream",
     "text": [
      "100%|██████████| 215/215 [06:50<00:00,  1.44s/it]\n",
      "  0%|          | 0/55 [00:00<?, ?it/s]"
     ]
    },
    {
     "name": "stdout",
     "output_type": "stream",
     "text": [
      "\n",
      "Train set: Average loss = 0.1776, Train Accuracy = 93.4473\n",
      "\n",
      "\n",
      "Testing:\n"
     ]
    },
    {
     "name": "stderr",
     "output_type": "stream",
     "text": [
      "100%|██████████| 55/55 [01:26<00:00,  1.58s/it]\n"
     ]
    },
    {
     "name": "stdout",
     "output_type": "stream",
     "text": [
      "\n",
      "Test set: Average loss = 0.7404, Test Accuracy = 82.7187\n",
      "\n"
     ]
    },
    {
     "name": "stderr",
     "output_type": "stream",
     "text": [
      "\r",
      "  0%|          | 0/215 [00:00<?, ?it/s]"
     ]
    },
    {
     "name": "stdout",
     "output_type": "stream",
     "text": [
      "Time taken for running epoch 7 is 501.882 seconds.\n",
      "\n",
      "\n",
      "Epoch number:  8\n",
      "\n",
      "Training:\n"
     ]
    },
    {
     "name": "stderr",
     "output_type": "stream",
     "text": [
      "\r",
      "  0%|          | 1/215 [00:04<17:47,  4.99s/it]"
     ]
    },
    {
     "name": "stdout",
     "output_type": "stream",
     "text": [
      "Train Epoch: 8 [256/54863 (0%)]\tLoss: 0.210335\tTrain Accuracy: 93.359375\n"
     ]
    },
    {
     "name": "stderr",
     "output_type": "stream",
     "text": [
      " 10%|▉         | 21/215 [00:47<06:46,  2.09s/it]"
     ]
    },
    {
     "name": "stdout",
     "output_type": "stream",
     "text": [
      "Train Epoch: 8 [5376/54863 (10%)]\tLoss: 0.222846\tTrain Accuracy: 93.377975\n"
     ]
    },
    {
     "name": "stderr",
     "output_type": "stream",
     "text": [
      " 19%|█▉        | 41/215 [01:27<06:02,  2.08s/it]"
     ]
    },
    {
     "name": "stdout",
     "output_type": "stream",
     "text": [
      "Train Epoch: 8 [10496/54863 (19%)]\tLoss: 0.204984\tTrain Accuracy: 93.426064\n"
     ]
    },
    {
     "name": "stderr",
     "output_type": "stream",
     "text": [
      " 28%|██▊       | 61/215 [02:07<05:17,  2.06s/it]"
     ]
    },
    {
     "name": "stdout",
     "output_type": "stream",
     "text": [
      "Train Epoch: 8 [15616/54863 (28%)]\tLoss: 0.167355\tTrain Accuracy: 93.455429\n"
     ]
    },
    {
     "name": "stderr",
     "output_type": "stream",
     "text": [
      " 38%|███▊      | 81/215 [02:45<04:31,  2.03s/it]"
     ]
    },
    {
     "name": "stdout",
     "output_type": "stream",
     "text": [
      "Train Epoch: 8 [20736/54863 (38%)]\tLoss: 0.155382\tTrain Accuracy: 93.634262\n"
     ]
    },
    {
     "name": "stderr",
     "output_type": "stream",
     "text": [
      " 47%|████▋     | 101/215 [03:24<03:47,  2.00s/it]"
     ]
    },
    {
     "name": "stdout",
     "output_type": "stream",
     "text": [
      "Train Epoch: 8 [25856/54863 (47%)]\tLoss: 0.249739\tTrain Accuracy: 93.541153\n"
     ]
    },
    {
     "name": "stderr",
     "output_type": "stream",
     "text": [
      " 56%|█████▋    | 121/215 [04:01<03:02,  1.94s/it]"
     ]
    },
    {
     "name": "stdout",
     "output_type": "stream",
     "text": [
      "Train Epoch: 8 [30976/54863 (56%)]\tLoss: 0.176069\tTrain Accuracy: 93.485275\n"
     ]
    },
    {
     "name": "stderr",
     "output_type": "stream",
     "text": [
      " 66%|██████▌   | 141/215 [04:38<02:20,  1.89s/it]"
     ]
    },
    {
     "name": "stdout",
     "output_type": "stream",
     "text": [
      "Train Epoch: 8 [36096/54863 (66%)]\tLoss: 0.139646\tTrain Accuracy: 93.641953\n"
     ]
    },
    {
     "name": "stderr",
     "output_type": "stream",
     "text": [
      " 75%|███████▍  | 161/215 [05:15<01:41,  1.88s/it]"
     ]
    },
    {
     "name": "stdout",
     "output_type": "stream",
     "text": [
      "Train Epoch: 8 [41216/54863 (75%)]\tLoss: 0.118506\tTrain Accuracy: 93.662659\n"
     ]
    },
    {
     "name": "stderr",
     "output_type": "stream",
     "text": [
      " 84%|████████▍ | 181/215 [05:51<01:05,  1.93s/it]"
     ]
    },
    {
     "name": "stdout",
     "output_type": "stream",
     "text": [
      "Train Epoch: 8 [46336/54863 (84%)]\tLoss: 0.117760\tTrain Accuracy: 93.708992\n"
     ]
    },
    {
     "name": "stderr",
     "output_type": "stream",
     "text": [
      " 93%|█████████▎| 201/215 [06:28<00:26,  1.88s/it]"
     ]
    },
    {
     "name": "stdout",
     "output_type": "stream",
     "text": [
      "Train Epoch: 8 [51456/54863 (93%)]\tLoss: 0.139571\tTrain Accuracy: 93.779152\n"
     ]
    },
    {
     "name": "stderr",
     "output_type": "stream",
     "text": [
      "100%|██████████| 215/215 [06:52<00:00,  1.40s/it]\n",
      "  0%|          | 0/55 [00:00<?, ?it/s]"
     ]
    },
    {
     "name": "stdout",
     "output_type": "stream",
     "text": [
      "\n",
      "Train set: Average loss = 0.1658, Train Accuracy = 93.8356\n",
      "\n",
      "\n",
      "Testing:\n"
     ]
    },
    {
     "name": "stderr",
     "output_type": "stream",
     "text": [
      "100%|██████████| 55/55 [01:27<00:00,  1.60s/it]\n"
     ]
    },
    {
     "name": "stdout",
     "output_type": "stream",
     "text": [
      "\n",
      "Test set: Average loss = 0.7675, Test Accuracy = 82.5886\n",
      "\n"
     ]
    },
    {
     "name": "stderr",
     "output_type": "stream",
     "text": [
      "\r",
      "  0%|          | 0/215 [00:00<?, ?it/s]"
     ]
    },
    {
     "name": "stdout",
     "output_type": "stream",
     "text": [
      "Time taken for running epoch 8 is 504.524 seconds.\n",
      "\n",
      "\n",
      "Epoch number:  9\n",
      "\n",
      "Training:\n"
     ]
    },
    {
     "name": "stderr",
     "output_type": "stream",
     "text": [
      "\r",
      "  0%|          | 1/215 [00:05<18:40,  5.23s/it]"
     ]
    },
    {
     "name": "stdout",
     "output_type": "stream",
     "text": [
      "Train Epoch: 9 [256/54863 (0%)]\tLoss: 0.227705\tTrain Accuracy: 92.187500\n"
     ]
    },
    {
     "name": "stderr",
     "output_type": "stream",
     "text": [
      " 10%|▉         | 21/215 [00:47<06:47,  2.10s/it]"
     ]
    },
    {
     "name": "stdout",
     "output_type": "stream",
     "text": [
      "Train Epoch: 9 [5376/54863 (10%)]\tLoss: 0.236992\tTrain Accuracy: 94.066223\n"
     ]
    },
    {
     "name": "stderr",
     "output_type": "stream",
     "text": [
      " 19%|█▉        | 41/215 [01:27<06:10,  2.13s/it]"
     ]
    },
    {
     "name": "stdout",
     "output_type": "stream",
     "text": [
      "Train Epoch: 9 [10496/54863 (19%)]\tLoss: 0.136643\tTrain Accuracy: 94.674164\n"
     ]
    },
    {
     "name": "stderr",
     "output_type": "stream",
     "text": [
      " 28%|██▊       | 61/215 [02:08<05:24,  2.11s/it]"
     ]
    },
    {
     "name": "stdout",
     "output_type": "stream",
     "text": [
      "Train Epoch: 9 [15616/54863 (28%)]\tLoss: 0.239720\tTrain Accuracy: 94.422386\n"
     ]
    },
    {
     "name": "stderr",
     "output_type": "stream",
     "text": [
      " 38%|███▊      | 81/215 [02:47<04:29,  2.01s/it]"
     ]
    },
    {
     "name": "stdout",
     "output_type": "stream",
     "text": [
      "Train Epoch: 9 [20736/54863 (38%)]\tLoss: 0.102527\tTrain Accuracy: 94.352814\n"
     ]
    },
    {
     "name": "stderr",
     "output_type": "stream",
     "text": [
      " 47%|████▋     | 101/215 [03:26<03:46,  1.99s/it]"
     ]
    },
    {
     "name": "stdout",
     "output_type": "stream",
     "text": [
      "Train Epoch: 9 [25856/54863 (47%)]\tLoss: 0.115548\tTrain Accuracy: 94.287590\n"
     ]
    },
    {
     "name": "stderr",
     "output_type": "stream",
     "text": [
      " 56%|█████▋    | 121/215 [04:04<03:05,  1.98s/it]"
     ]
    },
    {
     "name": "stdout",
     "output_type": "stream",
     "text": [
      "Train Epoch: 9 [30976/54863 (56%)]\tLoss: 0.144300\tTrain Accuracy: 94.334320\n"
     ]
    },
    {
     "name": "stderr",
     "output_type": "stream",
     "text": [
      " 66%|██████▌   | 141/215 [04:42<02:18,  1.87s/it]"
     ]
    },
    {
     "name": "stdout",
     "output_type": "stream",
     "text": [
      "Train Epoch: 9 [36096/54863 (66%)]\tLoss: 0.165907\tTrain Accuracy: 94.434288\n"
     ]
    },
    {
     "name": "stderr",
     "output_type": "stream",
     "text": [
      " 75%|███████▍  | 161/215 [05:19<01:45,  1.96s/it]"
     ]
    },
    {
     "name": "stdout",
     "output_type": "stream",
     "text": [
      "Train Epoch: 9 [41216/54863 (75%)]\tLoss: 0.218706\tTrain Accuracy: 94.451187\n"
     ]
    },
    {
     "name": "stderr",
     "output_type": "stream",
     "text": [
      " 84%|████████▍ | 181/215 [05:56<01:03,  1.86s/it]"
     ]
    },
    {
     "name": "stdout",
     "output_type": "stream",
     "text": [
      "Train Epoch: 9 [46336/54863 (84%)]\tLoss: 0.166959\tTrain Accuracy: 94.444923\n"
     ]
    },
    {
     "name": "stderr",
     "output_type": "stream",
     "text": [
      " 93%|█████████▎| 201/215 [06:33<00:26,  1.86s/it]"
     ]
    },
    {
     "name": "stdout",
     "output_type": "stream",
     "text": [
      "Train Epoch: 9 [51456/54863 (93%)]\tLoss: 0.134461\tTrain Accuracy: 94.529305\n"
     ]
    },
    {
     "name": "stderr",
     "output_type": "stream",
     "text": [
      "100%|██████████| 215/215 [06:56<00:00,  1.40s/it]\n",
      "  0%|          | 0/55 [00:00<?, ?it/s]"
     ]
    },
    {
     "name": "stdout",
     "output_type": "stream",
     "text": [
      "\n",
      "Train set: Average loss = 0.1503, Train Accuracy = 94.5373\n",
      "\n",
      "\n",
      "Testing:\n"
     ]
    },
    {
     "name": "stderr",
     "output_type": "stream",
     "text": [
      "100%|██████████| 55/55 [01:27<00:00,  1.59s/it]\n"
     ]
    },
    {
     "name": "stdout",
     "output_type": "stream",
     "text": [
      "\n",
      "Test set: Average loss = 0.6285, Test Accuracy = 82.8344\n",
      "\n"
     ]
    },
    {
     "name": "stderr",
     "output_type": "stream",
     "text": [
      "\r",
      "  0%|          | 0/215 [00:00<?, ?it/s]"
     ]
    },
    {
     "name": "stdout",
     "output_type": "stream",
     "text": [
      "Time taken for running epoch 9 is 508.389 seconds.\n",
      "\n",
      "\n",
      "Epoch number:  10\n",
      "\n",
      "Training:\n"
     ]
    },
    {
     "name": "stderr",
     "output_type": "stream",
     "text": [
      "\r",
      "  0%|          | 1/215 [00:05<18:40,  5.24s/it]"
     ]
    },
    {
     "name": "stdout",
     "output_type": "stream",
     "text": [
      "Train Epoch: 10 [256/54863 (0%)]\tLoss: 0.203263\tTrain Accuracy: 92.187500\n"
     ]
    },
    {
     "name": "stderr",
     "output_type": "stream",
     "text": [
      " 10%|▉         | 21/215 [00:47<06:45,  2.09s/it]"
     ]
    },
    {
     "name": "stdout",
     "output_type": "stream",
     "text": [
      "Train Epoch: 10 [5376/54863 (10%)]\tLoss: 0.112874\tTrain Accuracy: 94.401039\n"
     ]
    },
    {
     "name": "stderr",
     "output_type": "stream",
     "text": [
      " 19%|█▉        | 41/215 [01:28<05:48,  2.00s/it]"
     ]
    },
    {
     "name": "stdout",
     "output_type": "stream",
     "text": [
      "Train Epoch: 10 [10496/54863 (19%)]\tLoss: 0.202120\tTrain Accuracy: 94.683685\n"
     ]
    },
    {
     "name": "stderr",
     "output_type": "stream",
     "text": [
      " 28%|██▊       | 61/215 [02:07<05:13,  2.03s/it]"
     ]
    },
    {
     "name": "stdout",
     "output_type": "stream",
     "text": [
      "Train Epoch: 10 [15616/54863 (28%)]\tLoss: 0.165563\tTrain Accuracy: 94.889854\n"
     ]
    },
    {
     "name": "stderr",
     "output_type": "stream",
     "text": [
      " 38%|███▊      | 81/215 [02:46<04:27,  2.00s/it]"
     ]
    },
    {
     "name": "stdout",
     "output_type": "stream",
     "text": [
      "Train Epoch: 10 [20736/54863 (38%)]\tLoss: 0.141254\tTrain Accuracy: 94.883293\n"
     ]
    },
    {
     "name": "stderr",
     "output_type": "stream",
     "text": [
      " 47%|████▋     | 101/215 [03:25<03:44,  1.97s/it]"
     ]
    },
    {
     "name": "stdout",
     "output_type": "stream",
     "text": [
      "Train Epoch: 10 [25856/54863 (47%)]\tLoss: 0.153118\tTrain Accuracy: 94.902534\n"
     ]
    },
    {
     "name": "stderr",
     "output_type": "stream",
     "text": [
      " 56%|█████▋    | 121/215 [04:02<03:00,  1.92s/it]"
     ]
    },
    {
     "name": "stdout",
     "output_type": "stream",
     "text": [
      "Train Epoch: 10 [30976/54863 (56%)]\tLoss: 0.064054\tTrain Accuracy: 94.873451\n"
     ]
    },
    {
     "name": "stderr",
     "output_type": "stream",
     "text": [
      " 66%|██████▌   | 141/215 [04:40<02:21,  1.91s/it]"
     ]
    },
    {
     "name": "stdout",
     "output_type": "stream",
     "text": [
      "Train Epoch: 10 [36096/54863 (66%)]\tLoss: 0.168894\tTrain Accuracy: 94.927414\n"
     ]
    },
    {
     "name": "stderr",
     "output_type": "stream",
     "text": [
      " 75%|███████▍  | 161/215 [05:16<01:37,  1.81s/it]"
     ]
    },
    {
     "name": "stdout",
     "output_type": "stream",
     "text": [
      "Train Epoch: 10 [41216/54863 (75%)]\tLoss: 0.095933\tTrain Accuracy: 94.829681\n"
     ]
    },
    {
     "name": "stderr",
     "output_type": "stream",
     "text": [
      " 84%|████████▍ | 181/215 [05:52<01:01,  1.81s/it]"
     ]
    },
    {
     "name": "stdout",
     "output_type": "stream",
     "text": [
      "Train Epoch: 10 [46336/54863 (84%)]\tLoss: 0.154784\tTrain Accuracy: 94.820442\n"
     ]
    },
    {
     "name": "stderr",
     "output_type": "stream",
     "text": [
      " 93%|█████████▎| 201/215 [06:28<00:26,  1.87s/it]"
     ]
    },
    {
     "name": "stdout",
     "output_type": "stream",
     "text": [
      "Train Epoch: 10 [51456/54863 (93%)]\tLoss: 0.163038\tTrain Accuracy: 94.768349\n"
     ]
    },
    {
     "name": "stderr",
     "output_type": "stream",
     "text": [
      "100%|██████████| 215/215 [06:52<00:00,  1.42s/it]\n",
      "  0%|          | 0/55 [00:00<?, ?it/s]"
     ]
    },
    {
     "name": "stdout",
     "output_type": "stream",
     "text": [
      "\n",
      "Train set: Average loss = 0.1438, Train Accuracy = 94.7469\n",
      "\n",
      "\n",
      "Testing:\n"
     ]
    },
    {
     "name": "stderr",
     "output_type": "stream",
     "text": [
      "100%|██████████| 55/55 [01:25<00:00,  1.56s/it]\n"
     ]
    },
    {
     "name": "stdout",
     "output_type": "stream",
     "text": [
      "\n",
      "Test set: Average loss = 0.7566, Test Accuracy = 83.0224\n",
      "\n"
     ]
    },
    {
     "name": "stderr",
     "output_type": "stream",
     "text": [
      "\r",
      "  0%|          | 0/215 [00:00<?, ?it/s]"
     ]
    },
    {
     "name": "stdout",
     "output_type": "stream",
     "text": [
      "Time taken for running epoch 10 is 502.718 seconds.\n",
      "\n",
      "\n",
      "Epoch number:  11\n",
      "\n",
      "Training:\n"
     ]
    },
    {
     "name": "stderr",
     "output_type": "stream",
     "text": [
      "\r",
      "  0%|          | 1/215 [00:05<18:28,  5.18s/it]"
     ]
    },
    {
     "name": "stdout",
     "output_type": "stream",
     "text": [
      "Train Epoch: 11 [256/54863 (0%)]\tLoss: 0.146576\tTrain Accuracy: 94.140625\n"
     ]
    },
    {
     "name": "stderr",
     "output_type": "stream",
     "text": [
      " 10%|▉         | 21/215 [00:46<06:54,  2.14s/it]"
     ]
    },
    {
     "name": "stdout",
     "output_type": "stream",
     "text": [
      "Train Epoch: 11 [5376/54863 (10%)]\tLoss: 0.177648\tTrain Accuracy: 94.010414\n"
     ]
    },
    {
     "name": "stderr",
     "output_type": "stream",
     "text": [
      " 19%|█▉        | 41/215 [01:26<06:02,  2.08s/it]"
     ]
    },
    {
     "name": "stdout",
     "output_type": "stream",
     "text": [
      "Train Epoch: 11 [10496/54863 (19%)]\tLoss: 0.133040\tTrain Accuracy: 94.378815\n"
     ]
    },
    {
     "name": "stderr",
     "output_type": "stream",
     "text": [
      " 28%|██▊       | 61/215 [02:06<05:18,  2.07s/it]"
     ]
    },
    {
     "name": "stdout",
     "output_type": "stream",
     "text": [
      "Train Epoch: 11 [15616/54863 (28%)]\tLoss: 0.171422\tTrain Accuracy: 94.300720\n"
     ]
    },
    {
     "name": "stderr",
     "output_type": "stream",
     "text": [
      " 38%|███▊      | 81/215 [02:44<04:27,  1.99s/it]"
     ]
    },
    {
     "name": "stdout",
     "output_type": "stream",
     "text": [
      "Train Epoch: 11 [20736/54863 (38%)]\tLoss: 0.112491\tTrain Accuracy: 94.463737\n"
     ]
    },
    {
     "name": "stderr",
     "output_type": "stream",
     "text": [
      " 47%|████▋     | 101/215 [03:23<03:44,  1.97s/it]"
     ]
    },
    {
     "name": "stdout",
     "output_type": "stream",
     "text": [
      "Train Epoch: 11 [25856/54863 (47%)]\tLoss: 0.135650\tTrain Accuracy: 94.566055\n"
     ]
    },
    {
     "name": "stderr",
     "output_type": "stream",
     "text": [
      " 56%|█████▋    | 121/215 [04:00<02:56,  1.88s/it]"
     ]
    },
    {
     "name": "stdout",
     "output_type": "stream",
     "text": [
      "Train Epoch: 11 [30976/54863 (56%)]\tLoss: 0.159990\tTrain Accuracy: 94.608727\n"
     ]
    },
    {
     "name": "stderr",
     "output_type": "stream",
     "text": [
      " 66%|██████▌   | 141/215 [04:38<02:23,  1.94s/it]"
     ]
    },
    {
     "name": "stdout",
     "output_type": "stream",
     "text": [
      "Train Epoch: 11 [36096/54863 (66%)]\tLoss: 0.117459\tTrain Accuracy: 94.703011\n"
     ]
    },
    {
     "name": "stderr",
     "output_type": "stream",
     "text": [
      " 75%|███████▍  | 161/215 [05:14<01:40,  1.87s/it]"
     ]
    },
    {
     "name": "stdout",
     "output_type": "stream",
     "text": [
      "Train Epoch: 11 [41216/54863 (75%)]\tLoss: 0.090364\tTrain Accuracy: 94.805412\n"
     ]
    },
    {
     "name": "stderr",
     "output_type": "stream",
     "text": [
      " 84%|████████▍ | 181/215 [05:50<01:01,  1.81s/it]"
     ]
    },
    {
     "name": "stdout",
     "output_type": "stream",
     "text": [
      "Train Epoch: 11 [46336/54863 (84%)]\tLoss: 0.113765\tTrain Accuracy: 94.803177\n"
     ]
    },
    {
     "name": "stderr",
     "output_type": "stream",
     "text": [
      " 93%|█████████▎| 201/215 [06:26<00:25,  1.81s/it]"
     ]
    },
    {
     "name": "stdout",
     "output_type": "stream",
     "text": [
      "Train Epoch: 11 [51456/54863 (93%)]\tLoss: 0.119808\tTrain Accuracy: 94.853859\n"
     ]
    },
    {
     "name": "stderr",
     "output_type": "stream",
     "text": [
      "100%|██████████| 215/215 [06:49<00:00,  1.40s/it]\n",
      "  0%|          | 0/55 [00:00<?, ?it/s]"
     ]
    },
    {
     "name": "stdout",
     "output_type": "stream",
     "text": [
      "\n",
      "Train set: Average loss = 0.1401, Train Accuracy = 94.8909\n",
      "\n",
      "\n",
      "Testing:\n"
     ]
    },
    {
     "name": "stderr",
     "output_type": "stream",
     "text": [
      "100%|██████████| 55/55 [01:26<00:00,  1.57s/it]\n"
     ]
    },
    {
     "name": "stdout",
     "output_type": "stream",
     "text": [
      "\n",
      "Test set: Average loss = 0.9019, Test Accuracy = 80.7520\n",
      "\n"
     ]
    },
    {
     "name": "stderr",
     "output_type": "stream",
     "text": [
      "\r",
      "  0%|          | 0/215 [00:00<?, ?it/s]"
     ]
    },
    {
     "name": "stdout",
     "output_type": "stream",
     "text": [
      "Time taken for running epoch 11 is 499.919 seconds.\n",
      "\n",
      "\n",
      "Epoch number:  12\n",
      "\n",
      "Training:\n"
     ]
    },
    {
     "name": "stderr",
     "output_type": "stream",
     "text": [
      "\r",
      "  0%|          | 1/215 [00:05<18:27,  5.18s/it]"
     ]
    },
    {
     "name": "stdout",
     "output_type": "stream",
     "text": [
      "Train Epoch: 12 [256/54863 (0%)]\tLoss: 0.146602\tTrain Accuracy: 93.359375\n"
     ]
    },
    {
     "name": "stderr",
     "output_type": "stream",
     "text": [
      " 10%|▉         | 21/215 [00:46<06:38,  2.05s/it]"
     ]
    },
    {
     "name": "stdout",
     "output_type": "stream",
     "text": [
      "Train Epoch: 12 [5376/54863 (10%)]\tLoss: 0.123577\tTrain Accuracy: 94.642860\n"
     ]
    },
    {
     "name": "stderr",
     "output_type": "stream",
     "text": [
      " 19%|█▉        | 41/215 [01:26<05:57,  2.05s/it]"
     ]
    },
    {
     "name": "stdout",
     "output_type": "stream",
     "text": [
      "Train Epoch: 12 [10496/54863 (19%)]\tLoss: 0.167716\tTrain Accuracy: 94.836128\n"
     ]
    },
    {
     "name": "stderr",
     "output_type": "stream",
     "text": [
      " 28%|██▊       | 61/215 [02:05<05:09,  2.01s/it]"
     ]
    },
    {
     "name": "stdout",
     "output_type": "stream",
     "text": [
      "Train Epoch: 12 [15616/54863 (28%)]\tLoss: 0.094582\tTrain Accuracy: 94.909065\n"
     ]
    },
    {
     "name": "stderr",
     "output_type": "stream",
     "text": [
      " 38%|███▊      | 81/215 [02:44<04:26,  1.99s/it]"
     ]
    },
    {
     "name": "stdout",
     "output_type": "stream",
     "text": [
      "Train Epoch: 12 [20736/54863 (38%)]\tLoss: 0.150458\tTrain Accuracy: 95.052086\n"
     ]
    },
    {
     "name": "stderr",
     "output_type": "stream",
     "text": [
      " 47%|████▋     | 101/215 [03:22<03:47,  1.99s/it]"
     ]
    },
    {
     "name": "stdout",
     "output_type": "stream",
     "text": [
      "Train Epoch: 12 [25856/54863 (47%)]\tLoss: 0.124936\tTrain Accuracy: 95.146194\n"
     ]
    },
    {
     "name": "stderr",
     "output_type": "stream",
     "text": [
      " 56%|█████▋    | 121/215 [03:59<02:59,  1.91s/it]"
     ]
    },
    {
     "name": "stdout",
     "output_type": "stream",
     "text": [
      "Train Epoch: 12 [30976/54863 (56%)]\tLoss: 0.160245\tTrain Accuracy: 95.199509\n"
     ]
    },
    {
     "name": "stderr",
     "output_type": "stream",
     "text": [
      " 66%|██████▌   | 141/215 [04:36<02:18,  1.87s/it]"
     ]
    },
    {
     "name": "stdout",
     "output_type": "stream",
     "text": [
      "Train Epoch: 12 [36096/54863 (66%)]\tLoss: 0.163043\tTrain Accuracy: 95.132423\n"
     ]
    },
    {
     "name": "stderr",
     "output_type": "stream",
     "text": [
      " 75%|███████▍  | 161/215 [05:13<01:41,  1.88s/it]"
     ]
    },
    {
     "name": "stdout",
     "output_type": "stream",
     "text": [
      "Train Epoch: 12 [41216/54863 (75%)]\tLoss: 0.167815\tTrain Accuracy: 95.132957\n"
     ]
    },
    {
     "name": "stderr",
     "output_type": "stream",
     "text": [
      " 84%|████████▍ | 181/215 [05:50<01:02,  1.85s/it]"
     ]
    },
    {
     "name": "stdout",
     "output_type": "stream",
     "text": [
      "Train Epoch: 12 [46336/54863 (84%)]\tLoss: 0.133663\tTrain Accuracy: 95.170059\n"
     ]
    },
    {
     "name": "stderr",
     "output_type": "stream",
     "text": [
      " 93%|█████████▎| 201/215 [06:26<00:25,  1.82s/it]"
     ]
    },
    {
     "name": "stdout",
     "output_type": "stream",
     "text": [
      "Train Epoch: 12 [51456/54863 (93%)]\tLoss: 0.233060\tTrain Accuracy: 95.190063\n"
     ]
    },
    {
     "name": "stderr",
     "output_type": "stream",
     "text": [
      "100%|██████████| 215/215 [06:49<00:00,  1.37s/it]\n",
      "  0%|          | 0/55 [00:00<?, ?it/s]"
     ]
    },
    {
     "name": "stdout",
     "output_type": "stream",
     "text": [
      "\n",
      "Train set: Average loss = 0.1326, Train Accuracy = 95.1953\n",
      "\n",
      "\n",
      "Testing:\n"
     ]
    },
    {
     "name": "stderr",
     "output_type": "stream",
     "text": [
      "100%|██████████| 55/55 [01:27<00:00,  1.59s/it]\n"
     ]
    },
    {
     "name": "stdout",
     "output_type": "stream",
     "text": [
      "\n",
      "Test set: Average loss = 0.8769, Test Accuracy = 80.7231\n",
      "\n"
     ]
    },
    {
     "name": "stderr",
     "output_type": "stream",
     "text": [
      "\r",
      "  0%|          | 0/215 [00:00<?, ?it/s]"
     ]
    },
    {
     "name": "stdout",
     "output_type": "stream",
     "text": [
      "Time taken for running epoch 12 is 501.533 seconds.\n",
      "\n",
      "\n",
      "Epoch number:  13\n",
      "\n",
      "Training:\n"
     ]
    },
    {
     "name": "stderr",
     "output_type": "stream",
     "text": [
      "\r",
      "  0%|          | 1/215 [00:05<18:00,  5.05s/it]"
     ]
    },
    {
     "name": "stdout",
     "output_type": "stream",
     "text": [
      "Train Epoch: 13 [256/54863 (0%)]\tLoss: 0.149662\tTrain Accuracy: 93.359375\n"
     ]
    },
    {
     "name": "stderr",
     "output_type": "stream",
     "text": [
      " 10%|▉         | 21/215 [00:46<06:33,  2.03s/it]"
     ]
    },
    {
     "name": "stdout",
     "output_type": "stream",
     "text": [
      "Train Epoch: 13 [5376/54863 (10%)]\tLoss: 0.107504\tTrain Accuracy: 95.703125\n"
     ]
    },
    {
     "name": "stderr",
     "output_type": "stream",
     "text": [
      " 19%|█▉        | 41/215 [01:26<05:56,  2.05s/it]"
     ]
    },
    {
     "name": "stdout",
     "output_type": "stream",
     "text": [
      "Train Epoch: 13 [10496/54863 (19%)]\tLoss: 0.086967\tTrain Accuracy: 95.560211\n"
     ]
    },
    {
     "name": "stderr",
     "output_type": "stream",
     "text": [
      " 28%|██▊       | 61/215 [02:06<05:17,  2.06s/it]"
     ]
    },
    {
     "name": "stdout",
     "output_type": "stream",
     "text": [
      "Train Epoch: 13 [15616/54863 (28%)]\tLoss: 0.132774\tTrain Accuracy: 95.312500\n"
     ]
    },
    {
     "name": "stderr",
     "output_type": "stream",
     "text": [
      " 38%|███▊      | 81/215 [02:45<04:23,  1.96s/it]"
     ]
    },
    {
     "name": "stdout",
     "output_type": "stream",
     "text": [
      "Train Epoch: 13 [20736/54863 (38%)]\tLoss: 0.103210\tTrain Accuracy: 95.370369\n"
     ]
    },
    {
     "name": "stderr",
     "output_type": "stream",
     "text": [
      " 47%|████▋     | 101/215 [03:23<03:36,  1.90s/it]"
     ]
    },
    {
     "name": "stdout",
     "output_type": "stream",
     "text": [
      "Train Epoch: 13 [25856/54863 (47%)]\tLoss: 0.099207\tTrain Accuracy: 95.362778\n"
     ]
    },
    {
     "name": "stderr",
     "output_type": "stream",
     "text": [
      " 56%|█████▋    | 121/215 [04:01<03:04,  1.96s/it]"
     ]
    },
    {
     "name": "stdout",
     "output_type": "stream",
     "text": [
      "Train Epoch: 13 [30976/54863 (56%)]\tLoss: 0.118636\tTrain Accuracy: 95.409348\n"
     ]
    },
    {
     "name": "stderr",
     "output_type": "stream",
     "text": [
      " 66%|██████▌   | 141/215 [04:38<02:19,  1.88s/it]"
     ]
    },
    {
     "name": "stdout",
     "output_type": "stream",
     "text": [
      "Train Epoch: 13 [36096/54863 (66%)]\tLoss: 0.209625\tTrain Accuracy: 95.437164\n"
     ]
    },
    {
     "name": "stderr",
     "output_type": "stream",
     "text": [
      " 75%|███████▍  | 161/215 [05:15<01:36,  1.80s/it]"
     ]
    },
    {
     "name": "stdout",
     "output_type": "stream",
     "text": [
      "Train Epoch: 13 [41216/54863 (75%)]\tLoss: 0.077758\tTrain Accuracy: 95.521156\n"
     ]
    },
    {
     "name": "stderr",
     "output_type": "stream",
     "text": [
      " 84%|████████▍ | 181/215 [05:52<01:00,  1.79s/it]"
     ]
    },
    {
     "name": "stdout",
     "output_type": "stream",
     "text": [
      "Train Epoch: 13 [46336/54863 (84%)]\tLoss: 0.114952\tTrain Accuracy: 95.549896\n"
     ]
    },
    {
     "name": "stderr",
     "output_type": "stream",
     "text": [
      " 93%|█████████▎| 201/215 [06:28<00:24,  1.74s/it]"
     ]
    },
    {
     "name": "stdout",
     "output_type": "stream",
     "text": [
      "Train Epoch: 13 [51456/54863 (93%)]\tLoss: 0.102230\tTrain Accuracy: 95.574860\n"
     ]
    },
    {
     "name": "stderr",
     "output_type": "stream",
     "text": [
      "100%|██████████| 215/215 [06:52<00:00,  1.40s/it]\n",
      "  0%|          | 0/55 [00:00<?, ?it/s]"
     ]
    },
    {
     "name": "stdout",
     "output_type": "stream",
     "text": [
      "\n",
      "Train set: Average loss = 0.1241, Train Accuracy = 95.5835\n",
      "\n",
      "\n",
      "Testing:\n"
     ]
    },
    {
     "name": "stderr",
     "output_type": "stream",
     "text": [
      "100%|██████████| 55/55 [01:27<00:00,  1.59s/it]\n"
     ]
    },
    {
     "name": "stdout",
     "output_type": "stream",
     "text": [
      "\n",
      "Test set: Average loss = 0.9223, Test Accuracy = 82.0318\n",
      "\n"
     ]
    },
    {
     "name": "stderr",
     "output_type": "stream",
     "text": [
      "\r",
      "  0%|          | 0/215 [00:00<?, ?it/s]"
     ]
    },
    {
     "name": "stdout",
     "output_type": "stream",
     "text": [
      "Time taken for running epoch 13 is 503.979 seconds.\n",
      "\n",
      "\n",
      "Epoch number:  14\n",
      "\n",
      "Training:\n"
     ]
    },
    {
     "name": "stderr",
     "output_type": "stream",
     "text": [
      "\r",
      "  0%|          | 1/215 [00:05<18:29,  5.18s/it]"
     ]
    },
    {
     "name": "stdout",
     "output_type": "stream",
     "text": [
      "Train Epoch: 14 [256/54863 (0%)]\tLoss: 0.210102\tTrain Accuracy: 95.312500\n"
     ]
    },
    {
     "name": "stderr",
     "output_type": "stream",
     "text": [
      " 10%|▉         | 21/215 [00:46<06:38,  2.05s/it]"
     ]
    },
    {
     "name": "stdout",
     "output_type": "stream",
     "text": [
      "Train Epoch: 14 [5376/54863 (10%)]\tLoss: 0.145031\tTrain Accuracy: 95.275299\n"
     ]
    },
    {
     "name": "stderr",
     "output_type": "stream",
     "text": [
      " 19%|█▉        | 41/215 [01:26<05:59,  2.07s/it]"
     ]
    },
    {
     "name": "stdout",
     "output_type": "stream",
     "text": [
      "Train Epoch: 14 [10496/54863 (19%)]\tLoss: 0.159044\tTrain Accuracy: 95.264862\n"
     ]
    },
    {
     "name": "stderr",
     "output_type": "stream",
     "text": [
      " 28%|██▊       | 61/215 [02:05<05:09,  2.01s/it]"
     ]
    },
    {
     "name": "stdout",
     "output_type": "stream",
     "text": [
      "Train Epoch: 14 [15616/54863 (28%)]\tLoss: 0.123634\tTrain Accuracy: 95.344521\n"
     ]
    },
    {
     "name": "stderr",
     "output_type": "stream",
     "text": [
      " 38%|███▊      | 81/215 [02:43<04:24,  1.98s/it]"
     ]
    },
    {
     "name": "stdout",
     "output_type": "stream",
     "text": [
      "Train Epoch: 14 [20736/54863 (38%)]\tLoss: 0.166654\tTrain Accuracy: 95.269096\n"
     ]
    },
    {
     "name": "stderr",
     "output_type": "stream",
     "text": [
      " 47%|████▋     | 101/215 [03:21<03:41,  1.94s/it]"
     ]
    },
    {
     "name": "stdout",
     "output_type": "stream",
     "text": [
      "Train Epoch: 14 [25856/54863 (47%)]\tLoss: 0.133980\tTrain Accuracy: 95.385986\n"
     ]
    },
    {
     "name": "stderr",
     "output_type": "stream",
     "text": [
      " 56%|█████▋    | 121/215 [03:58<02:59,  1.91s/it]"
     ]
    },
    {
     "name": "stdout",
     "output_type": "stream",
     "text": [
      "Train Epoch: 14 [30976/54863 (56%)]\tLoss: 0.081340\tTrain Accuracy: 95.502968\n"
     ]
    },
    {
     "name": "stderr",
     "output_type": "stream",
     "text": [
      " 66%|██████▌   | 141/215 [04:35<02:18,  1.87s/it]"
     ]
    },
    {
     "name": "stdout",
     "output_type": "stream",
     "text": [
      "Train Epoch: 14 [36096/54863 (66%)]\tLoss: 0.074328\tTrain Accuracy: 95.523048\n"
     ]
    },
    {
     "name": "stderr",
     "output_type": "stream",
     "text": [
      " 75%|███████▍  | 161/215 [05:13<01:42,  1.89s/it]"
     ]
    },
    {
     "name": "stdout",
     "output_type": "stream",
     "text": [
      "Train Epoch: 14 [41216/54863 (75%)]\tLoss: 0.069295\tTrain Accuracy: 95.589088\n"
     ]
    },
    {
     "name": "stderr",
     "output_type": "stream",
     "text": [
      " 84%|████████▍ | 181/215 [05:50<01:03,  1.85s/it]"
     ]
    },
    {
     "name": "stdout",
     "output_type": "stream",
     "text": [
      "Train Epoch: 14 [46336/54863 (84%)]\tLoss: 0.072556\tTrain Accuracy: 95.655647\n"
     ]
    },
    {
     "name": "stderr",
     "output_type": "stream",
     "text": [
      " 93%|█████████▎| 201/215 [06:26<00:25,  1.85s/it]"
     ]
    },
    {
     "name": "stdout",
     "output_type": "stream",
     "text": [
      "Train Epoch: 14 [51456/54863 (93%)]\tLoss: 0.133470\tTrain Accuracy: 95.652596\n"
     ]
    },
    {
     "name": "stderr",
     "output_type": "stream",
     "text": [
      "100%|██████████| 215/215 [06:50<00:00,  1.38s/it]\n",
      "  0%|          | 0/55 [00:00<?, ?it/s]"
     ]
    },
    {
     "name": "stdout",
     "output_type": "stream",
     "text": [
      "\n",
      "Train set: Average loss = 0.1229, Train Accuracy = 95.6273\n",
      "\n",
      "\n",
      "Testing:\n"
     ]
    },
    {
     "name": "stderr",
     "output_type": "stream",
     "text": [
      "100%|██████████| 55/55 [01:28<00:00,  1.60s/it]\n"
     ]
    },
    {
     "name": "stdout",
     "output_type": "stream",
     "text": [
      "\n",
      "Test set: Average loss = 0.6773, Test Accuracy = 84.2733\n",
      "\n"
     ]
    },
    {
     "name": "stderr",
     "output_type": "stream",
     "text": [
      "\r",
      "  0%|          | 0/215 [00:00<?, ?it/s]"
     ]
    },
    {
     "name": "stdout",
     "output_type": "stream",
     "text": [
      "Time taken for running epoch 14 is 502.525 seconds.\n",
      "\n",
      "\n",
      "Epoch number:  15\n",
      "\n",
      "Training:\n"
     ]
    },
    {
     "name": "stderr",
     "output_type": "stream",
     "text": [
      "\r",
      "  0%|          | 1/215 [00:05<18:18,  5.13s/it]"
     ]
    },
    {
     "name": "stdout",
     "output_type": "stream",
     "text": [
      "Train Epoch: 15 [256/54863 (0%)]\tLoss: 0.070347\tTrain Accuracy: 97.265625\n"
     ]
    },
    {
     "name": "stderr",
     "output_type": "stream",
     "text": [
      " 10%|▉         | 21/215 [00:47<06:49,  2.11s/it]"
     ]
    },
    {
     "name": "stdout",
     "output_type": "stream",
     "text": [
      "Train Epoch: 15 [5376/54863 (10%)]\tLoss: 0.188480\tTrain Accuracy: 95.145088\n"
     ]
    },
    {
     "name": "stderr",
     "output_type": "stream",
     "text": [
      " 19%|█▉        | 41/215 [01:27<06:05,  2.10s/it]"
     ]
    },
    {
     "name": "stdout",
     "output_type": "stream",
     "text": [
      "Train Epoch: 15 [10496/54863 (19%)]\tLoss: 0.087502\tTrain Accuracy: 94.836128\n"
     ]
    },
    {
     "name": "stderr",
     "output_type": "stream",
     "text": [
      " 28%|██▊       | 61/215 [02:07<05:24,  2.11s/it]"
     ]
    },
    {
     "name": "stdout",
     "output_type": "stream",
     "text": [
      "Train Epoch: 15 [15616/54863 (28%)]\tLoss: 0.159212\tTrain Accuracy: 95.165215\n"
     ]
    },
    {
     "name": "stderr",
     "output_type": "stream",
     "text": [
      " 38%|███▊      | 81/215 [02:45<04:25,  1.98s/it]"
     ]
    },
    {
     "name": "stdout",
     "output_type": "stream",
     "text": [
      "Train Epoch: 15 [20736/54863 (38%)]\tLoss: 0.154949\tTrain Accuracy: 95.331787\n"
     ]
    },
    {
     "name": "stderr",
     "output_type": "stream",
     "text": [
      " 47%|████▋     | 101/215 [03:24<03:48,  2.00s/it]"
     ]
    },
    {
     "name": "stdout",
     "output_type": "stream",
     "text": [
      "Train Epoch: 15 [25856/54863 (47%)]\tLoss: 0.111210\tTrain Accuracy: 95.119118\n"
     ]
    },
    {
     "name": "stderr",
     "output_type": "stream",
     "text": [
      " 56%|█████▋    | 121/215 [04:01<03:02,  1.94s/it]"
     ]
    },
    {
     "name": "stdout",
     "output_type": "stream",
     "text": [
      "Train Epoch: 15 [30976/54863 (56%)]\tLoss: 0.159960\tTrain Accuracy: 95.180138\n"
     ]
    },
    {
     "name": "stderr",
     "output_type": "stream",
     "text": [
      " 66%|██████▌   | 141/215 [04:39<02:24,  1.95s/it]"
     ]
    },
    {
     "name": "stdout",
     "output_type": "stream",
     "text": [
      "Train Epoch: 15 [36096/54863 (66%)]\tLoss: 0.104097\tTrain Accuracy: 95.248779\n"
     ]
    },
    {
     "name": "stderr",
     "output_type": "stream",
     "text": [
      " 75%|███████▍  | 161/215 [05:16<01:42,  1.89s/it]"
     ]
    },
    {
     "name": "stdout",
     "output_type": "stream",
     "text": [
      "Train Epoch: 15 [41216/54863 (75%)]\tLoss: 0.125386\tTrain Accuracy: 95.324631\n"
     ]
    },
    {
     "name": "stderr",
     "output_type": "stream",
     "text": [
      " 84%|████████▍ | 181/215 [05:53<01:05,  1.93s/it]"
     ]
    },
    {
     "name": "stdout",
     "output_type": "stream",
     "text": [
      "Train Epoch: 15 [46336/54863 (84%)]\tLoss: 0.108706\tTrain Accuracy: 95.420410\n"
     ]
    },
    {
     "name": "stderr",
     "output_type": "stream",
     "text": [
      " 93%|█████████▎| 201/215 [06:28<00:25,  1.82s/it]"
     ]
    },
    {
     "name": "stdout",
     "output_type": "stream",
     "text": [
      "Train Epoch: 15 [51456/54863 (93%)]\tLoss: 0.057155\tTrain Accuracy: 95.467972\n"
     ]
    },
    {
     "name": "stderr",
     "output_type": "stream",
     "text": [
      "100%|██████████| 215/215 [06:51<00:00,  1.34s/it]\n",
      "  0%|          | 0/55 [00:00<?, ?it/s]"
     ]
    },
    {
     "name": "stdout",
     "output_type": "stream",
     "text": [
      "\n",
      "Train set: Average loss = 0.1261, Train Accuracy = 95.4924\n",
      "\n",
      "\n",
      "Testing:\n"
     ]
    },
    {
     "name": "stderr",
     "output_type": "stream",
     "text": [
      "100%|██████████| 55/55 [01:26<00:00,  1.57s/it]\n"
     ]
    },
    {
     "name": "stdout",
     "output_type": "stream",
     "text": [
      "\n",
      "Test set: Average loss = 0.7560, Test Accuracy = 82.6826\n",
      "\n"
     ]
    },
    {
     "name": "stderr",
     "output_type": "stream",
     "text": [
      "\r",
      "  0%|          | 0/215 [00:00<?, ?it/s]"
     ]
    },
    {
     "name": "stdout",
     "output_type": "stream",
     "text": [
      "Time taken for running epoch 15 is 501.650 seconds.\n",
      "\n",
      "\n",
      "Epoch number:  16\n",
      "\n",
      "Training:\n"
     ]
    },
    {
     "name": "stderr",
     "output_type": "stream",
     "text": [
      "\r",
      "  0%|          | 1/215 [00:05<18:38,  5.23s/it]"
     ]
    },
    {
     "name": "stdout",
     "output_type": "stream",
     "text": [
      "Train Epoch: 16 [256/54863 (0%)]\tLoss: 0.100744\tTrain Accuracy: 96.093750\n"
     ]
    },
    {
     "name": "stderr",
     "output_type": "stream",
     "text": [
      " 10%|▉         | 21/215 [00:46<06:30,  2.01s/it]"
     ]
    },
    {
     "name": "stdout",
     "output_type": "stream",
     "text": [
      "Train Epoch: 16 [5376/54863 (10%)]\tLoss: 0.102381\tTrain Accuracy: 96.056549\n"
     ]
    },
    {
     "name": "stderr",
     "output_type": "stream",
     "text": [
      " 19%|█▉        | 41/215 [01:26<05:59,  2.07s/it]"
     ]
    },
    {
     "name": "stdout",
     "output_type": "stream",
     "text": [
      "Train Epoch: 16 [10496/54863 (19%)]\tLoss: 0.132512\tTrain Accuracy: 96.122330\n"
     ]
    },
    {
     "name": "stderr",
     "output_type": "stream",
     "text": [
      " 28%|██▊       | 61/215 [02:05<05:11,  2.03s/it]"
     ]
    },
    {
     "name": "stdout",
     "output_type": "stream",
     "text": [
      "Train Epoch: 16 [15616/54863 (28%)]\tLoss: 0.120055\tTrain Accuracy: 95.972076\n"
     ]
    },
    {
     "name": "stderr",
     "output_type": "stream",
     "text": [
      " 38%|███▊      | 81/215 [02:44<04:26,  1.99s/it]"
     ]
    },
    {
     "name": "stdout",
     "output_type": "stream",
     "text": [
      "Train Epoch: 16 [20736/54863 (38%)]\tLoss: 0.131015\tTrain Accuracy: 96.127510\n"
     ]
    },
    {
     "name": "stderr",
     "output_type": "stream",
     "text": [
      " 47%|████▋     | 101/215 [03:22<03:45,  1.98s/it]"
     ]
    },
    {
     "name": "stdout",
     "output_type": "stream",
     "text": [
      "Train Epoch: 16 [25856/54863 (47%)]\tLoss: 0.087104\tTrain Accuracy: 96.062813\n"
     ]
    },
    {
     "name": "stderr",
     "output_type": "stream",
     "text": [
      " 56%|█████▋    | 121/215 [04:00<03:03,  1.95s/it]"
     ]
    },
    {
     "name": "stdout",
     "output_type": "stream",
     "text": [
      "Train Epoch: 16 [30976/54863 (56%)]\tLoss: 0.079736\tTrain Accuracy: 95.974304\n"
     ]
    },
    {
     "name": "stderr",
     "output_type": "stream",
     "text": [
      " 66%|██████▌   | 141/215 [04:37<02:21,  1.91s/it]"
     ]
    },
    {
     "name": "stdout",
     "output_type": "stream",
     "text": [
      "Train Epoch: 16 [36096/54863 (66%)]\tLoss: 0.110908\tTrain Accuracy: 96.077126\n"
     ]
    },
    {
     "name": "stderr",
     "output_type": "stream",
     "text": [
      " 75%|███████▍  | 161/215 [05:14<01:39,  1.85s/it]"
     ]
    },
    {
     "name": "stdout",
     "output_type": "stream",
     "text": [
      "Train Epoch: 16 [41216/54863 (75%)]\tLoss: 0.124485\tTrain Accuracy: 96.118011\n"
     ]
    },
    {
     "name": "stderr",
     "output_type": "stream",
     "text": [
      " 84%|████████▍ | 181/215 [05:50<01:03,  1.88s/it]"
     ]
    },
    {
     "name": "stdout",
     "output_type": "stream",
     "text": [
      "Train Epoch: 16 [46336/54863 (84%)]\tLoss: 0.143133\tTrain Accuracy: 96.031166\n"
     ]
    },
    {
     "name": "stderr",
     "output_type": "stream",
     "text": [
      " 93%|█████████▎| 201/215 [06:27<00:26,  1.91s/it]"
     ]
    },
    {
     "name": "stdout",
     "output_type": "stream",
     "text": [
      "Train Epoch: 16 [51456/54863 (93%)]\tLoss: 0.100551\tTrain Accuracy: 95.994637\n"
     ]
    },
    {
     "name": "stderr",
     "output_type": "stream",
     "text": [
      "100%|██████████| 215/215 [06:50<00:00,  1.35s/it]\n",
      "  0%|          | 0/55 [00:00<?, ?it/s]"
     ]
    },
    {
     "name": "stdout",
     "output_type": "stream",
     "text": [
      "\n",
      "Train set: Average loss = 0.1118, Train Accuracy = 96.0155\n",
      "\n",
      "\n",
      "Testing:\n"
     ]
    },
    {
     "name": "stderr",
     "output_type": "stream",
     "text": [
      "100%|██████████| 55/55 [01:27<00:00,  1.59s/it]\n"
     ]
    },
    {
     "name": "stdout",
     "output_type": "stream",
     "text": [
      "\n",
      "Test set: Average loss = 0.6328, Test Accuracy = 83.6009\n",
      "\n"
     ]
    },
    {
     "name": "stderr",
     "output_type": "stream",
     "text": [
      "\r",
      "  0%|          | 0/215 [00:00<?, ?it/s]"
     ]
    },
    {
     "name": "stdout",
     "output_type": "stream",
     "text": [
      "Time taken for running epoch 16 is 502.152 seconds.\n",
      "\n",
      "\n",
      "Epoch number:  17\n",
      "\n",
      "Training:\n"
     ]
    },
    {
     "name": "stderr",
     "output_type": "stream",
     "text": [
      "\r",
      "  0%|          | 1/215 [00:05<18:19,  5.14s/it]"
     ]
    },
    {
     "name": "stdout",
     "output_type": "stream",
     "text": [
      "Train Epoch: 17 [256/54863 (0%)]\tLoss: 0.106246\tTrain Accuracy: 94.921875\n"
     ]
    },
    {
     "name": "stderr",
     "output_type": "stream",
     "text": [
      " 10%|▉         | 21/215 [00:46<06:34,  2.04s/it]"
     ]
    },
    {
     "name": "stdout",
     "output_type": "stream",
     "text": [
      "Train Epoch: 17 [5376/54863 (10%)]\tLoss: 0.107521\tTrain Accuracy: 95.517113\n"
     ]
    },
    {
     "name": "stderr",
     "output_type": "stream",
     "text": [
      " 19%|█▉        | 41/215 [01:26<06:00,  2.07s/it]"
     ]
    },
    {
     "name": "stdout",
     "output_type": "stream",
     "text": [
      "Train Epoch: 17 [10496/54863 (19%)]\tLoss: 0.130955\tTrain Accuracy: 95.674545\n"
     ]
    },
    {
     "name": "stderr",
     "output_type": "stream",
     "text": [
      " 28%|██▊       | 61/215 [02:05<05:06,  1.99s/it]"
     ]
    },
    {
     "name": "stdout",
     "output_type": "stream",
     "text": [
      "Train Epoch: 17 [15616/54863 (28%)]\tLoss: 0.086002\tTrain Accuracy: 95.811989\n"
     ]
    },
    {
     "name": "stderr",
     "output_type": "stream",
     "text": [
      " 38%|███▊      | 81/215 [02:43<04:21,  1.95s/it]"
     ]
    },
    {
     "name": "stdout",
     "output_type": "stream",
     "text": [
      "Train Epoch: 17 [20736/54863 (38%)]\tLoss: 0.075577\tTrain Accuracy: 95.924965\n"
     ]
    },
    {
     "name": "stderr",
     "output_type": "stream",
     "text": [
      " 47%|████▋     | 101/215 [03:21<03:44,  1.97s/it]"
     ]
    },
    {
     "name": "stdout",
     "output_type": "stream",
     "text": [
      "Train Epoch: 17 [25856/54863 (47%)]\tLoss: 0.073642\tTrain Accuracy: 95.993195\n"
     ]
    },
    {
     "name": "stderr",
     "output_type": "stream",
     "text": [
      " 56%|█████▋    | 121/215 [03:59<03:05,  1.97s/it]"
     ]
    },
    {
     "name": "stdout",
     "output_type": "stream",
     "text": [
      "Train Epoch: 17 [30976/54863 (56%)]\tLoss: 0.142342\tTrain Accuracy: 95.877457\n"
     ]
    },
    {
     "name": "stderr",
     "output_type": "stream",
     "text": [
      " 66%|██████▌   | 141/215 [04:36<02:22,  1.92s/it]"
     ]
    },
    {
     "name": "stdout",
     "output_type": "stream",
     "text": [
      "Train Epoch: 17 [36096/54863 (66%)]\tLoss: 0.204166\tTrain Accuracy: 95.789009\n"
     ]
    },
    {
     "name": "stderr",
     "output_type": "stream",
     "text": [
      " 75%|███████▍  | 161/215 [05:12<01:41,  1.88s/it]"
     ]
    },
    {
     "name": "stdout",
     "output_type": "stream",
     "text": [
      "Train Epoch: 17 [41216/54863 (75%)]\tLoss: 0.154697\tTrain Accuracy: 95.741943\n"
     ]
    },
    {
     "name": "stderr",
     "output_type": "stream",
     "text": [
      " 84%|████████▍ | 181/215 [05:49<01:03,  1.85s/it]"
     ]
    },
    {
     "name": "stdout",
     "output_type": "stream",
     "text": [
      "Train Epoch: 17 [46336/54863 (84%)]\tLoss: 0.095466\tTrain Accuracy: 95.722549\n"
     ]
    },
    {
     "name": "stderr",
     "output_type": "stream",
     "text": [
      " 93%|█████████▎| 201/215 [06:24<00:25,  1.86s/it]"
     ]
    },
    {
     "name": "stdout",
     "output_type": "stream",
     "text": [
      "Train Epoch: 17 [51456/54863 (93%)]\tLoss: 0.062153\tTrain Accuracy: 95.720619\n"
     ]
    },
    {
     "name": "stderr",
     "output_type": "stream",
     "text": [
      "100%|██████████| 215/215 [06:48<00:00,  1.44s/it]\n",
      "  0%|          | 0/55 [00:00<?, ?it/s]"
     ]
    },
    {
     "name": "stdout",
     "output_type": "stream",
     "text": [
      "\n",
      "Train set: Average loss = 0.1176, Train Accuracy = 95.7184\n",
      "\n",
      "\n",
      "Testing:\n"
     ]
    },
    {
     "name": "stderr",
     "output_type": "stream",
     "text": [
      "100%|██████████| 55/55 [01:27<00:00,  1.59s/it]\n"
     ]
    },
    {
     "name": "stdout",
     "output_type": "stream",
     "text": [
      "\n",
      "Test set: Average loss = 0.9935, Test Accuracy = 79.7542\n",
      "\n"
     ]
    },
    {
     "name": "stderr",
     "output_type": "stream",
     "text": [
      "\r",
      "  0%|          | 0/215 [00:00<?, ?it/s]"
     ]
    },
    {
     "name": "stdout",
     "output_type": "stream",
     "text": [
      "Time taken for running epoch 17 is 500.350 seconds.\n",
      "\n",
      "\n",
      "Epoch number:  18\n",
      "\n",
      "Training:\n"
     ]
    },
    {
     "name": "stderr",
     "output_type": "stream",
     "text": [
      "\r",
      "  0%|          | 1/215 [00:04<17:31,  4.91s/it]"
     ]
    },
    {
     "name": "stdout",
     "output_type": "stream",
     "text": [
      "Train Epoch: 18 [256/54863 (0%)]\tLoss: 0.160940\tTrain Accuracy: 94.531250\n"
     ]
    },
    {
     "name": "stderr",
     "output_type": "stream",
     "text": [
      " 10%|▉         | 21/215 [00:46<06:40,  2.06s/it]"
     ]
    },
    {
     "name": "stdout",
     "output_type": "stream",
     "text": [
      "Train Epoch: 18 [5376/54863 (10%)]\tLoss: 0.136388\tTrain Accuracy: 95.610123\n"
     ]
    },
    {
     "name": "stderr",
     "output_type": "stream",
     "text": [
      " 19%|█▉        | 41/215 [01:26<06:00,  2.07s/it]"
     ]
    },
    {
     "name": "stdout",
     "output_type": "stream",
     "text": [
      "Train Epoch: 18 [10496/54863 (19%)]\tLoss: 0.115177\tTrain Accuracy: 95.979424\n"
     ]
    },
    {
     "name": "stderr",
     "output_type": "stream",
     "text": [
      " 28%|██▊       | 61/215 [02:06<05:13,  2.03s/it]"
     ]
    },
    {
     "name": "stdout",
     "output_type": "stream",
     "text": [
      "Train Epoch: 18 [15616/54863 (28%)]\tLoss: 0.075755\tTrain Accuracy: 96.317879\n"
     ]
    },
    {
     "name": "stderr",
     "output_type": "stream",
     "text": [
      " 38%|███▊      | 81/215 [02:45<04:24,  1.97s/it]"
     ]
    },
    {
     "name": "stdout",
     "output_type": "stream",
     "text": [
      "Train Epoch: 18 [20736/54863 (38%)]\tLoss: 0.092207\tTrain Accuracy: 96.460266\n"
     ]
    },
    {
     "name": "stderr",
     "output_type": "stream",
     "text": [
      " 47%|████▋     | 101/215 [03:23<03:37,  1.91s/it]"
     ]
    },
    {
     "name": "stdout",
     "output_type": "stream",
     "text": [
      "Train Epoch: 18 [25856/54863 (47%)]\tLoss: 0.066987\tTrain Accuracy: 96.383820\n"
     ]
    },
    {
     "name": "stderr",
     "output_type": "stream",
     "text": [
      " 56%|█████▋    | 121/215 [04:00<02:53,  1.85s/it]"
     ]
    },
    {
     "name": "stdout",
     "output_type": "stream",
     "text": [
      "Train Epoch: 18 [30976/54863 (56%)]\tLoss: 0.099718\tTrain Accuracy: 96.426262\n"
     ]
    },
    {
     "name": "stderr",
     "output_type": "stream",
     "text": [
      " 66%|██████▌   | 141/215 [04:37<02:18,  1.87s/it]"
     ]
    },
    {
     "name": "stdout",
     "output_type": "stream",
     "text": [
      "Train Epoch: 18 [36096/54863 (66%)]\tLoss: 0.073889\tTrain Accuracy: 96.406807\n"
     ]
    },
    {
     "name": "stderr",
     "output_type": "stream",
     "text": [
      " 75%|███████▍  | 161/215 [05:15<01:44,  1.93s/it]"
     ]
    },
    {
     "name": "stdout",
     "output_type": "stream",
     "text": [
      "Train Epoch: 18 [41216/54863 (75%)]\tLoss: 0.143470\tTrain Accuracy: 96.418869\n"
     ]
    },
    {
     "name": "stderr",
     "output_type": "stream",
     "text": [
      " 84%|████████▍ | 181/215 [05:51<01:03,  1.86s/it]"
     ]
    },
    {
     "name": "stdout",
     "output_type": "stream",
     "text": [
      "Train Epoch: 18 [46336/54863 (84%)]\tLoss: 0.077570\tTrain Accuracy: 96.462791\n"
     ]
    },
    {
     "name": "stderr",
     "output_type": "stream",
     "text": [
      " 93%|█████████▎| 201/215 [06:27<00:25,  1.81s/it]"
     ]
    },
    {
     "name": "stdout",
     "output_type": "stream",
     "text": [
      "Train Epoch: 18 [51456/54863 (93%)]\tLoss: 0.098095\tTrain Accuracy: 96.441620\n"
     ]
    },
    {
     "name": "stderr",
     "output_type": "stream",
     "text": [
      "100%|██████████| 215/215 [06:51<00:00,  1.42s/it]\n",
      "  0%|          | 0/55 [00:00<?, ?it/s]"
     ]
    },
    {
     "name": "stdout",
     "output_type": "stream",
     "text": [
      "\n",
      "Train set: Average loss = 0.1014, Train Accuracy = 96.3983\n",
      "\n",
      "\n",
      "Testing:\n"
     ]
    },
    {
     "name": "stderr",
     "output_type": "stream",
     "text": [
      "100%|██████████| 55/55 [01:28<00:00,  1.61s/it]\n"
     ]
    },
    {
     "name": "stdout",
     "output_type": "stream",
     "text": [
      "\n",
      "Test set: Average loss = 0.7012, Test Accuracy = 83.5647\n",
      "\n"
     ]
    },
    {
     "name": "stderr",
     "output_type": "stream",
     "text": [
      "\r",
      "  0%|          | 0/215 [00:00<?, ?it/s]"
     ]
    },
    {
     "name": "stdout",
     "output_type": "stream",
     "text": [
      "Time taken for running epoch 18 is 504.291 seconds.\n",
      "\n",
      "\n",
      "Epoch number:  19\n",
      "\n",
      "Training:\n"
     ]
    },
    {
     "name": "stderr",
     "output_type": "stream",
     "text": [
      "\r",
      "  0%|          | 1/215 [00:05<18:18,  5.13s/it]"
     ]
    },
    {
     "name": "stdout",
     "output_type": "stream",
     "text": [
      "Train Epoch: 19 [256/54863 (0%)]\tLoss: 0.085777\tTrain Accuracy: 97.265625\n"
     ]
    },
    {
     "name": "stderr",
     "output_type": "stream",
     "text": [
      " 10%|▉         | 21/215 [00:46<06:39,  2.06s/it]"
     ]
    },
    {
     "name": "stdout",
     "output_type": "stream",
     "text": [
      "Train Epoch: 19 [5376/54863 (10%)]\tLoss: 0.113650\tTrain Accuracy: 96.744789\n"
     ]
    },
    {
     "name": "stderr",
     "output_type": "stream",
     "text": [
      " 19%|█▉        | 41/215 [01:26<05:55,  2.04s/it]"
     ]
    },
    {
     "name": "stdout",
     "output_type": "stream",
     "text": [
      "Train Epoch: 19 [10496/54863 (19%)]\tLoss: 0.125228\tTrain Accuracy: 96.617760\n"
     ]
    },
    {
     "name": "stderr",
     "output_type": "stream",
     "text": [
      " 28%|██▊       | 61/215 [02:06<05:10,  2.01s/it]"
     ]
    },
    {
     "name": "stdout",
     "output_type": "stream",
     "text": [
      "Train Epoch: 19 [15616/54863 (28%)]\tLoss: 0.144332\tTrain Accuracy: 96.804558\n"
     ]
    },
    {
     "name": "stderr",
     "output_type": "stream",
     "text": [
      " 38%|███▊      | 81/215 [02:44<04:26,  1.99s/it]"
     ]
    },
    {
     "name": "stdout",
     "output_type": "stream",
     "text": [
      "Train Epoch: 19 [20736/54863 (38%)]\tLoss: 0.146365\tTrain Accuracy: 96.744789\n"
     ]
    },
    {
     "name": "stderr",
     "output_type": "stream",
     "text": [
      " 47%|████▋     | 101/215 [03:22<03:43,  1.96s/it]"
     ]
    },
    {
     "name": "stdout",
     "output_type": "stream",
     "text": [
      "Train Epoch: 19 [25856/54863 (47%)]\tLoss: 0.097047\tTrain Accuracy: 96.639076\n"
     ]
    },
    {
     "name": "stderr",
     "output_type": "stream",
     "text": [
      " 56%|█████▋    | 121/215 [04:00<03:03,  1.95s/it]"
     ]
    },
    {
     "name": "stdout",
     "output_type": "stream",
     "text": [
      "Train Epoch: 19 [30976/54863 (56%)]\tLoss: 0.077677\tTrain Accuracy: 96.642563\n"
     ]
    },
    {
     "name": "stderr",
     "output_type": "stream",
     "text": [
      " 66%|██████▌   | 141/215 [04:37<02:20,  1.89s/it]"
     ]
    },
    {
     "name": "stdout",
     "output_type": "stream",
     "text": [
      "Train Epoch: 19 [36096/54863 (66%)]\tLoss: 0.064892\tTrain Accuracy: 96.658913\n"
     ]
    },
    {
     "name": "stderr",
     "output_type": "stream",
     "text": [
      " 75%|███████▍  | 161/215 [05:15<01:43,  1.91s/it]"
     ]
    },
    {
     "name": "stdout",
     "output_type": "stream",
     "text": [
      "Train Epoch: 19 [41216/54863 (75%)]\tLoss: 0.170977\tTrain Accuracy: 96.610542\n"
     ]
    },
    {
     "name": "stderr",
     "output_type": "stream",
     "text": [
      " 84%|████████▍ | 181/215 [05:51<01:03,  1.86s/it]"
     ]
    },
    {
     "name": "stdout",
     "output_type": "stream",
     "text": [
      "Train Epoch: 19 [46336/54863 (84%)]\tLoss: 0.070670\tTrain Accuracy: 96.637604\n"
     ]
    },
    {
     "name": "stderr",
     "output_type": "stream",
     "text": [
      " 93%|█████████▎| 201/215 [06:27<00:25,  1.85s/it]"
     ]
    },
    {
     "name": "stdout",
     "output_type": "stream",
     "text": [
      "Train Epoch: 19 [51456/54863 (93%)]\tLoss: 0.074970\tTrain Accuracy: 96.626244\n"
     ]
    },
    {
     "name": "stderr",
     "output_type": "stream",
     "text": [
      "100%|██████████| 215/215 [06:51<00:00,  1.44s/it]\n",
      "  0%|          | 0/55 [00:00<?, ?it/s]"
     ]
    },
    {
     "name": "stdout",
     "output_type": "stream",
     "text": [
      "\n",
      "Train set: Average loss = 0.0957, Train Accuracy = 96.6225\n",
      "\n",
      "\n",
      "Testing:\n"
     ]
    },
    {
     "name": "stderr",
     "output_type": "stream",
     "text": [
      "100%|██████████| 55/55 [01:29<00:00,  1.62s/it]\n"
     ]
    },
    {
     "name": "stdout",
     "output_type": "stream",
     "text": [
      "\n",
      "Test set: Average loss = 0.8851, Test Accuracy = 81.1135\n",
      "\n"
     ]
    },
    {
     "name": "stderr",
     "output_type": "stream",
     "text": [
      "\r",
      "  0%|          | 0/215 [00:00<?, ?it/s]"
     ]
    },
    {
     "name": "stdout",
     "output_type": "stream",
     "text": [
      "Time taken for running epoch 19 is 504.981 seconds.\n",
      "\n",
      "\n",
      "Epoch number:  20\n",
      "\n",
      "Training:\n"
     ]
    },
    {
     "name": "stderr",
     "output_type": "stream",
     "text": [
      "\r",
      "  0%|          | 1/215 [00:05<19:11,  5.38s/it]"
     ]
    },
    {
     "name": "stdout",
     "output_type": "stream",
     "text": [
      "Train Epoch: 20 [256/54863 (0%)]\tLoss: 0.105627\tTrain Accuracy: 96.093750\n"
     ]
    },
    {
     "name": "stderr",
     "output_type": "stream",
     "text": [
      " 10%|▉         | 21/215 [00:48<06:53,  2.13s/it]"
     ]
    },
    {
     "name": "stdout",
     "output_type": "stream",
     "text": [
      "Train Epoch: 20 [5376/54863 (10%)]\tLoss: 0.056733\tTrain Accuracy: 96.744789\n"
     ]
    },
    {
     "name": "stderr",
     "output_type": "stream",
     "text": [
      " 19%|█▉        | 41/215 [01:29<06:10,  2.13s/it]"
     ]
    },
    {
     "name": "stdout",
     "output_type": "stream",
     "text": [
      "Train Epoch: 20 [10496/54863 (19%)]\tLoss: 0.110650\tTrain Accuracy: 96.560593\n"
     ]
    },
    {
     "name": "stderr",
     "output_type": "stream",
     "text": [
      " 28%|██▊       | 61/215 [02:09<05:17,  2.06s/it]"
     ]
    },
    {
     "name": "stdout",
     "output_type": "stream",
     "text": [
      "Train Epoch: 20 [15616/54863 (28%)]\tLoss: 0.086544\tTrain Accuracy: 96.612450\n"
     ]
    },
    {
     "name": "stderr",
     "output_type": "stream",
     "text": [
      " 38%|███▊      | 81/215 [02:48<04:34,  2.05s/it]"
     ]
    },
    {
     "name": "stdout",
     "output_type": "stream",
     "text": [
      "Train Epoch: 20 [20736/54863 (38%)]\tLoss: 0.054770\tTrain Accuracy: 96.706215\n"
     ]
    },
    {
     "name": "stderr",
     "output_type": "stream",
     "text": [
      " 47%|████▋     | 101/215 [03:26<03:48,  2.01s/it]"
     ]
    },
    {
     "name": "stdout",
     "output_type": "stream",
     "text": [
      "Train Epoch: 20 [25856/54863 (47%)]\tLoss: 0.068323\tTrain Accuracy: 96.747368\n"
     ]
    },
    {
     "name": "stderr",
     "output_type": "stream",
     "text": [
      " 56%|█████▋    | 121/215 [04:05<03:05,  1.98s/it]"
     ]
    },
    {
     "name": "stdout",
     "output_type": "stream",
     "text": [
      "Train Epoch: 20 [30976/54863 (56%)]\tLoss: 0.078573\tTrain Accuracy: 96.791061\n"
     ]
    },
    {
     "name": "stderr",
     "output_type": "stream",
     "text": [
      " 66%|██████▌   | 141/215 [04:43<02:22,  1.93s/it]"
     ]
    },
    {
     "name": "stdout",
     "output_type": "stream",
     "text": [
      "Train Epoch: 20 [36096/54863 (66%)]\tLoss: 0.069435\tTrain Accuracy: 96.764183\n"
     ]
    },
    {
     "name": "stderr",
     "output_type": "stream",
     "text": [
      " 75%|███████▍  | 161/215 [05:20<01:43,  1.92s/it]"
     ]
    },
    {
     "name": "stdout",
     "output_type": "stream",
     "text": [
      "Train Epoch: 20 [41216/54863 (75%)]\tLoss: 0.109575\tTrain Accuracy: 96.714867\n"
     ]
    },
    {
     "name": "stderr",
     "output_type": "stream",
     "text": [
      " 84%|████████▍ | 181/215 [05:57<01:05,  1.94s/it]"
     ]
    },
    {
     "name": "stdout",
     "output_type": "stream",
     "text": [
      "Train Epoch: 20 [46336/54863 (84%)]\tLoss: 0.095393\tTrain Accuracy: 96.665657\n"
     ]
    },
    {
     "name": "stderr",
     "output_type": "stream",
     "text": [
      " 93%|█████████▎| 201/215 [06:33<00:26,  1.90s/it]"
     ]
    },
    {
     "name": "stdout",
     "output_type": "stream",
     "text": [
      "Train Epoch: 20 [51456/54863 (93%)]\tLoss: 0.144203\tTrain Accuracy: 96.657341\n"
     ]
    },
    {
     "name": "stderr",
     "output_type": "stream",
     "text": [
      "100%|██████████| 215/215 [06:57<00:00,  1.44s/it]\n",
      "  0%|          | 0/55 [00:00<?, ?it/s]"
     ]
    },
    {
     "name": "stdout",
     "output_type": "stream",
     "text": [
      "\n",
      "Train set: Average loss = 0.0945, Train Accuracy = 96.6881\n",
      "\n",
      "\n",
      "Testing:\n"
     ]
    },
    {
     "name": "stderr",
     "output_type": "stream",
     "text": [
      "100%|██████████| 55/55 [01:28<00:00,  1.61s/it]\n"
     ]
    },
    {
     "name": "stdout",
     "output_type": "stream",
     "text": [
      "\n",
      "Test set: Average loss = 0.9600, Test Accuracy = 81.2292\n",
      "\n"
     ]
    },
    {
     "name": "stderr",
     "output_type": "stream",
     "text": [
      "\r",
      "  0%|          | 0/215 [00:00<?, ?it/s]"
     ]
    },
    {
     "name": "stdout",
     "output_type": "stream",
     "text": [
      "Time taken for running epoch 20 is 510.927 seconds.\n",
      "\n",
      "\n",
      "Epoch number:  21\n",
      "\n",
      "Training:\n"
     ]
    },
    {
     "name": "stderr",
     "output_type": "stream",
     "text": [
      "\r",
      "  0%|          | 1/215 [00:05<19:14,  5.40s/it]"
     ]
    },
    {
     "name": "stdout",
     "output_type": "stream",
     "text": [
      "Train Epoch: 21 [256/54863 (0%)]\tLoss: 0.125213\tTrain Accuracy: 95.703125\n"
     ]
    },
    {
     "name": "stderr",
     "output_type": "stream",
     "text": [
      " 10%|▉         | 21/215 [00:47<06:47,  2.10s/it]"
     ]
    },
    {
     "name": "stdout",
     "output_type": "stream",
     "text": [
      "Train Epoch: 21 [5376/54863 (10%)]\tLoss: 0.168663\tTrain Accuracy: 96.112350\n"
     ]
    },
    {
     "name": "stderr",
     "output_type": "stream",
     "text": [
      " 19%|█▉        | 41/215 [01:28<06:04,  2.10s/it]"
     ]
    },
    {
     "name": "stdout",
     "output_type": "stream",
     "text": [
      "Train Epoch: 21 [10496/54863 (19%)]\tLoss: 0.127132\tTrain Accuracy: 96.446266\n"
     ]
    },
    {
     "name": "stderr",
     "output_type": "stream",
     "text": [
      " 28%|██▊       | 61/215 [02:07<05:10,  2.02s/it]"
     ]
    },
    {
     "name": "stdout",
     "output_type": "stream",
     "text": [
      "Train Epoch: 21 [15616/54863 (28%)]\tLoss: 0.076654\tTrain Accuracy: 96.484375\n"
     ]
    },
    {
     "name": "stderr",
     "output_type": "stream",
     "text": [
      " 38%|███▊      | 81/215 [02:46<04:31,  2.03s/it]"
     ]
    },
    {
     "name": "stdout",
     "output_type": "stream",
     "text": [
      "Train Epoch: 21 [20736/54863 (38%)]\tLoss: 0.100394\tTrain Accuracy: 96.566360\n"
     ]
    },
    {
     "name": "stderr",
     "output_type": "stream",
     "text": [
      " 47%|████▋     | 101/215 [03:24<03:41,  1.94s/it]"
     ]
    },
    {
     "name": "stdout",
     "output_type": "stream",
     "text": [
      "Train Epoch: 21 [25856/54863 (47%)]\tLoss: 0.084982\tTrain Accuracy: 96.658417\n"
     ]
    },
    {
     "name": "stderr",
     "output_type": "stream",
     "text": [
      " 56%|█████▋    | 121/215 [04:01<03:00,  1.92s/it]"
     ]
    },
    {
     "name": "stdout",
     "output_type": "stream",
     "text": [
      "Train Epoch: 21 [30976/54863 (56%)]\tLoss: 0.121090\tTrain Accuracy: 96.645790\n"
     ]
    },
    {
     "name": "stderr",
     "output_type": "stream",
     "text": [
      " 66%|██████▌   | 141/215 [04:38<02:21,  1.91s/it]"
     ]
    },
    {
     "name": "stdout",
     "output_type": "stream",
     "text": [
      "Train Epoch: 21 [36096/54863 (66%)]\tLoss: 0.081259\tTrain Accuracy: 96.645058\n"
     ]
    },
    {
     "name": "stderr",
     "output_type": "stream",
     "text": [
      " 75%|███████▍  | 161/215 [05:15<01:41,  1.87s/it]"
     ]
    },
    {
     "name": "stdout",
     "output_type": "stream",
     "text": [
      "Train Epoch: 21 [41216/54863 (75%)]\tLoss: 0.133547\tTrain Accuracy: 96.666344\n"
     ]
    },
    {
     "name": "stderr",
     "output_type": "stream",
     "text": [
      " 84%|████████▍ | 181/215 [05:52<01:03,  1.86s/it]"
     ]
    },
    {
     "name": "stdout",
     "output_type": "stream",
     "text": [
      "Train Epoch: 21 [46336/54863 (84%)]\tLoss: 0.105821\tTrain Accuracy: 96.624657\n"
     ]
    },
    {
     "name": "stderr",
     "output_type": "stream",
     "text": [
      " 93%|█████████▎| 201/215 [06:28<00:26,  1.90s/it]"
     ]
    },
    {
     "name": "stdout",
     "output_type": "stream",
     "text": [
      "Train Epoch: 21 [51456/54863 (93%)]\tLoss: 0.106945\tTrain Accuracy: 96.676773\n"
     ]
    },
    {
     "name": "stderr",
     "output_type": "stream",
     "text": [
      "100%|██████████| 215/215 [06:52<00:00,  1.37s/it]\n",
      "  0%|          | 0/55 [00:00<?, ?it/s]"
     ]
    },
    {
     "name": "stdout",
     "output_type": "stream",
     "text": [
      "\n",
      "Train set: Average loss = 0.0934, Train Accuracy = 96.6626\n",
      "\n",
      "\n",
      "Testing:\n"
     ]
    },
    {
     "name": "stderr",
     "output_type": "stream",
     "text": [
      "100%|██████████| 55/55 [01:28<00:00,  1.61s/it]\n"
     ]
    },
    {
     "name": "stdout",
     "output_type": "stream",
     "text": [
      "\n",
      "Test set: Average loss = 1.0641, Test Accuracy = 79.5155\n",
      "\n"
     ]
    },
    {
     "name": "stderr",
     "output_type": "stream",
     "text": [
      "\r",
      "  0%|          | 0/215 [00:00<?, ?it/s]"
     ]
    },
    {
     "name": "stdout",
     "output_type": "stream",
     "text": [
      "Time taken for running epoch 21 is 505.122 seconds.\n",
      "\n",
      "\n",
      "Epoch number:  22\n",
      "\n",
      "Training:\n"
     ]
    },
    {
     "name": "stderr",
     "output_type": "stream",
     "text": [
      "\r",
      "  0%|          | 1/215 [00:05<17:57,  5.03s/it]"
     ]
    },
    {
     "name": "stdout",
     "output_type": "stream",
     "text": [
      "Train Epoch: 22 [256/54863 (0%)]\tLoss: 0.114710\tTrain Accuracy: 94.531250\n"
     ]
    },
    {
     "name": "stderr",
     "output_type": "stream",
     "text": [
      " 10%|▉         | 21/215 [00:47<06:39,  2.06s/it]"
     ]
    },
    {
     "name": "stdout",
     "output_type": "stream",
     "text": [
      "Train Epoch: 22 [5376/54863 (10%)]\tLoss: 0.069608\tTrain Accuracy: 96.670387\n"
     ]
    },
    {
     "name": "stderr",
     "output_type": "stream",
     "text": [
      " 19%|█▉        | 41/215 [01:27<06:06,  2.11s/it]"
     ]
    },
    {
     "name": "stdout",
     "output_type": "stream",
     "text": [
      "Train Epoch: 22 [10496/54863 (19%)]\tLoss: 0.173037\tTrain Accuracy: 96.265244\n"
     ]
    },
    {
     "name": "stderr",
     "output_type": "stream",
     "text": [
      " 28%|██▊       | 61/215 [02:07<05:15,  2.05s/it]"
     ]
    },
    {
     "name": "stdout",
     "output_type": "stream",
     "text": [
      "Train Epoch: 22 [15616/54863 (28%)]\tLoss: 0.074871\tTrain Accuracy: 96.401131\n"
     ]
    },
    {
     "name": "stderr",
     "output_type": "stream",
     "text": [
      " 38%|███▊      | 81/215 [02:45<04:27,  1.99s/it]"
     ]
    },
    {
     "name": "stdout",
     "output_type": "stream",
     "text": [
      "Train Epoch: 22 [20736/54863 (38%)]\tLoss: 0.091347\tTrain Accuracy: 96.508484\n"
     ]
    },
    {
     "name": "stderr",
     "output_type": "stream",
     "text": [
      " 47%|████▋     | 101/215 [03:24<03:43,  1.96s/it]"
     ]
    },
    {
     "name": "stdout",
     "output_type": "stream",
     "text": [
      "Train Epoch: 22 [25856/54863 (47%)]\tLoss: 0.088474\tTrain Accuracy: 96.592667\n"
     ]
    },
    {
     "name": "stderr",
     "output_type": "stream",
     "text": [
      " 56%|█████▋    | 121/215 [04:02<03:04,  1.97s/it]"
     ]
    },
    {
     "name": "stdout",
     "output_type": "stream",
     "text": [
      "Train Epoch: 22 [30976/54863 (56%)]\tLoss: 0.068763\tTrain Accuracy: 96.600594\n"
     ]
    },
    {
     "name": "stderr",
     "output_type": "stream",
     "text": [
      " 66%|██████▌   | 141/215 [04:39<02:22,  1.93s/it]"
     ]
    },
    {
     "name": "stdout",
     "output_type": "stream",
     "text": [
      "Train Epoch: 22 [36096/54863 (66%)]\tLoss: 0.103351\tTrain Accuracy: 96.678299\n"
     ]
    },
    {
     "name": "stderr",
     "output_type": "stream",
     "text": [
      " 75%|███████▍  | 161/215 [05:16<01:43,  1.92s/it]"
     ]
    },
    {
     "name": "stdout",
     "output_type": "stream",
     "text": [
      "Train Epoch: 22 [41216/54863 (75%)]\tLoss: 0.050278\tTrain Accuracy: 96.724571\n"
     ]
    },
    {
     "name": "stderr",
     "output_type": "stream",
     "text": [
      " 84%|████████▍ | 181/215 [05:53<01:04,  1.89s/it]"
     ]
    },
    {
     "name": "stdout",
     "output_type": "stream",
     "text": [
      "Train Epoch: 22 [46336/54863 (84%)]\tLoss: 0.109758\tTrain Accuracy: 96.775726\n"
     ]
    },
    {
     "name": "stderr",
     "output_type": "stream",
     "text": [
      " 93%|█████████▎| 201/215 [06:29<00:25,  1.84s/it]"
     ]
    },
    {
     "name": "stdout",
     "output_type": "stream",
     "text": [
      "Train Epoch: 22 [51456/54863 (93%)]\tLoss: 0.083263\tTrain Accuracy: 96.816696\n"
     ]
    },
    {
     "name": "stderr",
     "output_type": "stream",
     "text": [
      "100%|██████████| 215/215 [06:52<00:00,  1.34s/it]\n",
      "  0%|          | 0/55 [00:00<?, ?it/s]"
     ]
    },
    {
     "name": "stdout",
     "output_type": "stream",
     "text": [
      "\n",
      "Train set: Average loss = 0.0927, Train Accuracy = 96.8212\n",
      "\n",
      "\n",
      "Testing:\n"
     ]
    },
    {
     "name": "stderr",
     "output_type": "stream",
     "text": [
      "100%|██████████| 55/55 [01:26<00:00,  1.58s/it]\n"
     ]
    },
    {
     "name": "stdout",
     "output_type": "stream",
     "text": [
      "\n",
      "Test set: Average loss = 1.9936, Test Accuracy = 69.2480\n",
      "\n"
     ]
    },
    {
     "name": "stderr",
     "output_type": "stream",
     "text": [
      "\r",
      "  0%|          | 0/215 [00:00<?, ?it/s]"
     ]
    },
    {
     "name": "stdout",
     "output_type": "stream",
     "text": [
      "Time taken for running epoch 22 is 503.442 seconds.\n",
      "\n",
      "\n",
      "Epoch number:  23\n",
      "\n",
      "Training:\n"
     ]
    },
    {
     "name": "stderr",
     "output_type": "stream",
     "text": [
      "\r",
      "  0%|          | 1/215 [00:05<18:20,  5.14s/it]"
     ]
    },
    {
     "name": "stdout",
     "output_type": "stream",
     "text": [
      "Train Epoch: 23 [256/54863 (0%)]\tLoss: 0.104204\tTrain Accuracy: 96.875000\n"
     ]
    },
    {
     "name": "stderr",
     "output_type": "stream",
     "text": [
      " 10%|▉         | 21/215 [00:46<06:45,  2.09s/it]"
     ]
    },
    {
     "name": "stdout",
     "output_type": "stream",
     "text": [
      "Train Epoch: 23 [5376/54863 (10%)]\tLoss: 0.056986\tTrain Accuracy: 96.819199\n"
     ]
    },
    {
     "name": "stderr",
     "output_type": "stream",
     "text": [
      " 19%|█▉        | 41/215 [01:26<06:04,  2.09s/it]"
     ]
    },
    {
     "name": "stdout",
     "output_type": "stream",
     "text": [
      "Train Epoch: 23 [10496/54863 (19%)]\tLoss: 0.063742\tTrain Accuracy: 97.122711\n"
     ]
    },
    {
     "name": "stderr",
     "output_type": "stream",
     "text": [
      " 28%|██▊       | 61/215 [02:05<05:08,  2.00s/it]"
     ]
    },
    {
     "name": "stdout",
     "output_type": "stream",
     "text": [
      "Train Epoch: 23 [15616/54863 (28%)]\tLoss: 0.101019\tTrain Accuracy: 97.118340\n"
     ]
    },
    {
     "name": "stderr",
     "output_type": "stream",
     "text": [
      " 38%|███▊      | 81/215 [02:43<04:22,  1.96s/it]"
     ]
    },
    {
     "name": "stdout",
     "output_type": "stream",
     "text": [
      "Train Epoch: 23 [20736/54863 (38%)]\tLoss: 0.074932\tTrain Accuracy: 97.005211\n"
     ]
    },
    {
     "name": "stderr",
     "output_type": "stream",
     "text": [
      " 47%|████▋     | 101/215 [03:21<03:41,  1.94s/it]"
     ]
    },
    {
     "name": "stdout",
     "output_type": "stream",
     "text": [
      "Train Epoch: 23 [25856/54863 (47%)]\tLoss: 0.077891\tTrain Accuracy: 96.971687\n"
     ]
    },
    {
     "name": "stderr",
     "output_type": "stream",
     "text": [
      " 56%|█████▋    | 121/215 [03:58<02:52,  1.83s/it]"
     ]
    },
    {
     "name": "stdout",
     "output_type": "stream",
     "text": [
      "Train Epoch: 23 [30976/54863 (56%)]\tLoss: 0.079232\tTrain Accuracy: 96.881454\n"
     ]
    },
    {
     "name": "stderr",
     "output_type": "stream",
     "text": [
      " 66%|██████▌   | 141/215 [04:35<02:20,  1.89s/it]"
     ]
    },
    {
     "name": "stdout",
     "output_type": "stream",
     "text": [
      "Train Epoch: 23 [36096/54863 (66%)]\tLoss: 0.100562\tTrain Accuracy: 96.922096\n"
     ]
    },
    {
     "name": "stderr",
     "output_type": "stream",
     "text": [
      " 75%|███████▍  | 161/215 [05:12<01:37,  1.80s/it]"
     ]
    },
    {
     "name": "stdout",
     "output_type": "stream",
     "text": [
      "Train Epoch: 23 [41216/54863 (75%)]\tLoss: 0.124729\tTrain Accuracy: 96.862869\n"
     ]
    },
    {
     "name": "stderr",
     "output_type": "stream",
     "text": [
      " 84%|████████▍ | 181/215 [05:48<01:00,  1.78s/it]"
     ]
    },
    {
     "name": "stdout",
     "output_type": "stream",
     "text": [
      "Train Epoch: 23 [46336/54863 (84%)]\tLoss: 0.047403\tTrain Accuracy: 96.825363\n"
     ]
    },
    {
     "name": "stderr",
     "output_type": "stream",
     "text": [
      " 93%|█████████▎| 201/215 [06:24<00:24,  1.76s/it]"
     ]
    },
    {
     "name": "stdout",
     "output_type": "stream",
     "text": [
      "Train Epoch: 23 [51456/54863 (93%)]\tLoss: 0.124725\tTrain Accuracy: 96.838074\n"
     ]
    },
    {
     "name": "stderr",
     "output_type": "stream",
     "text": [
      "100%|██████████| 215/215 [06:48<00:00,  1.38s/it]\n",
      "  0%|          | 0/55 [00:00<?, ?it/s]"
     ]
    },
    {
     "name": "stdout",
     "output_type": "stream",
     "text": [
      "\n",
      "Train set: Average loss = 0.0891, Train Accuracy = 96.8540\n",
      "\n",
      "\n",
      "Testing:\n"
     ]
    },
    {
     "name": "stderr",
     "output_type": "stream",
     "text": [
      "100%|██████████| 55/55 [01:27<00:00,  1.58s/it]\n"
     ]
    },
    {
     "name": "stdout",
     "output_type": "stream",
     "text": [
      "\n",
      "Test set: Average loss = 0.9017, Test Accuracy = 81.3232\n",
      "\n"
     ]
    },
    {
     "name": "stderr",
     "output_type": "stream",
     "text": [
      "\r",
      "  0%|          | 0/215 [00:00<?, ?it/s]"
     ]
    },
    {
     "name": "stdout",
     "output_type": "stream",
     "text": [
      "Time taken for running epoch 23 is 499.826 seconds.\n",
      "\n",
      "\n",
      "Epoch number:  24\n",
      "\n",
      "Training:\n"
     ]
    },
    {
     "name": "stderr",
     "output_type": "stream",
     "text": [
      "\r",
      "  0%|          | 1/215 [00:05<18:22,  5.15s/it]"
     ]
    },
    {
     "name": "stdout",
     "output_type": "stream",
     "text": [
      "Train Epoch: 24 [256/54863 (0%)]\tLoss: 0.062901\tTrain Accuracy: 97.265625\n"
     ]
    },
    {
     "name": "stderr",
     "output_type": "stream",
     "text": [
      " 10%|▉         | 21/215 [00:46<06:42,  2.07s/it]"
     ]
    },
    {
     "name": "stdout",
     "output_type": "stream",
     "text": [
      "Train Epoch: 24 [5376/54863 (10%)]\tLoss: 0.115410\tTrain Accuracy: 96.781998\n"
     ]
    },
    {
     "name": "stderr",
     "output_type": "stream",
     "text": [
      " 19%|█▉        | 41/215 [01:26<06:02,  2.09s/it]"
     ]
    },
    {
     "name": "stdout",
     "output_type": "stream",
     "text": [
      "Train Epoch: 24 [10496/54863 (19%)]\tLoss: 0.035292\tTrain Accuracy: 96.998856\n"
     ]
    },
    {
     "name": "stderr",
     "output_type": "stream",
     "text": [
      " 28%|██▊       | 61/215 [02:05<05:10,  2.01s/it]"
     ]
    },
    {
     "name": "stdout",
     "output_type": "stream",
     "text": [
      "Train Epoch: 24 [15616/54863 (28%)]\tLoss: 0.122874\tTrain Accuracy: 96.932632\n"
     ]
    },
    {
     "name": "stderr",
     "output_type": "stream",
     "text": [
      " 38%|███▊      | 81/215 [02:44<04:28,  2.01s/it]"
     ]
    },
    {
     "name": "stdout",
     "output_type": "stream",
     "text": [
      "Train Epoch: 24 [20736/54863 (38%)]\tLoss: 0.110560\tTrain Accuracy: 96.947334\n"
     ]
    },
    {
     "name": "stderr",
     "output_type": "stream",
     "text": [
      " 47%|████▋     | 101/215 [03:22<03:38,  1.92s/it]"
     ]
    },
    {
     "name": "stdout",
     "output_type": "stream",
     "text": [
      "Train Epoch: 24 [25856/54863 (47%)]\tLoss: 0.122182\tTrain Accuracy: 96.816986\n"
     ]
    },
    {
     "name": "stderr",
     "output_type": "stream",
     "text": [
      " 56%|█████▋    | 121/215 [03:59<03:02,  1.94s/it]"
     ]
    },
    {
     "name": "stdout",
     "output_type": "stream",
     "text": [
      "Train Epoch: 24 [30976/54863 (56%)]\tLoss: 0.094065\tTrain Accuracy: 96.768463\n"
     ]
    },
    {
     "name": "stderr",
     "output_type": "stream",
     "text": [
      " 66%|██████▌   | 141/215 [04:37<02:24,  1.96s/it]"
     ]
    },
    {
     "name": "stdout",
     "output_type": "stream",
     "text": [
      "Train Epoch: 24 [36096/54863 (66%)]\tLoss: 0.040276\tTrain Accuracy: 96.797432\n"
     ]
    },
    {
     "name": "stderr",
     "output_type": "stream",
     "text": [
      " 75%|███████▍  | 161/215 [05:13<01:37,  1.80s/it]"
     ]
    },
    {
     "name": "stdout",
     "output_type": "stream",
     "text": [
      "Train Epoch: 24 [41216/54863 (75%)]\tLoss: 0.157253\tTrain Accuracy: 96.792511\n"
     ]
    },
    {
     "name": "stderr",
     "output_type": "stream",
     "text": [
      " 84%|████████▍ | 181/215 [05:50<01:01,  1.82s/it]"
     ]
    },
    {
     "name": "stdout",
     "output_type": "stream",
     "text": [
      "Train Epoch: 24 [46336/54863 (84%)]\tLoss: 0.115640\tTrain Accuracy: 96.767090\n"
     ]
    },
    {
     "name": "stderr",
     "output_type": "stream",
     "text": [
      " 93%|█████████▎| 201/215 [06:25<00:25,  1.83s/it]"
     ]
    },
    {
     "name": "stdout",
     "output_type": "stream",
     "text": [
      "Train Epoch: 24 [51456/54863 (93%)]\tLoss: 0.087673\tTrain Accuracy: 96.713699\n"
     ]
    },
    {
     "name": "stderr",
     "output_type": "stream",
     "text": [
      "100%|██████████| 215/215 [06:50<00:00,  1.48s/it]\n",
      "  0%|          | 0/55 [00:00<?, ?it/s]"
     ]
    },
    {
     "name": "stdout",
     "output_type": "stream",
     "text": [
      "\n",
      "Train set: Average loss = 0.0917, Train Accuracy = 96.7118\n",
      "\n",
      "\n",
      "Testing:\n"
     ]
    },
    {
     "name": "stderr",
     "output_type": "stream",
     "text": [
      "100%|██████████| 55/55 [01:27<00:00,  1.59s/it]\n"
     ]
    },
    {
     "name": "stdout",
     "output_type": "stream",
     "text": [
      "\n",
      "Test set: Average loss = 0.8820, Test Accuracy = 80.7881\n",
      "\n"
     ]
    },
    {
     "name": "stderr",
     "output_type": "stream",
     "text": [
      "\r",
      "  0%|          | 0/215 [00:00<?, ?it/s]"
     ]
    },
    {
     "name": "stdout",
     "output_type": "stream",
     "text": [
      "Time taken for running epoch 24 is 501.707 seconds.\n",
      "\n",
      "\n",
      "Epoch number:  25\n",
      "\n",
      "Training:\n"
     ]
    },
    {
     "name": "stderr",
     "output_type": "stream",
     "text": [
      "\r",
      "  0%|          | 1/215 [00:05<18:40,  5.24s/it]"
     ]
    },
    {
     "name": "stdout",
     "output_type": "stream",
     "text": [
      "Train Epoch: 25 [256/54863 (0%)]\tLoss: 0.116224\tTrain Accuracy: 96.484375\n"
     ]
    },
    {
     "name": "stderr",
     "output_type": "stream",
     "text": [
      " 10%|▉         | 21/215 [00:46<06:42,  2.07s/it]"
     ]
    },
    {
     "name": "stdout",
     "output_type": "stream",
     "text": [
      "Train Epoch: 25 [5376/54863 (10%)]\tLoss: 0.094658\tTrain Accuracy: 96.540176\n"
     ]
    },
    {
     "name": "stderr",
     "output_type": "stream",
     "text": [
      " 19%|█▉        | 41/215 [01:27<06:05,  2.10s/it]"
     ]
    },
    {
     "name": "stdout",
     "output_type": "stream",
     "text": [
      "Train Epoch: 25 [10496/54863 (19%)]\tLoss: 0.069986\tTrain Accuracy: 96.865471\n"
     ]
    },
    {
     "name": "stderr",
     "output_type": "stream",
     "text": [
      " 28%|██▊       | 61/215 [02:06<05:19,  2.07s/it]"
     ]
    },
    {
     "name": "stdout",
     "output_type": "stream",
     "text": [
      "Train Epoch: 25 [15616/54863 (28%)]\tLoss: 0.033564\tTrain Accuracy: 96.958244\n"
     ]
    },
    {
     "name": "stderr",
     "output_type": "stream",
     "text": [
      " 38%|███▊      | 81/215 [02:45<04:27,  1.99s/it]"
     ]
    },
    {
     "name": "stdout",
     "output_type": "stream",
     "text": [
      "Train Epoch: 25 [20736/54863 (38%)]\tLoss: 0.063357\tTrain Accuracy: 96.932869\n"
     ]
    },
    {
     "name": "stderr",
     "output_type": "stream",
     "text": [
      " 47%|████▋     | 101/215 [03:23<03:40,  1.93s/it]"
     ]
    },
    {
     "name": "stdout",
     "output_type": "stream",
     "text": [
      "Train Epoch: 25 [25856/54863 (47%)]\tLoss: 0.112057\tTrain Accuracy: 96.963951\n"
     ]
    },
    {
     "name": "stderr",
     "output_type": "stream",
     "text": [
      " 56%|█████▋    | 121/215 [04:01<03:01,  1.93s/it]"
     ]
    },
    {
     "name": "stdout",
     "output_type": "stream",
     "text": [
      "Train Epoch: 25 [30976/54863 (56%)]\tLoss: 0.079062\tTrain Accuracy: 96.994446\n"
     ]
    },
    {
     "name": "stderr",
     "output_type": "stream",
     "text": [
      " 66%|██████▌   | 141/215 [04:38<02:21,  1.91s/it]"
     ]
    },
    {
     "name": "stdout",
     "output_type": "stream",
     "text": [
      "Train Epoch: 25 [36096/54863 (66%)]\tLoss: 0.065446\tTrain Accuracy: 97.035683\n"
     ]
    },
    {
     "name": "stderr",
     "output_type": "stream",
     "text": [
      " 75%|███████▍  | 161/215 [05:15<01:43,  1.92s/it]"
     ]
    },
    {
     "name": "stdout",
     "output_type": "stream",
     "text": [
      "Train Epoch: 25 [41216/54863 (75%)]\tLoss: 0.140870\tTrain Accuracy: 97.076378\n"
     ]
    },
    {
     "name": "stderr",
     "output_type": "stream",
     "text": [
      " 84%|████████▍ | 181/215 [05:52<01:03,  1.88s/it]"
     ]
    },
    {
     "name": "stdout",
     "output_type": "stream",
     "text": [
      "Train Epoch: 25 [46336/54863 (84%)]\tLoss: 0.117918\tTrain Accuracy: 97.071388\n"
     ]
    },
    {
     "name": "stderr",
     "output_type": "stream",
     "text": [
      " 93%|█████████▎| 201/215 [06:28<00:26,  1.89s/it]"
     ]
    },
    {
     "name": "stdout",
     "output_type": "stream",
     "text": [
      "Train Epoch: 25 [51456/54863 (93%)]\tLoss: 0.066206\tTrain Accuracy: 97.082947\n"
     ]
    },
    {
     "name": "stderr",
     "output_type": "stream",
     "text": [
      "100%|██████████| 215/215 [06:52<00:00,  1.33s/it]\n",
      "  0%|          | 0/55 [00:00<?, ?it/s]"
     ]
    },
    {
     "name": "stdout",
     "output_type": "stream",
     "text": [
      "\n",
      "Train set: Average loss = 0.0824, Train Accuracy = 97.0928\n",
      "\n",
      "\n",
      "Testing:\n"
     ]
    },
    {
     "name": "stderr",
     "output_type": "stream",
     "text": [
      "100%|██████████| 55/55 [01:27<00:00,  1.60s/it]\n"
     ]
    },
    {
     "name": "stdout",
     "output_type": "stream",
     "text": [
      "\n",
      "Test set: Average loss = 0.9474, Test Accuracy = 81.7787\n",
      "\n"
     ]
    },
    {
     "name": "stderr",
     "output_type": "stream",
     "text": [
      "\r",
      "  0%|          | 0/215 [00:00<?, ?it/s]"
     ]
    },
    {
     "name": "stdout",
     "output_type": "stream",
     "text": [
      "Time taken for running epoch 25 is 503.923 seconds.\n",
      "\n",
      "\n",
      "Epoch number:  26\n",
      "\n",
      "Training:\n"
     ]
    },
    {
     "name": "stderr",
     "output_type": "stream",
     "text": [
      "\r",
      "  0%|          | 1/215 [00:05<18:34,  5.21s/it]"
     ]
    },
    {
     "name": "stdout",
     "output_type": "stream",
     "text": [
      "Train Epoch: 26 [256/54863 (0%)]\tLoss: 0.114010\tTrain Accuracy: 96.093750\n"
     ]
    },
    {
     "name": "stderr",
     "output_type": "stream",
     "text": [
      " 10%|▉         | 21/215 [00:46<06:41,  2.07s/it]"
     ]
    },
    {
     "name": "stdout",
     "output_type": "stream",
     "text": [
      "Train Epoch: 26 [5376/54863 (10%)]\tLoss: 0.066582\tTrain Accuracy: 96.651787\n"
     ]
    },
    {
     "name": "stderr",
     "output_type": "stream",
     "text": [
      " 19%|█▉        | 41/215 [01:26<06:01,  2.08s/it]"
     ]
    },
    {
     "name": "stdout",
     "output_type": "stream",
     "text": [
      "Train Epoch: 26 [10496/54863 (19%)]\tLoss: 0.129711\tTrain Accuracy: 96.865471\n"
     ]
    },
    {
     "name": "stderr",
     "output_type": "stream",
     "text": [
      " 28%|██▊       | 61/215 [02:06<05:20,  2.08s/it]"
     ]
    },
    {
     "name": "stdout",
     "output_type": "stream",
     "text": [
      "Train Epoch: 26 [15616/54863 (28%)]\tLoss: 0.115682\tTrain Accuracy: 96.862190\n"
     ]
    },
    {
     "name": "stderr",
     "output_type": "stream",
     "text": [
      " 38%|███▊      | 81/215 [02:45<04:29,  2.01s/it]"
     ]
    },
    {
     "name": "stdout",
     "output_type": "stream",
     "text": [
      "Train Epoch: 26 [20736/54863 (38%)]\tLoss: 0.083542\tTrain Accuracy: 96.952164\n"
     ]
    },
    {
     "name": "stderr",
     "output_type": "stream",
     "text": [
      " 47%|████▋     | 101/215 [03:23<03:45,  1.98s/it]"
     ]
    },
    {
     "name": "stdout",
     "output_type": "stream",
     "text": [
      "Train Epoch: 26 [25856/54863 (47%)]\tLoss: 0.101179\tTrain Accuracy: 96.960083\n"
     ]
    },
    {
     "name": "stderr",
     "output_type": "stream",
     "text": [
      " 56%|█████▋    | 121/215 [04:01<03:03,  1.96s/it]"
     ]
    },
    {
     "name": "stdout",
     "output_type": "stream",
     "text": [
      "Train Epoch: 26 [30976/54863 (56%)]\tLoss: 0.041688\tTrain Accuracy: 96.987991\n"
     ]
    },
    {
     "name": "stderr",
     "output_type": "stream",
     "text": [
      " 66%|██████▌   | 141/215 [04:39<02:21,  1.92s/it]"
     ]
    },
    {
     "name": "stdout",
     "output_type": "stream",
     "text": [
      "Train Epoch: 26 [36096/54863 (66%)]\tLoss: 0.109203\tTrain Accuracy: 96.974731\n"
     ]
    },
    {
     "name": "stderr",
     "output_type": "stream",
     "text": [
      " 75%|███████▍  | 161/215 [05:16<01:40,  1.86s/it]"
     ]
    },
    {
     "name": "stdout",
     "output_type": "stream",
     "text": [
      "Train Epoch: 26 [41216/54863 (75%)]\tLoss: 0.104043\tTrain Accuracy: 96.986610\n"
     ]
    },
    {
     "name": "stderr",
     "output_type": "stream",
     "text": [
      " 84%|████████▍ | 181/215 [05:52<01:01,  1.82s/it]"
     ]
    },
    {
     "name": "stdout",
     "output_type": "stream",
     "text": [
      "Train Epoch: 26 [46336/54863 (84%)]\tLoss: 0.089828\tTrain Accuracy: 97.032547\n"
     ]
    },
    {
     "name": "stderr",
     "output_type": "stream",
     "text": [
      " 93%|█████████▎| 201/215 [06:28<00:25,  1.83s/it]"
     ]
    },
    {
     "name": "stdout",
     "output_type": "stream",
     "text": [
      "Train Epoch: 26 [51456/54863 (93%)]\tLoss: 0.062049\tTrain Accuracy: 96.993546\n"
     ]
    },
    {
     "name": "stderr",
     "output_type": "stream",
     "text": [
      "100%|██████████| 215/215 [06:51<00:00,  1.41s/it]\n",
      "  0%|          | 0/55 [00:00<?, ?it/s]"
     ]
    },
    {
     "name": "stdout",
     "output_type": "stream",
     "text": [
      "\n",
      "Train set: Average loss = 0.0863, Train Accuracy = 96.9506\n",
      "\n",
      "\n",
      "Testing:\n"
     ]
    },
    {
     "name": "stderr",
     "output_type": "stream",
     "text": [
      "100%|██████████| 55/55 [01:28<00:00,  1.61s/it]\n"
     ]
    },
    {
     "name": "stdout",
     "output_type": "stream",
     "text": [
      "\n",
      "Test set: Average loss = 0.9220, Test Accuracy = 81.2292\n",
      "\n"
     ]
    },
    {
     "name": "stderr",
     "output_type": "stream",
     "text": [
      "\r",
      "  0%|          | 0/215 [00:00<?, ?it/s]"
     ]
    },
    {
     "name": "stdout",
     "output_type": "stream",
     "text": [
      "Time taken for running epoch 26 is 504.826 seconds.\n",
      "\n",
      "\n",
      "Epoch number:  27\n",
      "\n",
      "Training:\n"
     ]
    },
    {
     "name": "stderr",
     "output_type": "stream",
     "text": [
      "\r",
      "  0%|          | 1/215 [00:05<18:38,  5.23s/it]"
     ]
    },
    {
     "name": "stdout",
     "output_type": "stream",
     "text": [
      "Train Epoch: 27 [256/54863 (0%)]\tLoss: 0.065540\tTrain Accuracy: 97.656250\n"
     ]
    },
    {
     "name": "stderr",
     "output_type": "stream",
     "text": [
      " 10%|▉         | 21/215 [00:48<06:50,  2.12s/it]"
     ]
    },
    {
     "name": "stdout",
     "output_type": "stream",
     "text": [
      "Train Epoch: 27 [5376/54863 (10%)]\tLoss: 0.080444\tTrain Accuracy: 96.893600\n"
     ]
    },
    {
     "name": "stderr",
     "output_type": "stream",
     "text": [
      " 19%|█▉        | 41/215 [01:28<06:10,  2.13s/it]"
     ]
    },
    {
     "name": "stdout",
     "output_type": "stream",
     "text": [
      "Train Epoch: 27 [10496/54863 (19%)]\tLoss: 0.065222\tTrain Accuracy: 97.160820\n"
     ]
    },
    {
     "name": "stderr",
     "output_type": "stream",
     "text": [
      " 28%|██▊       | 61/215 [02:09<05:25,  2.12s/it]"
     ]
    },
    {
     "name": "stdout",
     "output_type": "stream",
     "text": [
      "Train Epoch: 27 [15616/54863 (28%)]\tLoss: 0.088840\tTrain Accuracy: 97.220802\n"
     ]
    },
    {
     "name": "stderr",
     "output_type": "stream",
     "text": [
      " 38%|███▊      | 81/215 [02:49<04:37,  2.07s/it]"
     ]
    },
    {
     "name": "stdout",
     "output_type": "stream",
     "text": [
      "Train Epoch: 27 [20736/54863 (38%)]\tLoss: 0.098876\tTrain Accuracy: 97.284912\n"
     ]
    },
    {
     "name": "stderr",
     "output_type": "stream",
     "text": [
      " 47%|████▋     | 101/215 [03:28<03:52,  2.04s/it]"
     ]
    },
    {
     "name": "stdout",
     "output_type": "stream",
     "text": [
      "Train Epoch: 27 [25856/54863 (47%)]\tLoss: 0.064674\tTrain Accuracy: 97.246284\n"
     ]
    },
    {
     "name": "stderr",
     "output_type": "stream",
     "text": [
      " 56%|█████▋    | 121/215 [04:07<03:08,  2.00s/it]"
     ]
    },
    {
     "name": "stdout",
     "output_type": "stream",
     "text": [
      "Train Epoch: 27 [30976/54863 (56%)]\tLoss: 0.071162\tTrain Accuracy: 97.268852\n"
     ]
    },
    {
     "name": "stderr",
     "output_type": "stream",
     "text": [
      " 66%|██████▌   | 141/215 [04:45<02:22,  1.92s/it]"
     ]
    },
    {
     "name": "stdout",
     "output_type": "stream",
     "text": [
      "Train Epoch: 27 [36096/54863 (66%)]\tLoss: 0.088434\tTrain Accuracy: 97.199135\n"
     ]
    },
    {
     "name": "stderr",
     "output_type": "stream",
     "text": [
      " 75%|███████▍  | 161/215 [05:23<01:46,  1.98s/it]"
     ]
    },
    {
     "name": "stdout",
     "output_type": "stream",
     "text": [
      "Train Epoch: 27 [41216/54863 (75%)]\tLoss: 0.038579\tTrain Accuracy: 97.146736\n"
     ]
    },
    {
     "name": "stderr",
     "output_type": "stream",
     "text": [
      " 84%|████████▍ | 181/215 [06:00<01:00,  1.79s/it]"
     ]
    },
    {
     "name": "stdout",
     "output_type": "stream",
     "text": [
      "Train Epoch: 27 [46336/54863 (84%)]\tLoss: 0.059943\tTrain Accuracy: 97.149086\n"
     ]
    },
    {
     "name": "stderr",
     "output_type": "stream",
     "text": [
      " 93%|█████████▎| 201/215 [06:37<00:26,  1.92s/it]"
     ]
    },
    {
     "name": "stdout",
     "output_type": "stream",
     "text": [
      "Train Epoch: 27 [51456/54863 (93%)]\tLoss: 0.081318\tTrain Accuracy: 97.185944\n"
     ]
    },
    {
     "name": "stderr",
     "output_type": "stream",
     "text": [
      "100%|██████████| 215/215 [07:01<00:00,  1.40s/it]\n",
      "  0%|          | 0/55 [00:00<?, ?it/s]"
     ]
    },
    {
     "name": "stdout",
     "output_type": "stream",
     "text": [
      "\n",
      "Train set: Average loss = 0.0810, Train Accuracy = 97.2003\n",
      "\n",
      "\n",
      "Testing:\n"
     ]
    },
    {
     "name": "stderr",
     "output_type": "stream",
     "text": [
      "100%|██████████| 55/55 [01:29<00:00,  1.62s/it]\n"
     ]
    },
    {
     "name": "stdout",
     "output_type": "stream",
     "text": [
      "\n",
      "Test set: Average loss = 0.8143, Test Accuracy = 82.9356\n",
      "\n"
     ]
    },
    {
     "name": "stderr",
     "output_type": "stream",
     "text": [
      "\r",
      "  0%|          | 0/215 [00:00<?, ?it/s]"
     ]
    },
    {
     "name": "stdout",
     "output_type": "stream",
     "text": [
      "Time taken for running epoch 27 is 514.726 seconds.\n",
      "\n",
      "\n",
      "Epoch number:  28\n",
      "\n",
      "Training:\n"
     ]
    },
    {
     "name": "stderr",
     "output_type": "stream",
     "text": [
      "\r",
      "  0%|          | 1/215 [00:05<20:35,  5.77s/it]"
     ]
    },
    {
     "name": "stdout",
     "output_type": "stream",
     "text": [
      "Train Epoch: 28 [256/54863 (0%)]\tLoss: 0.065779\tTrain Accuracy: 98.046875\n"
     ]
    },
    {
     "name": "stderr",
     "output_type": "stream",
     "text": [
      " 10%|▉         | 21/215 [00:48<06:51,  2.12s/it]"
     ]
    },
    {
     "name": "stdout",
     "output_type": "stream",
     "text": [
      "Train Epoch: 28 [5376/54863 (10%)]\tLoss: 0.156018\tTrain Accuracy: 97.265625\n"
     ]
    },
    {
     "name": "stderr",
     "output_type": "stream",
     "text": [
      " 19%|█▉        | 41/215 [01:29<06:14,  2.15s/it]"
     ]
    },
    {
     "name": "stdout",
     "output_type": "stream",
     "text": [
      "Train Epoch: 28 [10496/54863 (19%)]\tLoss: 0.085098\tTrain Accuracy: 97.332314\n"
     ]
    },
    {
     "name": "stderr",
     "output_type": "stream",
     "text": [
      " 28%|██▊       | 61/215 [02:09<05:22,  2.09s/it]"
     ]
    },
    {
     "name": "stdout",
     "output_type": "stream",
     "text": [
      "Train Epoch: 28 [15616/54863 (28%)]\tLoss: 0.090113\tTrain Accuracy: 97.316856\n"
     ]
    },
    {
     "name": "stderr",
     "output_type": "stream",
     "text": [
      " 38%|███▊      | 81/215 [02:48<04:30,  2.02s/it]"
     ]
    },
    {
     "name": "stdout",
     "output_type": "stream",
     "text": [
      "Train Epoch: 28 [20736/54863 (38%)]\tLoss: 0.096260\tTrain Accuracy: 97.342789\n"
     ]
    },
    {
     "name": "stderr",
     "output_type": "stream",
     "text": [
      " 47%|████▋     | 101/215 [03:27<03:44,  1.97s/it]"
     ]
    },
    {
     "name": "stdout",
     "output_type": "stream",
     "text": [
      "Train Epoch: 28 [25856/54863 (47%)]\tLoss: 0.069749\tTrain Accuracy: 97.319771\n"
     ]
    },
    {
     "name": "stderr",
     "output_type": "stream",
     "text": [
      " 56%|█████▋    | 121/215 [04:05<03:02,  1.95s/it]"
     ]
    },
    {
     "name": "stdout",
     "output_type": "stream",
     "text": [
      "Train Epoch: 28 [30976/54863 (56%)]\tLoss: 0.077007\tTrain Accuracy: 97.284996\n"
     ]
    },
    {
     "name": "stderr",
     "output_type": "stream",
     "text": [
      " 66%|██████▌   | 141/215 [04:42<02:19,  1.88s/it]"
     ]
    },
    {
     "name": "stdout",
     "output_type": "stream",
     "text": [
      "Train Epoch: 28 [36096/54863 (66%)]\tLoss: 0.049998\tTrain Accuracy: 97.309952\n"
     ]
    },
    {
     "name": "stderr",
     "output_type": "stream",
     "text": [
      " 75%|███████▍  | 161/215 [05:18<01:42,  1.89s/it]"
     ]
    },
    {
     "name": "stdout",
     "output_type": "stream",
     "text": [
      "Train Epoch: 28 [41216/54863 (75%)]\tLoss: 0.069195\tTrain Accuracy: 97.306870\n"
     ]
    },
    {
     "name": "stderr",
     "output_type": "stream",
     "text": [
      " 84%|████████▍ | 181/215 [05:54<01:00,  1.79s/it]"
     ]
    },
    {
     "name": "stdout",
     "output_type": "stream",
     "text": [
      "Train Epoch: 28 [46336/54863 (84%)]\tLoss: 0.057956\tTrain Accuracy: 97.339005\n"
     ]
    },
    {
     "name": "stderr",
     "output_type": "stream",
     "text": [
      " 93%|█████████▎| 201/215 [06:31<00:26,  1.86s/it]"
     ]
    },
    {
     "name": "stdout",
     "output_type": "stream",
     "text": [
      "Train Epoch: 28 [51456/54863 (93%)]\tLoss: 0.071203\tTrain Accuracy: 97.378342\n"
     ]
    },
    {
     "name": "stderr",
     "output_type": "stream",
     "text": [
      "100%|██████████| 215/215 [06:55<00:00,  1.43s/it]\n",
      "  0%|          | 0/55 [00:00<?, ?it/s]"
     ]
    },
    {
     "name": "stdout",
     "output_type": "stream",
     "text": [
      "\n",
      "Train set: Average loss = 0.0758, Train Accuracy = 97.3479\n",
      "\n",
      "\n",
      "Testing:\n"
     ]
    },
    {
     "name": "stderr",
     "output_type": "stream",
     "text": [
      "100%|██████████| 55/55 [01:28<00:00,  1.61s/it]\n"
     ]
    },
    {
     "name": "stdout",
     "output_type": "stream",
     "text": [
      "\n",
      "Test set: Average loss = 0.8036, Test Accuracy = 82.5380\n",
      "\n"
     ]
    },
    {
     "name": "stderr",
     "output_type": "stream",
     "text": [
      "\r",
      "  0%|          | 0/215 [00:00<?, ?it/s]"
     ]
    },
    {
     "name": "stdout",
     "output_type": "stream",
     "text": [
      "Time taken for running epoch 28 is 508.074 seconds.\n",
      "\n",
      "\n",
      "Epoch number:  29\n",
      "\n",
      "Training:\n"
     ]
    },
    {
     "name": "stderr",
     "output_type": "stream",
     "text": [
      "\r",
      "  0%|          | 1/215 [00:05<18:27,  5.18s/it]"
     ]
    },
    {
     "name": "stdout",
     "output_type": "stream",
     "text": [
      "Train Epoch: 29 [256/54863 (0%)]\tLoss: 0.078923\tTrain Accuracy: 97.656250\n"
     ]
    },
    {
     "name": "stderr",
     "output_type": "stream",
     "text": [
      " 10%|▉         | 21/215 [00:47<06:54,  2.14s/it]"
     ]
    },
    {
     "name": "stdout",
     "output_type": "stream",
     "text": [
      "Train Epoch: 29 [5376/54863 (10%)]\tLoss: 0.100140\tTrain Accuracy: 97.191223\n"
     ]
    },
    {
     "name": "stderr",
     "output_type": "stream",
     "text": [
      " 19%|█▉        | 41/215 [01:28<05:59,  2.07s/it]"
     ]
    },
    {
     "name": "stdout",
     "output_type": "stream",
     "text": [
      "Train Epoch: 29 [10496/54863 (19%)]\tLoss: 0.042304\tTrain Accuracy: 97.237045\n"
     ]
    },
    {
     "name": "stderr",
     "output_type": "stream",
     "text": [
      " 28%|██▊       | 61/215 [02:08<05:17,  2.06s/it]"
     ]
    },
    {
     "name": "stdout",
     "output_type": "stream",
     "text": [
      "Train Epoch: 29 [15616/54863 (28%)]\tLoss: 0.064630\tTrain Accuracy: 97.041496\n"
     ]
    },
    {
     "name": "stderr",
     "output_type": "stream",
     "text": [
      " 38%|███▊      | 81/215 [02:48<04:28,  2.01s/it]"
     ]
    },
    {
     "name": "stdout",
     "output_type": "stream",
     "text": [
      "Train Epoch: 29 [20736/54863 (38%)]\tLoss: 0.059763\tTrain Accuracy: 97.043785\n"
     ]
    },
    {
     "name": "stderr",
     "output_type": "stream",
     "text": [
      " 47%|████▋     | 101/215 [03:26<03:44,  1.97s/it]"
     ]
    },
    {
     "name": "stdout",
     "output_type": "stream",
     "text": [
      "Train Epoch: 29 [25856/54863 (47%)]\tLoss: 0.054558\tTrain Accuracy: 97.199875\n"
     ]
    },
    {
     "name": "stderr",
     "output_type": "stream",
     "text": [
      " 56%|█████▋    | 121/215 [04:04<03:03,  1.95s/it]"
     ]
    },
    {
     "name": "stdout",
     "output_type": "stream",
     "text": [
      "Train Epoch: 29 [30976/54863 (56%)]\tLoss: 0.067117\tTrain Accuracy: 97.226883\n"
     ]
    },
    {
     "name": "stderr",
     "output_type": "stream",
     "text": [
      " 66%|██████▌   | 141/215 [04:42<02:22,  1.93s/it]"
     ]
    },
    {
     "name": "stdout",
     "output_type": "stream",
     "text": [
      "Train Epoch: 29 [36096/54863 (66%)]\tLoss: 0.073227\tTrain Accuracy: 97.246231\n"
     ]
    },
    {
     "name": "stderr",
     "output_type": "stream",
     "text": [
      " 75%|███████▍  | 161/215 [05:19<01:43,  1.92s/it]"
     ]
    },
    {
     "name": "stdout",
     "output_type": "stream",
     "text": [
      "Train Epoch: 29 [41216/54863 (75%)]\tLoss: 0.095488\tTrain Accuracy: 97.268051\n"
     ]
    },
    {
     "name": "stderr",
     "output_type": "stream",
     "text": [
      " 84%|████████▍ | 181/215 [05:56<01:04,  1.91s/it]"
     ]
    },
    {
     "name": "stdout",
     "output_type": "stream",
     "text": [
      "Train Epoch: 29 [46336/54863 (84%)]\tLoss: 0.066885\tTrain Accuracy: 97.248360\n"
     ]
    },
    {
     "name": "stderr",
     "output_type": "stream",
     "text": [
      " 93%|█████████▎| 201/215 [06:32<00:25,  1.79s/it]"
     ]
    },
    {
     "name": "stdout",
     "output_type": "stream",
     "text": [
      "Train Epoch: 29 [51456/54863 (93%)]\tLoss: 0.101227\tTrain Accuracy: 97.316154\n"
     ]
    },
    {
     "name": "stderr",
     "output_type": "stream",
     "text": [
      "100%|██████████| 215/215 [06:55<00:00,  1.36s/it]\n",
      "  0%|          | 0/55 [00:00<?, ?it/s]"
     ]
    },
    {
     "name": "stdout",
     "output_type": "stream",
     "text": [
      "\n",
      "Train set: Average loss = 0.0768, Train Accuracy = 97.3352\n",
      "\n",
      "\n",
      "Testing:\n"
     ]
    },
    {
     "name": "stderr",
     "output_type": "stream",
     "text": [
      "100%|██████████| 55/55 [01:27<00:00,  1.59s/it]\n"
     ]
    },
    {
     "name": "stdout",
     "output_type": "stream",
     "text": [
      "\n",
      "Test set: Average loss = 0.8157, Test Accuracy = 82.7838\n",
      "\n"
     ]
    },
    {
     "name": "stderr",
     "output_type": "stream",
     "text": [
      "\r",
      "  0%|          | 0/215 [00:00<?, ?it/s]"
     ]
    },
    {
     "name": "stdout",
     "output_type": "stream",
     "text": [
      "Time taken for running epoch 29 is 507.037 seconds.\n",
      "\n",
      "\n",
      "Epoch number:  30\n",
      "\n",
      "Training:\n"
     ]
    },
    {
     "name": "stderr",
     "output_type": "stream",
     "text": [
      "\r",
      "  0%|          | 1/215 [00:05<18:15,  5.12s/it]"
     ]
    },
    {
     "name": "stdout",
     "output_type": "stream",
     "text": [
      "Train Epoch: 30 [256/54863 (0%)]\tLoss: 0.152768\tTrain Accuracy: 94.921875\n"
     ]
    },
    {
     "name": "stderr",
     "output_type": "stream",
     "text": [
      " 10%|▉         | 21/215 [00:47<06:44,  2.08s/it]"
     ]
    },
    {
     "name": "stdout",
     "output_type": "stream",
     "text": [
      "Train Epoch: 30 [5376/54863 (10%)]\tLoss: 0.067761\tTrain Accuracy: 97.098213\n"
     ]
    },
    {
     "name": "stderr",
     "output_type": "stream",
     "text": [
      " 19%|█▉        | 41/215 [01:26<05:59,  2.07s/it]"
     ]
    },
    {
     "name": "stdout",
     "output_type": "stream",
     "text": [
      "Train Epoch: 30 [10496/54863 (19%)]\tLoss: 0.118271\tTrain Accuracy: 97.122711\n"
     ]
    },
    {
     "name": "stderr",
     "output_type": "stream",
     "text": [
      " 28%|██▊       | 61/215 [02:06<05:10,  2.01s/it]"
     ]
    },
    {
     "name": "stdout",
     "output_type": "stream",
     "text": [
      "Train Epoch: 30 [15616/54863 (28%)]\tLoss: 0.100181\tTrain Accuracy: 97.304047\n"
     ]
    },
    {
     "name": "stderr",
     "output_type": "stream",
     "text": [
      " 38%|███▊      | 81/215 [02:45<04:21,  1.95s/it]"
     ]
    },
    {
     "name": "stdout",
     "output_type": "stream",
     "text": [
      "Train Epoch: 30 [20736/54863 (38%)]\tLoss: 0.069629\tTrain Accuracy: 97.333138\n"
     ]
    },
    {
     "name": "stderr",
     "output_type": "stream",
     "text": [
      " 47%|████▋     | 101/215 [03:23<03:45,  1.98s/it]"
     ]
    },
    {
     "name": "stdout",
     "output_type": "stream",
     "text": [
      "Train Epoch: 30 [25856/54863 (47%)]\tLoss: 0.076423\tTrain Accuracy: 97.416458\n"
     ]
    },
    {
     "name": "stderr",
     "output_type": "stream",
     "text": [
      " 56%|█████▋    | 121/215 [04:00<03:00,  1.92s/it]"
     ]
    },
    {
     "name": "stdout",
     "output_type": "stream",
     "text": [
      "Train Epoch: 30 [30976/54863 (56%)]\tLoss: 0.040052\tTrain Accuracy: 97.443184\n"
     ]
    },
    {
     "name": "stderr",
     "output_type": "stream",
     "text": [
      " 66%|██████▌   | 141/215 [04:37<02:22,  1.92s/it]"
     ]
    },
    {
     "name": "stdout",
     "output_type": "stream",
     "text": [
      "Train Epoch: 30 [36096/54863 (66%)]\tLoss: 0.149394\tTrain Accuracy: 97.395836\n"
     ]
    },
    {
     "name": "stderr",
     "output_type": "stream",
     "text": [
      " 75%|███████▍  | 161/215 [05:14<01:44,  1.93s/it]"
     ]
    },
    {
     "name": "stdout",
     "output_type": "stream",
     "text": [
      "Train Epoch: 30 [41216/54863 (75%)]\tLoss: 0.047258\tTrain Accuracy: 97.403923\n"
     ]
    },
    {
     "name": "stderr",
     "output_type": "stream",
     "text": [
      " 84%|████████▍ | 181/215 [05:50<01:03,  1.87s/it]"
     ]
    },
    {
     "name": "stdout",
     "output_type": "stream",
     "text": [
      "Train Epoch: 30 [46336/54863 (84%)]\tLoss: 0.083968\tTrain Accuracy: 97.354111\n"
     ]
    },
    {
     "name": "stderr",
     "output_type": "stream",
     "text": [
      " 93%|█████████▎| 201/215 [06:26<00:26,  1.89s/it]"
     ]
    },
    {
     "name": "stdout",
     "output_type": "stream",
     "text": [
      "Train Epoch: 30 [51456/54863 (93%)]\tLoss: 0.094084\tTrain Accuracy: 97.316154\n"
     ]
    },
    {
     "name": "stderr",
     "output_type": "stream",
     "text": [
      "100%|██████████| 215/215 [06:50<00:00,  1.37s/it]\n",
      "  0%|          | 0/55 [00:00<?, ?it/s]"
     ]
    },
    {
     "name": "stdout",
     "output_type": "stream",
     "text": [
      "\n",
      "Train set: Average loss = 0.0761, Train Accuracy = 97.3479\n",
      "\n",
      "\n",
      "Testing:\n"
     ]
    },
    {
     "name": "stderr",
     "output_type": "stream",
     "text": [
      "100%|██████████| 55/55 [01:27<00:00,  1.59s/it]\n"
     ]
    },
    {
     "name": "stdout",
     "output_type": "stream",
     "text": [
      "\n",
      "Test set: Average loss = 1.0197, Test Accuracy = 80.4266\n",
      "\n"
     ]
    },
    {
     "name": "stderr",
     "output_type": "stream",
     "text": [
      "\r",
      "  0%|          | 0/215 [00:00<?, ?it/s]"
     ]
    },
    {
     "name": "stdout",
     "output_type": "stream",
     "text": [
      "Time taken for running epoch 30 is 501.823 seconds.\n",
      "\n",
      "\n",
      "Epoch number:  31\n",
      "\n",
      "Training:\n"
     ]
    },
    {
     "name": "stderr",
     "output_type": "stream",
     "text": [
      "\r",
      "  0%|          | 1/215 [00:05<18:37,  5.22s/it]"
     ]
    },
    {
     "name": "stdout",
     "output_type": "stream",
     "text": [
      "Train Epoch: 31 [256/54863 (0%)]\tLoss: 0.076769\tTrain Accuracy: 97.656250\n"
     ]
    },
    {
     "name": "stderr",
     "output_type": "stream",
     "text": [
      " 10%|▉         | 21/215 [00:47<06:54,  2.14s/it]"
     ]
    },
    {
     "name": "stdout",
     "output_type": "stream",
     "text": [
      "Train Epoch: 31 [5376/54863 (10%)]\tLoss: 0.048636\tTrain Accuracy: 97.209824\n"
     ]
    },
    {
     "name": "stderr",
     "output_type": "stream",
     "text": [
      " 19%|█▉        | 41/215 [01:27<05:55,  2.04s/it]"
     ]
    },
    {
     "name": "stdout",
     "output_type": "stream",
     "text": [
      "Train Epoch: 31 [10496/54863 (19%)]\tLoss: 0.048603\tTrain Accuracy: 97.189407\n"
     ]
    },
    {
     "name": "stderr",
     "output_type": "stream",
     "text": [
      " 28%|██▊       | 61/215 [02:06<05:14,  2.04s/it]"
     ]
    },
    {
     "name": "stdout",
     "output_type": "stream",
     "text": [
      "Train Epoch: 31 [15616/54863 (28%)]\tLoss: 0.073860\tTrain Accuracy: 97.393700\n"
     ]
    },
    {
     "name": "stderr",
     "output_type": "stream",
     "text": [
      " 38%|███▊      | 81/215 [02:45<04:32,  2.04s/it]"
     ]
    },
    {
     "name": "stdout",
     "output_type": "stream",
     "text": [
      "Train Epoch: 31 [20736/54863 (38%)]\tLoss: 0.043736\tTrain Accuracy: 97.468170\n"
     ]
    },
    {
     "name": "stderr",
     "output_type": "stream",
     "text": [
      " 47%|████▋     | 101/215 [03:23<03:40,  1.93s/it]"
     ]
    },
    {
     "name": "stdout",
     "output_type": "stream",
     "text": [
      "Train Epoch: 31 [25856/54863 (47%)]\tLoss: 0.048332\tTrain Accuracy: 97.482208\n"
     ]
    },
    {
     "name": "stderr",
     "output_type": "stream",
     "text": [
      " 56%|█████▋    | 121/215 [04:01<02:59,  1.91s/it]"
     ]
    },
    {
     "name": "stdout",
     "output_type": "stream",
     "text": [
      "Train Epoch: 31 [30976/54863 (56%)]\tLoss: 0.068888\tTrain Accuracy: 97.478691\n"
     ]
    },
    {
     "name": "stderr",
     "output_type": "stream",
     "text": [
      " 66%|██████▌   | 141/215 [04:38<02:21,  1.91s/it]"
     ]
    },
    {
     "name": "stdout",
     "output_type": "stream",
     "text": [
      "Train Epoch: 31 [36096/54863 (66%)]\tLoss: 0.067815\tTrain Accuracy: 97.509422\n"
     ]
    },
    {
     "name": "stderr",
     "output_type": "stream",
     "text": [
      " 75%|███████▍  | 161/215 [05:15<01:38,  1.83s/it]"
     ]
    },
    {
     "name": "stdout",
     "output_type": "stream",
     "text": [
      "Train Epoch: 31 [41216/54863 (75%)]\tLoss: 0.103906\tTrain Accuracy: 97.525230\n"
     ]
    },
    {
     "name": "stderr",
     "output_type": "stream",
     "text": [
      " 84%|████████▍ | 181/215 [05:51<01:03,  1.87s/it]"
     ]
    },
    {
     "name": "stdout",
     "output_type": "stream",
     "text": [
      "Train Epoch: 31 [46336/54863 (84%)]\tLoss: 0.079507\tTrain Accuracy: 97.524605\n"
     ]
    },
    {
     "name": "stderr",
     "output_type": "stream",
     "text": [
      " 93%|█████████▎| 201/215 [06:27<00:25,  1.84s/it]"
     ]
    },
    {
     "name": "stdout",
     "output_type": "stream",
     "text": [
      "Train Epoch: 31 [51456/54863 (93%)]\tLoss: 0.075723\tTrain Accuracy: 97.448303\n"
     ]
    },
    {
     "name": "stderr",
     "output_type": "stream",
     "text": [
      "100%|██████████| 215/215 [06:51<00:00,  1.36s/it]\n",
      "  0%|          | 0/55 [00:00<?, ?it/s]"
     ]
    },
    {
     "name": "stdout",
     "output_type": "stream",
     "text": [
      "\n",
      "Train set: Average loss = 0.0704, Train Accuracy = 97.4573\n",
      "\n",
      "\n",
      "Testing:\n"
     ]
    },
    {
     "name": "stderr",
     "output_type": "stream",
     "text": [
      "100%|██████████| 55/55 [01:26<00:00,  1.57s/it]\n"
     ]
    },
    {
     "name": "stdout",
     "output_type": "stream",
     "text": [
      "\n",
      "Test set: Average loss = 0.7835, Test Accuracy = 83.1815\n",
      "\n"
     ]
    },
    {
     "name": "stderr",
     "output_type": "stream",
     "text": [
      "\r",
      "  0%|          | 0/215 [00:00<?, ?it/s]"
     ]
    },
    {
     "name": "stdout",
     "output_type": "stream",
     "text": [
      "Time taken for running epoch 31 is 501.775 seconds.\n",
      "\n",
      "\n",
      "Epoch number:  32\n",
      "\n",
      "Training:\n"
     ]
    },
    {
     "name": "stderr",
     "output_type": "stream",
     "text": [
      "\r",
      "  0%|          | 1/215 [00:05<18:34,  5.21s/it]"
     ]
    },
    {
     "name": "stdout",
     "output_type": "stream",
     "text": [
      "Train Epoch: 32 [256/54863 (0%)]\tLoss: 0.158168\tTrain Accuracy: 96.093750\n"
     ]
    },
    {
     "name": "stderr",
     "output_type": "stream",
     "text": [
      " 10%|▉         | 21/215 [00:46<06:43,  2.08s/it]"
     ]
    },
    {
     "name": "stdout",
     "output_type": "stream",
     "text": [
      "Train Epoch: 32 [5376/54863 (10%)]\tLoss: 0.082563\tTrain Accuracy: 97.767860\n"
     ]
    },
    {
     "name": "stderr",
     "output_type": "stream",
     "text": [
      " 19%|█▉        | 41/215 [01:26<06:07,  2.11s/it]"
     ]
    },
    {
     "name": "stdout",
     "output_type": "stream",
     "text": [
      "Train Epoch: 32 [10496/54863 (19%)]\tLoss: 0.027522\tTrain Accuracy: 97.675308\n"
     ]
    },
    {
     "name": "stderr",
     "output_type": "stream",
     "text": [
      " 28%|██▊       | 61/215 [02:06<05:19,  2.08s/it]"
     ]
    },
    {
     "name": "stdout",
     "output_type": "stream",
     "text": [
      "Train Epoch: 32 [15616/54863 (28%)]\tLoss: 0.048341\tTrain Accuracy: 97.547386\n"
     ]
    },
    {
     "name": "stderr",
     "output_type": "stream",
     "text": [
      " 38%|███▊      | 81/215 [02:45<04:28,  2.00s/it]"
     ]
    },
    {
     "name": "stdout",
     "output_type": "stream",
     "text": [
      "Train Epoch: 32 [20736/54863 (38%)]\tLoss: 0.073037\tTrain Accuracy: 97.554977\n"
     ]
    },
    {
     "name": "stderr",
     "output_type": "stream",
     "text": [
      " 47%|████▋     | 101/215 [03:24<03:50,  2.02s/it]"
     ]
    },
    {
     "name": "stdout",
     "output_type": "stream",
     "text": [
      "Train Epoch: 32 [25856/54863 (47%)]\tLoss: 0.064841\tTrain Accuracy: 97.513153\n"
     ]
    },
    {
     "name": "stderr",
     "output_type": "stream",
     "text": [
      " 56%|█████▋    | 121/215 [04:01<02:59,  1.91s/it]"
     ]
    },
    {
     "name": "stdout",
     "output_type": "stream",
     "text": [
      "Train Epoch: 32 [30976/54863 (56%)]\tLoss: 0.041603\tTrain Accuracy: 97.469009\n"
     ]
    },
    {
     "name": "stderr",
     "output_type": "stream",
     "text": [
      " 66%|██████▌   | 141/215 [04:39<02:24,  1.95s/it]"
     ]
    },
    {
     "name": "stdout",
     "output_type": "stream",
     "text": [
      "Train Epoch: 32 [36096/54863 (66%)]\tLoss: 0.039609\tTrain Accuracy: 97.526039\n"
     ]
    },
    {
     "name": "stderr",
     "output_type": "stream",
     "text": [
      " 75%|███████▍  | 161/215 [05:15<01:39,  1.84s/it]"
     ]
    },
    {
     "name": "stdout",
     "output_type": "stream",
     "text": [
      "Train Epoch: 32 [41216/54863 (75%)]\tLoss: 0.072498\tTrain Accuracy: 97.510674\n"
     ]
    },
    {
     "name": "stderr",
     "output_type": "stream",
     "text": [
      " 84%|████████▍ | 181/215 [05:52<01:03,  1.87s/it]"
     ]
    },
    {
     "name": "stdout",
     "output_type": "stream",
     "text": [
      "Train Epoch: 32 [46336/54863 (84%)]\tLoss: 0.076975\tTrain Accuracy: 97.509499\n"
     ]
    },
    {
     "name": "stderr",
     "output_type": "stream",
     "text": [
      " 93%|█████████▎| 201/215 [06:29<00:26,  1.87s/it]"
     ]
    },
    {
     "name": "stdout",
     "output_type": "stream",
     "text": [
      "Train Epoch: 32 [51456/54863 (93%)]\tLoss: 0.074965\tTrain Accuracy: 97.537704\n"
     ]
    },
    {
     "name": "stderr",
     "output_type": "stream",
     "text": [
      "100%|██████████| 215/215 [06:52<00:00,  1.38s/it]\n",
      "  0%|          | 0/55 [00:00<?, ?it/s]"
     ]
    },
    {
     "name": "stdout",
     "output_type": "stream",
     "text": [
      "\n",
      "Train set: Average loss = 0.0701, Train Accuracy = 97.5466\n",
      "\n",
      "\n",
      "Testing:\n"
     ]
    },
    {
     "name": "stderr",
     "output_type": "stream",
     "text": [
      "100%|██████████| 55/55 [01:29<00:00,  1.62s/it]\n"
     ]
    },
    {
     "name": "stdout",
     "output_type": "stream",
     "text": [
      "\n",
      "Test set: Average loss = 0.8809, Test Accuracy = 82.5886\n",
      "\n"
     ]
    },
    {
     "name": "stderr",
     "output_type": "stream",
     "text": [
      "\r",
      "  0%|          | 0/215 [00:00<?, ?it/s]"
     ]
    },
    {
     "name": "stdout",
     "output_type": "stream",
     "text": [
      "Time taken for running epoch 32 is 506.530 seconds.\n",
      "\n",
      "\n",
      "Epoch number:  33\n",
      "\n",
      "Training:\n"
     ]
    },
    {
     "name": "stderr",
     "output_type": "stream",
     "text": [
      "\r",
      "  0%|          | 1/215 [00:05<18:49,  5.28s/it]"
     ]
    },
    {
     "name": "stdout",
     "output_type": "stream",
     "text": [
      "Train Epoch: 33 [256/54863 (0%)]\tLoss: 0.122499\tTrain Accuracy: 96.484375\n"
     ]
    },
    {
     "name": "stderr",
     "output_type": "stream",
     "text": [
      " 10%|▉         | 21/215 [00:47<06:41,  2.07s/it]"
     ]
    },
    {
     "name": "stdout",
     "output_type": "stream",
     "text": [
      "Train Epoch: 33 [5376/54863 (10%)]\tLoss: 0.061151\tTrain Accuracy: 97.730652\n"
     ]
    },
    {
     "name": "stderr",
     "output_type": "stream",
     "text": [
      " 19%|█▉        | 41/215 [01:27<05:58,  2.06s/it]"
     ]
    },
    {
     "name": "stdout",
     "output_type": "stream",
     "text": [
      "Train Epoch: 33 [10496/54863 (19%)]\tLoss: 0.094634\tTrain Accuracy: 97.732468\n"
     ]
    },
    {
     "name": "stderr",
     "output_type": "stream",
     "text": [
      " 28%|██▊       | 61/215 [02:07<05:14,  2.05s/it]"
     ]
    },
    {
     "name": "stdout",
     "output_type": "stream",
     "text": [
      "Train Epoch: 33 [15616/54863 (28%)]\tLoss: 0.073989\tTrain Accuracy: 97.630638\n"
     ]
    },
    {
     "name": "stderr",
     "output_type": "stream",
     "text": [
      " 38%|███▊      | 81/215 [02:47<04:30,  2.02s/it]"
     ]
    },
    {
     "name": "stdout",
     "output_type": "stream",
     "text": [
      "Train Epoch: 33 [20736/54863 (38%)]\tLoss: 0.096665\tTrain Accuracy: 97.477814\n"
     ]
    },
    {
     "name": "stderr",
     "output_type": "stream",
     "text": [
      " 47%|████▋     | 101/215 [03:25<03:42,  1.95s/it]"
     ]
    },
    {
     "name": "stdout",
     "output_type": "stream",
     "text": [
      "Train Epoch: 33 [25856/54863 (47%)]\tLoss: 0.121484\tTrain Accuracy: 97.501549\n"
     ]
    },
    {
     "name": "stderr",
     "output_type": "stream",
     "text": [
      " 56%|█████▋    | 121/215 [04:03<02:51,  1.83s/it]"
     ]
    },
    {
     "name": "stdout",
     "output_type": "stream",
     "text": [
      "Train Epoch: 33 [30976/54863 (56%)]\tLoss: 0.053647\tTrain Accuracy: 97.520660\n"
     ]
    },
    {
     "name": "stderr",
     "output_type": "stream",
     "text": [
      " 66%|██████▌   | 141/215 [04:41<02:19,  1.89s/it]"
     ]
    },
    {
     "name": "stdout",
     "output_type": "stream",
     "text": [
      "Train Epoch: 33 [36096/54863 (66%)]\tLoss: 0.045467\tTrain Accuracy: 97.573135\n"
     ]
    },
    {
     "name": "stderr",
     "output_type": "stream",
     "text": [
      " 75%|███████▍  | 161/215 [05:19<01:38,  1.83s/it]"
     ]
    },
    {
     "name": "stdout",
     "output_type": "stream",
     "text": [
      "Train Epoch: 33 [41216/54863 (75%)]\tLoss: 0.066549\tTrain Accuracy: 97.585892\n"
     ]
    },
    {
     "name": "stderr",
     "output_type": "stream",
     "text": [
      " 84%|████████▍ | 181/215 [05:56<01:02,  1.83s/it]"
     ]
    },
    {
     "name": "stdout",
     "output_type": "stream",
     "text": [
      "Train Epoch: 33 [46336/54863 (84%)]\tLoss: 0.094293\tTrain Accuracy: 97.587189\n"
     ]
    },
    {
     "name": "stderr",
     "output_type": "stream",
     "text": [
      " 93%|█████████▎| 201/215 [06:32<00:26,  1.89s/it]"
     ]
    },
    {
     "name": "stdout",
     "output_type": "stream",
     "text": [
      "Train Epoch: 33 [51456/54863 (93%)]\tLoss: 0.078115\tTrain Accuracy: 97.590172\n"
     ]
    },
    {
     "name": "stderr",
     "output_type": "stream",
     "text": [
      "100%|██████████| 215/215 [06:56<00:00,  1.40s/it]\n",
      "  0%|          | 0/55 [00:00<?, ?it/s]"
     ]
    },
    {
     "name": "stdout",
     "output_type": "stream",
     "text": [
      "\n",
      "Train set: Average loss = 0.0675, Train Accuracy = 97.6213\n",
      "\n",
      "\n",
      "Testing:\n"
     ]
    },
    {
     "name": "stderr",
     "output_type": "stream",
     "text": [
      "100%|██████████| 55/55 [01:29<00:00,  1.63s/it]\n"
     ]
    },
    {
     "name": "stdout",
     "output_type": "stream",
     "text": [
      "\n",
      "Test set: Average loss = 1.0224, Test Accuracy = 80.5640\n",
      "\n"
     ]
    },
    {
     "name": "stderr",
     "output_type": "stream",
     "text": [
      "\r",
      "  0%|          | 0/215 [00:00<?, ?it/s]"
     ]
    },
    {
     "name": "stdout",
     "output_type": "stream",
     "text": [
      "Time taken for running epoch 33 is 510.407 seconds.\n",
      "\n",
      "\n",
      "Epoch number:  34\n",
      "\n",
      "Training:\n"
     ]
    },
    {
     "name": "stderr",
     "output_type": "stream",
     "text": [
      "\r",
      "  0%|          | 1/215 [00:05<19:08,  5.37s/it]"
     ]
    },
    {
     "name": "stdout",
     "output_type": "stream",
     "text": [
      "Train Epoch: 34 [256/54863 (0%)]\tLoss: 0.053573\tTrain Accuracy: 97.265625\n"
     ]
    },
    {
     "name": "stderr",
     "output_type": "stream",
     "text": [
      " 10%|▉         | 21/215 [00:47<06:42,  2.08s/it]"
     ]
    },
    {
     "name": "stdout",
     "output_type": "stream",
     "text": [
      "Train Epoch: 34 [5376/54863 (10%)]\tLoss: 0.100267\tTrain Accuracy: 97.414436\n"
     ]
    },
    {
     "name": "stderr",
     "output_type": "stream",
     "text": [
      " 19%|█▉        | 41/215 [01:28<06:10,  2.13s/it]"
     ]
    },
    {
     "name": "stdout",
     "output_type": "stream",
     "text": [
      "Train Epoch: 34 [10496/54863 (19%)]\tLoss: 0.029598\tTrain Accuracy: 97.341843\n"
     ]
    },
    {
     "name": "stderr",
     "output_type": "stream",
     "text": [
      " 28%|██▊       | 61/215 [02:09<05:24,  2.11s/it]"
     ]
    },
    {
     "name": "stdout",
     "output_type": "stream",
     "text": [
      "Train Epoch: 34 [15616/54863 (28%)]\tLoss: 0.050637\tTrain Accuracy: 97.400101\n"
     ]
    },
    {
     "name": "stderr",
     "output_type": "stream",
     "text": [
      " 38%|███▊      | 81/215 [02:48<04:31,  2.03s/it]"
     ]
    },
    {
     "name": "stdout",
     "output_type": "stream",
     "text": [
      "Train Epoch: 34 [20736/54863 (38%)]\tLoss: 0.031634\tTrain Accuracy: 97.429588\n"
     ]
    },
    {
     "name": "stderr",
     "output_type": "stream",
     "text": [
      " 47%|████▋     | 101/215 [03:27<03:40,  1.93s/it]"
     ]
    },
    {
     "name": "stdout",
     "output_type": "stream",
     "text": [
      "Train Epoch: 34 [25856/54863 (47%)]\tLoss: 0.048485\tTrain Accuracy: 97.524750\n"
     ]
    },
    {
     "name": "stderr",
     "output_type": "stream",
     "text": [
      " 56%|█████▋    | 121/215 [04:05<02:57,  1.89s/it]"
     ]
    },
    {
     "name": "stdout",
     "output_type": "stream",
     "text": [
      "Train Epoch: 34 [30976/54863 (56%)]\tLoss: 0.103504\tTrain Accuracy: 97.552948\n"
     ]
    },
    {
     "name": "stderr",
     "output_type": "stream",
     "text": [
      " 66%|██████▌   | 141/215 [04:43<02:21,  1.91s/it]"
     ]
    },
    {
     "name": "stdout",
     "output_type": "stream",
     "text": [
      "Train Epoch: 34 [36096/54863 (66%)]\tLoss: 0.085125\tTrain Accuracy: 97.567596\n"
     ]
    },
    {
     "name": "stderr",
     "output_type": "stream",
     "text": [
      " 75%|███████▍  | 161/215 [05:19<01:35,  1.77s/it]"
     ]
    },
    {
     "name": "stdout",
     "output_type": "stream",
     "text": [
      "Train Epoch: 34 [41216/54863 (75%)]\tLoss: 0.110679\tTrain Accuracy: 97.583466\n"
     ]
    },
    {
     "name": "stderr",
     "output_type": "stream",
     "text": [
      " 84%|████████▍ | 181/215 [05:56<01:01,  1.80s/it]"
     ]
    },
    {
     "name": "stdout",
     "output_type": "stream",
     "text": [
      "Train Epoch: 34 [46336/54863 (84%)]\tLoss: 0.051518\tTrain Accuracy: 97.613091\n"
     ]
    },
    {
     "name": "stderr",
     "output_type": "stream",
     "text": [
      " 93%|█████████▎| 201/215 [06:33<00:26,  1.91s/it]"
     ]
    },
    {
     "name": "stdout",
     "output_type": "stream",
     "text": [
      "Train Epoch: 34 [51456/54863 (93%)]\tLoss: 0.050317\tTrain Accuracy: 97.648476\n"
     ]
    },
    {
     "name": "stderr",
     "output_type": "stream",
     "text": [
      "100%|██████████| 215/215 [06:57<00:00,  1.42s/it]\n",
      "  0%|          | 0/55 [00:00<?, ?it/s]"
     ]
    },
    {
     "name": "stdout",
     "output_type": "stream",
     "text": [
      "\n",
      "Train set: Average loss = 0.0674, Train Accuracy = 97.6596\n",
      "\n",
      "\n",
      "Testing:\n"
     ]
    },
    {
     "name": "stderr",
     "output_type": "stream",
     "text": [
      "100%|██████████| 55/55 [01:30<00:00,  1.64s/it]\n"
     ]
    },
    {
     "name": "stdout",
     "output_type": "stream",
     "text": [
      "\n",
      "Test set: Average loss = 0.7760, Test Accuracy = 83.4852\n",
      "\n"
     ]
    },
    {
     "name": "stderr",
     "output_type": "stream",
     "text": [
      "\r",
      "  0%|          | 0/215 [00:00<?, ?it/s]"
     ]
    },
    {
     "name": "stdout",
     "output_type": "stream",
     "text": [
      "Time taken for running epoch 34 is 511.607 seconds.\n",
      "\n",
      "\n",
      "Epoch number:  35\n",
      "\n",
      "Training:\n"
     ]
    },
    {
     "name": "stderr",
     "output_type": "stream",
     "text": [
      "\r",
      "  0%|          | 1/215 [00:05<18:41,  5.24s/it]"
     ]
    },
    {
     "name": "stdout",
     "output_type": "stream",
     "text": [
      "Train Epoch: 35 [256/54863 (0%)]\tLoss: 0.057853\tTrain Accuracy: 98.046875\n"
     ]
    },
    {
     "name": "stderr",
     "output_type": "stream",
     "text": [
      " 10%|▉         | 21/215 [00:48<06:54,  2.14s/it]"
     ]
    },
    {
     "name": "stdout",
     "output_type": "stream",
     "text": [
      "Train Epoch: 35 [5376/54863 (10%)]\tLoss: 0.042253\tTrain Accuracy: 97.767860\n"
     ]
    },
    {
     "name": "stderr",
     "output_type": "stream",
     "text": [
      " 19%|█▉        | 41/215 [01:29<06:11,  2.13s/it]"
     ]
    },
    {
     "name": "stdout",
     "output_type": "stream",
     "text": [
      "Train Epoch: 35 [10496/54863 (19%)]\tLoss: 0.055895\tTrain Accuracy: 97.741997\n"
     ]
    },
    {
     "name": "stderr",
     "output_type": "stream",
     "text": [
      " 28%|██▊       | 61/215 [02:09<05:23,  2.10s/it]"
     ]
    },
    {
     "name": "stdout",
     "output_type": "stream",
     "text": [
      "Train Epoch: 35 [15616/54863 (28%)]\tLoss: 0.075278\tTrain Accuracy: 97.765114\n"
     ]
    },
    {
     "name": "stderr",
     "output_type": "stream",
     "text": [
      " 38%|███▊      | 81/215 [02:49<04:26,  1.99s/it]"
     ]
    },
    {
     "name": "stdout",
     "output_type": "stream",
     "text": [
      "Train Epoch: 35 [20736/54863 (38%)]\tLoss: 0.055873\tTrain Accuracy: 97.728584\n"
     ]
    },
    {
     "name": "stderr",
     "output_type": "stream",
     "text": [
      " 47%|████▋     | 101/215 [03:28<03:48,  2.01s/it]"
     ]
    },
    {
     "name": "stdout",
     "output_type": "stream",
     "text": [
      "Train Epoch: 35 [25856/54863 (47%)]\tLoss: 0.028032\tTrain Accuracy: 97.710396\n"
     ]
    },
    {
     "name": "stderr",
     "output_type": "stream",
     "text": [
      " 56%|█████▋    | 121/215 [04:06<03:01,  1.93s/it]"
     ]
    },
    {
     "name": "stdout",
     "output_type": "stream",
     "text": [
      "Train Epoch: 35 [30976/54863 (56%)]\tLoss: 0.077386\tTrain Accuracy: 97.743416\n"
     ]
    },
    {
     "name": "stderr",
     "output_type": "stream",
     "text": [
      " 66%|██████▌   | 141/215 [04:43<02:27,  1.99s/it]"
     ]
    },
    {
     "name": "stdout",
     "output_type": "stream",
     "text": [
      "Train Epoch: 35 [36096/54863 (66%)]\tLoss: 0.056554\tTrain Accuracy: 97.769836\n"
     ]
    },
    {
     "name": "stderr",
     "output_type": "stream",
     "text": [
      " 75%|███████▍  | 161/215 [05:20<01:44,  1.93s/it]"
     ]
    },
    {
     "name": "stdout",
     "output_type": "stream",
     "text": [
      "Train Epoch: 35 [41216/54863 (75%)]\tLoss: 0.085710\tTrain Accuracy: 97.767860\n"
     ]
    },
    {
     "name": "stderr",
     "output_type": "stream",
     "text": [
      " 84%|████████▍ | 181/215 [05:57<01:06,  1.96s/it]"
     ]
    },
    {
     "name": "stdout",
     "output_type": "stream",
     "text": [
      "Train Epoch: 35 [46336/54863 (84%)]\tLoss: 0.063424\tTrain Accuracy: 97.790054\n"
     ]
    },
    {
     "name": "stderr",
     "output_type": "stream",
     "text": [
      " 93%|█████████▎| 201/215 [06:34<00:26,  1.86s/it]"
     ]
    },
    {
     "name": "stdout",
     "output_type": "stream",
     "text": [
      "Train Epoch: 35 [51456/54863 (93%)]\tLoss: 0.085076\tTrain Accuracy: 97.759247\n"
     ]
    },
    {
     "name": "stderr",
     "output_type": "stream",
     "text": [
      "100%|██████████| 215/215 [06:57<00:00,  1.37s/it]\n",
      "  0%|          | 0/55 [00:00<?, ?it/s]"
     ]
    },
    {
     "name": "stdout",
     "output_type": "stream",
     "text": [
      "\n",
      "Train set: Average loss = 0.0675, Train Accuracy = 97.7034\n",
      "\n",
      "\n",
      "Testing:\n"
     ]
    },
    {
     "name": "stderr",
     "output_type": "stream",
     "text": [
      "100%|██████████| 55/55 [01:30<00:00,  1.64s/it]\n"
     ]
    },
    {
     "name": "stdout",
     "output_type": "stream",
     "text": [
      "\n",
      "Test set: Average loss = 1.0978, Test Accuracy = 78.6768\n",
      "\n"
     ]
    },
    {
     "name": "stderr",
     "output_type": "stream",
     "text": [
      "\r",
      "  0%|          | 0/215 [00:00<?, ?it/s]"
     ]
    },
    {
     "name": "stdout",
     "output_type": "stream",
     "text": [
      "Time taken for running epoch 35 is 511.709 seconds.\n",
      "\n",
      "\n",
      "Epoch number:  36\n",
      "\n",
      "Training:\n"
     ]
    },
    {
     "name": "stderr",
     "output_type": "stream",
     "text": [
      "\r",
      "  0%|          | 1/215 [00:05<19:09,  5.37s/it]"
     ]
    },
    {
     "name": "stdout",
     "output_type": "stream",
     "text": [
      "Train Epoch: 36 [256/54863 (0%)]\tLoss: 0.236965\tTrain Accuracy: 92.187500\n"
     ]
    },
    {
     "name": "stderr",
     "output_type": "stream",
     "text": [
      " 10%|▉         | 21/215 [00:48<06:59,  2.16s/it]"
     ]
    },
    {
     "name": "stdout",
     "output_type": "stream",
     "text": [
      "Train Epoch: 36 [5376/54863 (10%)]\tLoss: 0.055871\tTrain Accuracy: 97.414436\n"
     ]
    },
    {
     "name": "stderr",
     "output_type": "stream",
     "text": [
      " 19%|█▉        | 41/215 [01:30<06:19,  2.18s/it]"
     ]
    },
    {
     "name": "stdout",
     "output_type": "stream",
     "text": [
      "Train Epoch: 36 [10496/54863 (19%)]\tLoss: 0.069722\tTrain Accuracy: 97.732468\n"
     ]
    },
    {
     "name": "stderr",
     "output_type": "stream",
     "text": [
      " 28%|██▊       | 61/215 [02:11<05:31,  2.15s/it]"
     ]
    },
    {
     "name": "stdout",
     "output_type": "stream",
     "text": [
      "Train Epoch: 36 [15616/54863 (28%)]\tLoss: 0.039656\tTrain Accuracy: 97.605019\n"
     ]
    },
    {
     "name": "stderr",
     "output_type": "stream",
     "text": [
      " 38%|███▊      | 81/215 [02:51<04:31,  2.03s/it]"
     ]
    },
    {
     "name": "stdout",
     "output_type": "stream",
     "text": [
      "Train Epoch: 36 [20736/54863 (38%)]\tLoss: 0.058455\tTrain Accuracy: 97.617668\n"
     ]
    },
    {
     "name": "stderr",
     "output_type": "stream",
     "text": [
      " 47%|████▋     | 101/215 [03:29<03:44,  1.97s/it]"
     ]
    },
    {
     "name": "stdout",
     "output_type": "stream",
     "text": [
      "Train Epoch: 36 [25856/54863 (47%)]\tLoss: 0.033360\tTrain Accuracy: 97.617577\n"
     ]
    },
    {
     "name": "stderr",
     "output_type": "stream",
     "text": [
      " 56%|█████▋    | 121/215 [04:08<03:12,  2.04s/it]"
     ]
    },
    {
     "name": "stdout",
     "output_type": "stream",
     "text": [
      "Train Epoch: 36 [30976/54863 (56%)]\tLoss: 0.037314\tTrain Accuracy: 97.678848\n"
     ]
    },
    {
     "name": "stderr",
     "output_type": "stream",
     "text": [
      " 66%|██████▌   | 141/215 [04:45<02:23,  1.94s/it]"
     ]
    },
    {
     "name": "stdout",
     "output_type": "stream",
     "text": [
      "Train Epoch: 36 [36096/54863 (66%)]\tLoss: 0.042002\tTrain Accuracy: 97.761528\n"
     ]
    },
    {
     "name": "stderr",
     "output_type": "stream",
     "text": [
      " 75%|███████▍  | 161/215 [05:23<01:39,  1.84s/it]"
     ]
    },
    {
     "name": "stdout",
     "output_type": "stream",
     "text": [
      "Train Epoch: 36 [41216/54863 (75%)]\tLoss: 0.103256\tTrain Accuracy: 97.806679\n"
     ]
    },
    {
     "name": "stderr",
     "output_type": "stream",
     "text": [
      " 84%|████████▍ | 181/215 [06:00<01:04,  1.89s/it]"
     ]
    },
    {
     "name": "stdout",
     "output_type": "stream",
     "text": [
      "Train Epoch: 36 [46336/54863 (84%)]\tLoss: 0.057894\tTrain Accuracy: 97.800842\n"
     ]
    },
    {
     "name": "stderr",
     "output_type": "stream",
     "text": [
      " 93%|█████████▎| 201/215 [06:36<00:26,  1.88s/it]"
     ]
    },
    {
     "name": "stdout",
     "output_type": "stream",
     "text": [
      "Train Epoch: 36 [51456/54863 (93%)]\tLoss: 0.060145\tTrain Accuracy: 97.827271\n"
     ]
    },
    {
     "name": "stderr",
     "output_type": "stream",
     "text": [
      "100%|██████████| 215/215 [06:59<00:00,  1.34s/it]\n",
      "  0%|          | 0/55 [00:00<?, ?it/s]"
     ]
    },
    {
     "name": "stdout",
     "output_type": "stream",
     "text": [
      "\n",
      "Train set: Average loss = 0.0626, Train Accuracy = 97.8310\n",
      "\n",
      "\n",
      "Testing:\n"
     ]
    },
    {
     "name": "stderr",
     "output_type": "stream",
     "text": [
      "100%|██████████| 55/55 [01:29<00:00,  1.63s/it]\n"
     ]
    },
    {
     "name": "stdout",
     "output_type": "stream",
     "text": [
      "\n",
      "Test set: Average loss = 0.9418, Test Accuracy = 81.6341\n",
      "\n"
     ]
    },
    {
     "name": "stderr",
     "output_type": "stream",
     "text": [
      "\r",
      "  0%|          | 0/215 [00:00<?, ?it/s]"
     ]
    },
    {
     "name": "stdout",
     "output_type": "stream",
     "text": [
      "Time taken for running epoch 36 is 513.278 seconds.\n",
      "\n",
      "\n",
      "Epoch number:  37\n",
      "\n",
      "Training:\n"
     ]
    },
    {
     "name": "stderr",
     "output_type": "stream",
     "text": [
      "\r",
      "  0%|          | 1/215 [00:05<18:47,  5.27s/it]"
     ]
    },
    {
     "name": "stdout",
     "output_type": "stream",
     "text": [
      "Train Epoch: 37 [256/54863 (0%)]\tLoss: 0.030820\tTrain Accuracy: 98.437500\n"
     ]
    },
    {
     "name": "stderr",
     "output_type": "stream",
     "text": [
      " 10%|▉         | 21/215 [00:47<06:45,  2.09s/it]"
     ]
    },
    {
     "name": "stdout",
     "output_type": "stream",
     "text": [
      "Train Epoch: 37 [5376/54863 (10%)]\tLoss: 0.110607\tTrain Accuracy: 97.563248\n"
     ]
    },
    {
     "name": "stderr",
     "output_type": "stream",
     "text": [
      " 19%|█▉        | 41/215 [01:28<06:14,  2.15s/it]"
     ]
    },
    {
     "name": "stdout",
     "output_type": "stream",
     "text": [
      "Train Epoch: 37 [10496/54863 (19%)]\tLoss: 0.073051\tTrain Accuracy: 97.684830\n"
     ]
    },
    {
     "name": "stderr",
     "output_type": "stream",
     "text": [
      " 28%|██▊       | 61/215 [02:09<05:19,  2.07s/it]"
     ]
    },
    {
     "name": "stdout",
     "output_type": "stream",
     "text": [
      "Train Epoch: 37 [15616/54863 (28%)]\tLoss: 0.041061\tTrain Accuracy: 97.669060\n"
     ]
    },
    {
     "name": "stderr",
     "output_type": "stream",
     "text": [
      " 38%|███▊      | 81/215 [02:47<04:26,  1.99s/it]"
     ]
    },
    {
     "name": "stdout",
     "output_type": "stream",
     "text": [
      "Train Epoch: 37 [20736/54863 (38%)]\tLoss: 0.043429\tTrain Accuracy: 97.622490\n"
     ]
    },
    {
     "name": "stderr",
     "output_type": "stream",
     "text": [
      " 47%|████▋     | 101/215 [03:25<03:42,  1.96s/it]"
     ]
    },
    {
     "name": "stdout",
     "output_type": "stream",
     "text": [
      "Train Epoch: 37 [25856/54863 (47%)]\tLoss: 0.082098\tTrain Accuracy: 97.629173\n"
     ]
    },
    {
     "name": "stderr",
     "output_type": "stream",
     "text": [
      " 56%|█████▋    | 121/215 [04:03<03:03,  1.95s/it]"
     ]
    },
    {
     "name": "stdout",
     "output_type": "stream",
     "text": [
      "Train Epoch: 37 [30976/54863 (56%)]\tLoss: 0.060893\tTrain Accuracy: 97.627197\n"
     ]
    },
    {
     "name": "stderr",
     "output_type": "stream",
     "text": [
      " 66%|██████▌   | 141/215 [04:40<02:21,  1.91s/it]"
     ]
    },
    {
     "name": "stdout",
     "output_type": "stream",
     "text": [
      "Train Epoch: 37 [36096/54863 (66%)]\tLoss: 0.075160\tTrain Accuracy: 97.634087\n"
     ]
    },
    {
     "name": "stderr",
     "output_type": "stream",
     "text": [
      " 75%|███████▍  | 161/215 [05:17<01:42,  1.89s/it]"
     ]
    },
    {
     "name": "stdout",
     "output_type": "stream",
     "text": [
      "Train Epoch: 37 [41216/54863 (75%)]\tLoss: 0.043593\tTrain Accuracy: 97.661102\n"
     ]
    },
    {
     "name": "stderr",
     "output_type": "stream",
     "text": [
      " 84%|████████▍ | 181/215 [05:53<01:01,  1.81s/it]"
     ]
    },
    {
     "name": "stdout",
     "output_type": "stream",
     "text": [
      "Train Epoch: 37 [46336/54863 (84%)]\tLoss: 0.049737\tTrain Accuracy: 97.677834\n"
     ]
    },
    {
     "name": "stderr",
     "output_type": "stream",
     "text": [
      " 93%|█████████▎| 201/215 [06:29<00:26,  1.86s/it]"
     ]
    },
    {
     "name": "stdout",
     "output_type": "stream",
     "text": [
      "Train Epoch: 37 [51456/54863 (93%)]\tLoss: 0.034764\tTrain Accuracy: 97.708725\n"
     ]
    },
    {
     "name": "stderr",
     "output_type": "stream",
     "text": [
      "100%|██████████| 215/215 [06:53<00:00,  1.34s/it]\n",
      "  0%|          | 0/55 [00:00<?, ?it/s]"
     ]
    },
    {
     "name": "stdout",
     "output_type": "stream",
     "text": [
      "\n",
      "Train set: Average loss = 0.0639, Train Accuracy = 97.7325\n",
      "\n",
      "\n",
      "Testing:\n"
     ]
    },
    {
     "name": "stderr",
     "output_type": "stream",
     "text": [
      "100%|██████████| 55/55 [01:27<00:00,  1.59s/it]\n"
     ]
    },
    {
     "name": "stdout",
     "output_type": "stream",
     "text": [
      "\n",
      "Test set: Average loss = 1.0440, Test Accuracy = 80.5568\n",
      "\n"
     ]
    },
    {
     "name": "stderr",
     "output_type": "stream",
     "text": [
      "\r",
      "  0%|          | 0/215 [00:00<?, ?it/s]"
     ]
    },
    {
     "name": "stdout",
     "output_type": "stream",
     "text": [
      "Time taken for running epoch 37 is 505.093 seconds.\n",
      "\n",
      "\n",
      "Epoch number:  38\n",
      "\n",
      "Training:\n"
     ]
    },
    {
     "name": "stderr",
     "output_type": "stream",
     "text": [
      "\r",
      "  0%|          | 1/215 [00:05<18:10,  5.09s/it]"
     ]
    },
    {
     "name": "stdout",
     "output_type": "stream",
     "text": [
      "Train Epoch: 38 [256/54863 (0%)]\tLoss: 0.080601\tTrain Accuracy: 98.437500\n"
     ]
    },
    {
     "name": "stderr",
     "output_type": "stream",
     "text": [
      " 10%|▉         | 21/215 [00:48<06:56,  2.15s/it]"
     ]
    },
    {
     "name": "stdout",
     "output_type": "stream",
     "text": [
      "Train Epoch: 38 [5376/54863 (10%)]\tLoss: 0.055502\tTrain Accuracy: 97.693451\n"
     ]
    },
    {
     "name": "stderr",
     "output_type": "stream",
     "text": [
      " 19%|█▉        | 41/215 [01:29<06:09,  2.13s/it]"
     ]
    },
    {
     "name": "stdout",
     "output_type": "stream",
     "text": [
      "Train Epoch: 38 [10496/54863 (19%)]\tLoss: 0.105951\tTrain Accuracy: 97.741997\n"
     ]
    },
    {
     "name": "stderr",
     "output_type": "stream",
     "text": [
      " 28%|██▊       | 61/215 [02:09<05:26,  2.12s/it]"
     ]
    },
    {
     "name": "stdout",
     "output_type": "stream",
     "text": [
      "Train Epoch: 38 [15616/54863 (28%)]\tLoss: 0.041573\tTrain Accuracy: 97.848358\n"
     ]
    },
    {
     "name": "stderr",
     "output_type": "stream",
     "text": [
      " 38%|███▊      | 81/215 [02:48<04:33,  2.04s/it]"
     ]
    },
    {
     "name": "stdout",
     "output_type": "stream",
     "text": [
      "Train Epoch: 38 [20736/54863 (38%)]\tLoss: 0.119225\tTrain Accuracy: 97.844330\n"
     ]
    },
    {
     "name": "stderr",
     "output_type": "stream",
     "text": [
      " 47%|████▋     | 101/215 [03:27<03:42,  1.96s/it]"
     ]
    },
    {
     "name": "stdout",
     "output_type": "stream",
     "text": [
      "Train Epoch: 38 [25856/54863 (47%)]\tLoss: 0.048772\tTrain Accuracy: 97.911507\n"
     ]
    },
    {
     "name": "stderr",
     "output_type": "stream",
     "text": [
      " 56%|█████▋    | 121/215 [04:05<03:01,  1.93s/it]"
     ]
    },
    {
     "name": "stdout",
     "output_type": "stream",
     "text": [
      "Train Epoch: 38 [30976/54863 (56%)]\tLoss: 0.068595\tTrain Accuracy: 97.956482\n"
     ]
    },
    {
     "name": "stderr",
     "output_type": "stream",
     "text": [
      " 66%|██████▌   | 141/215 [04:42<02:22,  1.93s/it]"
     ]
    },
    {
     "name": "stdout",
     "output_type": "stream",
     "text": [
      "Train Epoch: 38 [36096/54863 (66%)]\tLoss: 0.047462\tTrain Accuracy: 97.963760\n"
     ]
    },
    {
     "name": "stderr",
     "output_type": "stream",
     "text": [
      " 75%|███████▍  | 161/215 [05:18<01:40,  1.87s/it]"
     ]
    },
    {
     "name": "stdout",
     "output_type": "stream",
     "text": [
      "Train Epoch: 38 [41216/54863 (75%)]\tLoss: 0.046093\tTrain Accuracy: 97.915855\n"
     ]
    },
    {
     "name": "stderr",
     "output_type": "stream",
     "text": [
      " 84%|████████▍ | 181/215 [05:55<01:02,  1.82s/it]"
     ]
    },
    {
     "name": "stdout",
     "output_type": "stream",
     "text": [
      "Train Epoch: 38 [46336/54863 (84%)]\tLoss: 0.054313\tTrain Accuracy: 97.945442\n"
     ]
    },
    {
     "name": "stderr",
     "output_type": "stream",
     "text": [
      " 93%|█████████▎| 201/215 [06:31<00:25,  1.82s/it]"
     ]
    },
    {
     "name": "stdout",
     "output_type": "stream",
     "text": [
      "Train Epoch: 38 [51456/54863 (93%)]\tLoss: 0.046185\tTrain Accuracy: 97.934158\n"
     ]
    },
    {
     "name": "stderr",
     "output_type": "stream",
     "text": [
      "100%|██████████| 215/215 [06:54<00:00,  1.36s/it]\n",
      "  0%|          | 0/55 [00:00<?, ?it/s]"
     ]
    },
    {
     "name": "stdout",
     "output_type": "stream",
     "text": [
      "\n",
      "Train set: Average loss = 0.0611, Train Accuracy = 97.9312\n",
      "\n",
      "\n",
      "Testing:\n"
     ]
    },
    {
     "name": "stderr",
     "output_type": "stream",
     "text": [
      "100%|██████████| 55/55 [01:28<00:00,  1.61s/it]\n"
     ]
    },
    {
     "name": "stdout",
     "output_type": "stream",
     "text": [
      "\n",
      "Test set: Average loss = 0.9852, Test Accuracy = 80.9472\n",
      "\n"
     ]
    },
    {
     "name": "stderr",
     "output_type": "stream",
     "text": [
      "\r",
      "  0%|          | 0/215 [00:00<?, ?it/s]"
     ]
    },
    {
     "name": "stdout",
     "output_type": "stream",
     "text": [
      "Time taken for running epoch 38 is 507.067 seconds.\n",
      "\n",
      "\n",
      "Epoch number:  39\n",
      "\n",
      "Training:\n"
     ]
    },
    {
     "name": "stderr",
     "output_type": "stream",
     "text": [
      "\r",
      "  0%|          | 1/215 [00:05<18:59,  5.33s/it]"
     ]
    },
    {
     "name": "stdout",
     "output_type": "stream",
     "text": [
      "Train Epoch: 39 [256/54863 (0%)]\tLoss: 0.047470\tTrain Accuracy: 98.437500\n"
     ]
    },
    {
     "name": "stderr",
     "output_type": "stream",
     "text": [
      " 10%|▉         | 21/215 [00:47<06:53,  2.13s/it]"
     ]
    },
    {
     "name": "stdout",
     "output_type": "stream",
     "text": [
      "Train Epoch: 39 [5376/54863 (10%)]\tLoss: 0.049110\tTrain Accuracy: 97.991074\n"
     ]
    },
    {
     "name": "stderr",
     "output_type": "stream",
     "text": [
      " 19%|█▉        | 41/215 [01:28<06:06,  2.11s/it]"
     ]
    },
    {
     "name": "stdout",
     "output_type": "stream",
     "text": [
      "Train Epoch: 39 [10496/54863 (19%)]\tLoss: 0.051027\tTrain Accuracy: 97.856323\n"
     ]
    },
    {
     "name": "stderr",
     "output_type": "stream",
     "text": [
      " 28%|██▊       | 61/215 [02:08<05:23,  2.10s/it]"
     ]
    },
    {
     "name": "stdout",
     "output_type": "stream",
     "text": [
      "Train Epoch: 39 [15616/54863 (28%)]\tLoss: 0.043452\tTrain Accuracy: 97.963631\n"
     ]
    },
    {
     "name": "stderr",
     "output_type": "stream",
     "text": [
      " 38%|███▊      | 81/215 [02:48<04:31,  2.02s/it]"
     ]
    },
    {
     "name": "stdout",
     "output_type": "stream",
     "text": [
      "Train Epoch: 39 [20736/54863 (38%)]\tLoss: 0.048745\tTrain Accuracy: 98.075813\n"
     ]
    },
    {
     "name": "stderr",
     "output_type": "stream",
     "text": [
      " 47%|████▋     | 101/215 [03:26<03:49,  2.01s/it]"
     ]
    },
    {
     "name": "stdout",
     "output_type": "stream",
     "text": [
      "Train Epoch: 39 [25856/54863 (47%)]\tLoss: 0.034831\tTrain Accuracy: 98.139694\n"
     ]
    },
    {
     "name": "stderr",
     "output_type": "stream",
     "text": [
      " 56%|█████▋    | 121/215 [04:04<03:07,  1.99s/it]"
     ]
    },
    {
     "name": "stdout",
     "output_type": "stream",
     "text": [
      "Train Epoch: 39 [30976/54863 (56%)]\tLoss: 0.072819\tTrain Accuracy: 98.117897\n"
     ]
    },
    {
     "name": "stderr",
     "output_type": "stream",
     "text": [
      " 66%|██████▌   | 141/215 [04:41<02:16,  1.84s/it]"
     ]
    },
    {
     "name": "stdout",
     "output_type": "stream",
     "text": [
      "Train Epoch: 39 [36096/54863 (66%)]\tLoss: 0.060356\tTrain Accuracy: 98.091202\n"
     ]
    },
    {
     "name": "stderr",
     "output_type": "stream",
     "text": [
      " 75%|███████▍  | 161/215 [05:18<01:42,  1.90s/it]"
     ]
    },
    {
     "name": "stdout",
     "output_type": "stream",
     "text": [
      "Train Epoch: 39 [41216/54863 (75%)]\tLoss: 0.113811\tTrain Accuracy: 98.078415\n"
     ]
    },
    {
     "name": "stderr",
     "output_type": "stream",
     "text": [
      " 84%|████████▍ | 181/215 [05:54<01:03,  1.86s/it]"
     ]
    },
    {
     "name": "stdout",
     "output_type": "stream",
     "text": [
      "Train Epoch: 39 [46336/54863 (84%)]\tLoss: 0.055699\tTrain Accuracy: 98.066299\n"
     ]
    },
    {
     "name": "stderr",
     "output_type": "stream",
     "text": [
      " 93%|█████████▎| 201/215 [06:30<00:26,  1.90s/it]"
     ]
    },
    {
     "name": "stdout",
     "output_type": "stream",
     "text": [
      "Train Epoch: 39 [51456/54863 (93%)]\tLoss: 0.032013\tTrain Accuracy: 98.048820\n"
     ]
    },
    {
     "name": "stderr",
     "output_type": "stream",
     "text": [
      "100%|██████████| 215/215 [06:53<00:00,  1.39s/it]\n",
      "  0%|          | 0/55 [00:00<?, ?it/s]"
     ]
    },
    {
     "name": "stdout",
     "output_type": "stream",
     "text": [
      "\n",
      "Train set: Average loss = 0.0568, Train Accuracy = 98.0697\n",
      "\n",
      "\n",
      "Testing:\n"
     ]
    },
    {
     "name": "stderr",
     "output_type": "stream",
     "text": [
      "100%|██████████| 55/55 [01:28<00:00,  1.60s/it]\n"
     ]
    },
    {
     "name": "stdout",
     "output_type": "stream",
     "text": [
      "\n",
      "Test set: Average loss = 0.9562, Test Accuracy = 81.2726\n",
      "\n"
     ]
    },
    {
     "name": "stderr",
     "output_type": "stream",
     "text": [
      "\r",
      "  0%|          | 0/215 [00:00<?, ?it/s]"
     ]
    },
    {
     "name": "stdout",
     "output_type": "stream",
     "text": [
      "Time taken for running epoch 39 is 505.911 seconds.\n",
      "\n",
      "\n",
      "Epoch number:  40\n",
      "\n",
      "Training:\n"
     ]
    },
    {
     "name": "stderr",
     "output_type": "stream",
     "text": [
      "\r",
      "  0%|          | 1/215 [00:05<18:44,  5.25s/it]"
     ]
    },
    {
     "name": "stdout",
     "output_type": "stream",
     "text": [
      "Train Epoch: 40 [256/54863 (0%)]\tLoss: 0.042954\tTrain Accuracy: 98.828125\n"
     ]
    },
    {
     "name": "stderr",
     "output_type": "stream",
     "text": [
      " 10%|▉         | 21/215 [00:47<06:46,  2.09s/it]"
     ]
    },
    {
     "name": "stdout",
     "output_type": "stream",
     "text": [
      "Train Epoch: 40 [5376/54863 (10%)]\tLoss: 0.063764\tTrain Accuracy: 97.935265\n"
     ]
    },
    {
     "name": "stderr",
     "output_type": "stream",
     "text": [
      " 19%|█▉        | 41/215 [01:27<06:06,  2.11s/it]"
     ]
    },
    {
     "name": "stdout",
     "output_type": "stream",
     "text": [
      "Train Epoch: 40 [10496/54863 (19%)]\tLoss: 0.084981\tTrain Accuracy: 97.942070\n"
     ]
    },
    {
     "name": "stderr",
     "output_type": "stream",
     "text": [
      " 28%|██▊       | 61/215 [02:08<05:22,  2.09s/it]"
     ]
    },
    {
     "name": "stdout",
     "output_type": "stream",
     "text": [
      "Train Epoch: 40 [15616/54863 (28%)]\tLoss: 0.053271\tTrain Accuracy: 97.982841\n"
     ]
    },
    {
     "name": "stderr",
     "output_type": "stream",
     "text": [
      " 38%|███▊      | 81/215 [02:47<04:32,  2.03s/it]"
     ]
    },
    {
     "name": "stdout",
     "output_type": "stream",
     "text": [
      "Train Epoch: 40 [20736/54863 (38%)]\tLoss: 0.053026\tTrain Accuracy: 97.964890\n"
     ]
    },
    {
     "name": "stderr",
     "output_type": "stream",
     "text": [
      " 47%|████▋     | 101/215 [03:26<03:45,  1.97s/it]"
     ]
    },
    {
     "name": "stdout",
     "output_type": "stream",
     "text": [
      "Train Epoch: 40 [25856/54863 (47%)]\tLoss: 0.034505\tTrain Accuracy: 97.977257\n"
     ]
    },
    {
     "name": "stderr",
     "output_type": "stream",
     "text": [
      " 56%|█████▋    | 121/215 [04:04<03:04,  1.96s/it]"
     ]
    },
    {
     "name": "stdout",
     "output_type": "stream",
     "text": [
      "Train Epoch: 40 [30976/54863 (56%)]\tLoss: 0.029364\tTrain Accuracy: 98.027504\n"
     ]
    },
    {
     "name": "stderr",
     "output_type": "stream",
     "text": [
      " 66%|██████▌   | 141/215 [04:41<02:22,  1.93s/it]"
     ]
    },
    {
     "name": "stdout",
     "output_type": "stream",
     "text": [
      "Train Epoch: 40 [36096/54863 (66%)]\tLoss: 0.107615\tTrain Accuracy: 98.030251\n"
     ]
    },
    {
     "name": "stderr",
     "output_type": "stream",
     "text": [
      " 75%|███████▍  | 161/215 [05:18<01:41,  1.87s/it]"
     ]
    },
    {
     "name": "stdout",
     "output_type": "stream",
     "text": [
      "Train Epoch: 40 [41216/54863 (75%)]\tLoss: 0.027141\tTrain Accuracy: 98.010483\n"
     ]
    },
    {
     "name": "stderr",
     "output_type": "stream",
     "text": [
      " 84%|████████▍ | 181/215 [05:55<01:04,  1.90s/it]"
     ]
    },
    {
     "name": "stdout",
     "output_type": "stream",
     "text": [
      "Train Epoch: 40 [46336/54863 (84%)]\tLoss: 0.036838\tTrain Accuracy: 98.038246\n"
     ]
    },
    {
     "name": "stderr",
     "output_type": "stream",
     "text": [
      " 93%|█████████▎| 201/215 [06:30<00:25,  1.79s/it]"
     ]
    },
    {
     "name": "stdout",
     "output_type": "stream",
     "text": [
      "Train Epoch: 40 [51456/54863 (93%)]\tLoss: 0.038979\tTrain Accuracy: 98.042992\n"
     ]
    },
    {
     "name": "stderr",
     "output_type": "stream",
     "text": [
      "100%|██████████| 215/215 [06:54<00:00,  1.41s/it]\n",
      "  0%|          | 0/55 [00:00<?, ?it/s]"
     ]
    },
    {
     "name": "stdout",
     "output_type": "stream",
     "text": [
      "\n",
      "Train set: Average loss = 0.0556, Train Accuracy = 98.0533\n",
      "\n",
      "\n",
      "Testing:\n"
     ]
    },
    {
     "name": "stderr",
     "output_type": "stream",
     "text": [
      "100%|██████████| 55/55 [01:29<00:00,  1.63s/it]\n"
     ]
    },
    {
     "name": "stdout",
     "output_type": "stream",
     "text": [
      "\n",
      "Test set: Average loss = 0.9533, Test Accuracy = 81.4100\n",
      "\n"
     ]
    },
    {
     "name": "stderr",
     "output_type": "stream",
     "text": [
      "\r",
      "  0%|          | 0/215 [00:00<?, ?it/s]"
     ]
    },
    {
     "name": "stdout",
     "output_type": "stream",
     "text": [
      "Time taken for running epoch 40 is 508.305 seconds.\n",
      "\n",
      "\n",
      "Epoch number:  41\n",
      "\n",
      "Training:\n"
     ]
    },
    {
     "name": "stderr",
     "output_type": "stream",
     "text": [
      "\r",
      "  0%|          | 1/215 [00:05<18:37,  5.22s/it]"
     ]
    },
    {
     "name": "stdout",
     "output_type": "stream",
     "text": [
      "Train Epoch: 41 [256/54863 (0%)]\tLoss: 0.045463\tTrain Accuracy: 98.828125\n"
     ]
    },
    {
     "name": "stderr",
     "output_type": "stream",
     "text": [
      " 10%|▉         | 21/215 [00:47<06:53,  2.13s/it]"
     ]
    },
    {
     "name": "stdout",
     "output_type": "stream",
     "text": [
      "Train Epoch: 41 [5376/54863 (10%)]\tLoss: 0.056730\tTrain Accuracy: 97.972473\n"
     ]
    },
    {
     "name": "stderr",
     "output_type": "stream",
     "text": [
      " 19%|█▉        | 41/215 [01:28<06:11,  2.13s/it]"
     ]
    },
    {
     "name": "stdout",
     "output_type": "stream",
     "text": [
      "Train Epoch: 41 [10496/54863 (19%)]\tLoss: 0.047980\tTrain Accuracy: 97.951599\n"
     ]
    },
    {
     "name": "stderr",
     "output_type": "stream",
     "text": [
      " 28%|██▊       | 61/215 [02:08<05:21,  2.09s/it]"
     ]
    },
    {
     "name": "stdout",
     "output_type": "stream",
     "text": [
      "Train Epoch: 41 [15616/54863 (28%)]\tLoss: 0.038778\tTrain Accuracy: 98.085297\n"
     ]
    },
    {
     "name": "stderr",
     "output_type": "stream",
     "text": [
      " 38%|███▊      | 81/215 [02:48<04:31,  2.02s/it]"
     ]
    },
    {
     "name": "stdout",
     "output_type": "stream",
     "text": [
      "Train Epoch: 41 [20736/54863 (38%)]\tLoss: 0.044579\tTrain Accuracy: 98.075813\n"
     ]
    },
    {
     "name": "stderr",
     "output_type": "stream",
     "text": [
      " 47%|████▋     | 101/215 [03:27<03:46,  1.99s/it]"
     ]
    },
    {
     "name": "stdout",
     "output_type": "stream",
     "text": [
      "Train Epoch: 41 [25856/54863 (47%)]\tLoss: 0.045260\tTrain Accuracy: 98.147430\n"
     ]
    },
    {
     "name": "stderr",
     "output_type": "stream",
     "text": [
      " 56%|█████▋    | 121/215 [04:05<03:07,  1.99s/it]"
     ]
    },
    {
     "name": "stdout",
     "output_type": "stream",
     "text": [
      "Train Epoch: 41 [30976/54863 (56%)]\tLoss: 0.071027\tTrain Accuracy: 98.146950\n"
     ]
    },
    {
     "name": "stderr",
     "output_type": "stream",
     "text": [
      " 66%|██████▌   | 141/215 [04:42<02:21,  1.91s/it]"
     ]
    },
    {
     "name": "stdout",
     "output_type": "stream",
     "text": [
      "Train Epoch: 41 [36096/54863 (66%)]\tLoss: 0.051234\tTrain Accuracy: 98.143837\n"
     ]
    },
    {
     "name": "stderr",
     "output_type": "stream",
     "text": [
      " 75%|███████▍  | 161/215 [05:19<01:42,  1.89s/it]"
     ]
    },
    {
     "name": "stdout",
     "output_type": "stream",
     "text": [
      "Train Epoch: 41 [41216/54863 (75%)]\tLoss: 0.035593\tTrain Accuracy: 98.148781\n"
     ]
    },
    {
     "name": "stderr",
     "output_type": "stream",
     "text": [
      " 84%|████████▍ | 181/215 [05:56<01:05,  1.92s/it]"
     ]
    },
    {
     "name": "stdout",
     "output_type": "stream",
     "text": [
      "Train Epoch: 41 [46336/54863 (84%)]\tLoss: 0.027890\tTrain Accuracy: 98.182838\n"
     ]
    },
    {
     "name": "stderr",
     "output_type": "stream",
     "text": [
      " 93%|█████████▎| 201/215 [06:32<00:26,  1.88s/it]"
     ]
    },
    {
     "name": "stdout",
     "output_type": "stream",
     "text": [
      "Train Epoch: 41 [51456/54863 (93%)]\tLoss: 0.061189\tTrain Accuracy: 98.206238\n"
     ]
    },
    {
     "name": "stderr",
     "output_type": "stream",
     "text": [
      "100%|██████████| 215/215 [06:56<00:00,  1.43s/it]\n",
      "  0%|          | 0/55 [00:00<?, ?it/s]"
     ]
    },
    {
     "name": "stdout",
     "output_type": "stream",
     "text": [
      "\n",
      "Train set: Average loss = 0.0547, Train Accuracy = 98.1372\n",
      "\n",
      "\n",
      "Testing:\n"
     ]
    },
    {
     "name": "stderr",
     "output_type": "stream",
     "text": [
      "100%|██████████| 55/55 [01:28<00:00,  1.62s/it]\n"
     ]
    },
    {
     "name": "stdout",
     "output_type": "stream",
     "text": [
      "\n",
      "Test set: Average loss = 1.0020, Test Accuracy = 80.2675\n",
      "\n"
     ]
    },
    {
     "name": "stderr",
     "output_type": "stream",
     "text": [
      "\r",
      "  0%|          | 0/215 [00:00<?, ?it/s]"
     ]
    },
    {
     "name": "stdout",
     "output_type": "stream",
     "text": [
      "Time taken for running epoch 41 is 510.121 seconds.\n",
      "\n",
      "\n",
      "Epoch number:  42\n",
      "\n",
      "Training:\n"
     ]
    },
    {
     "name": "stderr",
     "output_type": "stream",
     "text": [
      "\r",
      "  0%|          | 1/215 [00:05<18:43,  5.25s/it]"
     ]
    },
    {
     "name": "stdout",
     "output_type": "stream",
     "text": [
      "Train Epoch: 42 [256/54863 (0%)]\tLoss: 0.051419\tTrain Accuracy: 98.437500\n"
     ]
    },
    {
     "name": "stderr",
     "output_type": "stream",
     "text": [
      " 10%|▉         | 21/215 [00:48<07:07,  2.21s/it]"
     ]
    },
    {
     "name": "stdout",
     "output_type": "stream",
     "text": [
      "Train Epoch: 42 [5376/54863 (10%)]\tLoss: 0.076409\tTrain Accuracy: 97.842262\n"
     ]
    },
    {
     "name": "stderr",
     "output_type": "stream",
     "text": [
      " 19%|█▉        | 41/215 [01:29<06:12,  2.14s/it]"
     ]
    },
    {
     "name": "stdout",
     "output_type": "stream",
     "text": [
      "Train Epoch: 42 [10496/54863 (19%)]\tLoss: 0.065261\tTrain Accuracy: 98.046875\n"
     ]
    },
    {
     "name": "stderr",
     "output_type": "stream",
     "text": [
      " 28%|██▊       | 61/215 [02:10<05:24,  2.11s/it]"
     ]
    },
    {
     "name": "stdout",
     "output_type": "stream",
     "text": [
      "Train Epoch: 42 [15616/54863 (28%)]\tLoss: 0.033476\tTrain Accuracy: 98.046875\n"
     ]
    },
    {
     "name": "stderr",
     "output_type": "stream",
     "text": [
      " 38%|███▊      | 81/215 [02:50<04:38,  2.08s/it]"
     ]
    },
    {
     "name": "stdout",
     "output_type": "stream",
     "text": [
      "Train Epoch: 42 [20736/54863 (38%)]\tLoss: 0.034467\tTrain Accuracy: 98.109566\n"
     ]
    },
    {
     "name": "stderr",
     "output_type": "stream",
     "text": [
      " 47%|████▋     | 101/215 [03:29<03:41,  1.94s/it]"
     ]
    },
    {
     "name": "stdout",
     "output_type": "stream",
     "text": [
      "Train Epoch: 42 [25856/54863 (47%)]\tLoss: 0.083492\tTrain Accuracy: 98.124229\n"
     ]
    },
    {
     "name": "stderr",
     "output_type": "stream",
     "text": [
      " 56%|█████▋    | 121/215 [04:07<03:05,  1.97s/it]"
     ]
    },
    {
     "name": "stdout",
     "output_type": "stream",
     "text": [
      "Train Epoch: 42 [30976/54863 (56%)]\tLoss: 0.056847\tTrain Accuracy: 98.140495\n"
     ]
    },
    {
     "name": "stderr",
     "output_type": "stream",
     "text": [
      " 66%|██████▌   | 141/215 [04:44<02:21,  1.92s/it]"
     ]
    },
    {
     "name": "stdout",
     "output_type": "stream",
     "text": [
      "Train Epoch: 42 [36096/54863 (66%)]\tLoss: 0.047221\tTrain Accuracy: 98.132759\n"
     ]
    },
    {
     "name": "stderr",
     "output_type": "stream",
     "text": [
      " 75%|███████▍  | 161/215 [05:21<01:40,  1.86s/it]"
     ]
    },
    {
     "name": "stdout",
     "output_type": "stream",
     "text": [
      "Train Epoch: 42 [41216/54863 (75%)]\tLoss: 0.041215\tTrain Accuracy: 98.148781\n"
     ]
    },
    {
     "name": "stderr",
     "output_type": "stream",
     "text": [
      " 84%|████████▍ | 181/215 [05:58<01:04,  1.90s/it]"
     ]
    },
    {
     "name": "stdout",
     "output_type": "stream",
     "text": [
      "Train Epoch: 42 [46336/54863 (84%)]\tLoss: 0.112012\tTrain Accuracy: 98.128883\n"
     ]
    },
    {
     "name": "stderr",
     "output_type": "stream",
     "text": [
      " 93%|█████████▎| 201/215 [06:34<00:26,  1.88s/it]"
     ]
    },
    {
     "name": "stdout",
     "output_type": "stream",
     "text": [
      "Train Epoch: 42 [51456/54863 (93%)]\tLoss: 0.033650\tTrain Accuracy: 98.144043\n"
     ]
    },
    {
     "name": "stderr",
     "output_type": "stream",
     "text": [
      "100%|██████████| 215/215 [06:57<00:00,  1.39s/it]\n",
      "  0%|          | 0/55 [00:00<?, ?it/s]"
     ]
    },
    {
     "name": "stdout",
     "output_type": "stream",
     "text": [
      "\n",
      "Train set: Average loss = 0.0553, Train Accuracy = 98.1463\n",
      "\n",
      "\n",
      "Testing:\n"
     ]
    },
    {
     "name": "stderr",
     "output_type": "stream",
     "text": [
      "100%|██████████| 55/55 [01:29<00:00,  1.63s/it]\n"
     ]
    },
    {
     "name": "stdout",
     "output_type": "stream",
     "text": [
      "\n",
      "Test set: Average loss = 1.0248, Test Accuracy = 80.5495\n",
      "\n"
     ]
    },
    {
     "name": "stderr",
     "output_type": "stream",
     "text": [
      "\r",
      "  0%|          | 0/215 [00:00<?, ?it/s]"
     ]
    },
    {
     "name": "stdout",
     "output_type": "stream",
     "text": [
      "Time taken for running epoch 42 is 511.593 seconds.\n",
      "\n",
      "\n",
      "Epoch number:  43\n",
      "\n",
      "Training:\n"
     ]
    },
    {
     "name": "stderr",
     "output_type": "stream",
     "text": [
      "\r",
      "  0%|          | 1/215 [00:05<19:08,  5.37s/it]"
     ]
    },
    {
     "name": "stdout",
     "output_type": "stream",
     "text": [
      "Train Epoch: 43 [256/54863 (0%)]\tLoss: 0.034900\tTrain Accuracy: 98.437500\n"
     ]
    },
    {
     "name": "stderr",
     "output_type": "stream",
     "text": [
      " 10%|▉         | 21/215 [00:47<06:57,  2.15s/it]"
     ]
    },
    {
     "name": "stdout",
     "output_type": "stream",
     "text": [
      "Train Epoch: 43 [5376/54863 (10%)]\tLoss: 0.040500\tTrain Accuracy: 97.935265\n"
     ]
    },
    {
     "name": "stderr",
     "output_type": "stream",
     "text": [
      " 19%|█▉        | 41/215 [01:28<06:17,  2.17s/it]"
     ]
    },
    {
     "name": "stdout",
     "output_type": "stream",
     "text": [
      "Train Epoch: 43 [10496/54863 (19%)]\tLoss: 0.083405\tTrain Accuracy: 98.008766\n"
     ]
    },
    {
     "name": "stderr",
     "output_type": "stream",
     "text": [
      " 28%|██▊       | 61/215 [02:08<05:22,  2.09s/it]"
     ]
    },
    {
     "name": "stdout",
     "output_type": "stream",
     "text": [
      "Train Epoch: 43 [15616/54863 (28%)]\tLoss: 0.032515\tTrain Accuracy: 98.014854\n"
     ]
    },
    {
     "name": "stderr",
     "output_type": "stream",
     "text": [
      " 38%|███▊      | 81/215 [02:48<04:39,  2.08s/it]"
     ]
    },
    {
     "name": "stdout",
     "output_type": "stream",
     "text": [
      "Train Epoch: 43 [20736/54863 (38%)]\tLoss: 0.040890\tTrain Accuracy: 98.003471\n"
     ]
    },
    {
     "name": "stderr",
     "output_type": "stream",
     "text": [
      " 47%|████▋     | 101/215 [03:26<03:40,  1.94s/it]"
     ]
    },
    {
     "name": "stdout",
     "output_type": "stream",
     "text": [
      "Train Epoch: 43 [25856/54863 (47%)]\tLoss: 0.123452\tTrain Accuracy: 98.035271\n"
     ]
    },
    {
     "name": "stderr",
     "output_type": "stream",
     "text": [
      " 56%|█████▋    | 121/215 [04:04<03:03,  1.95s/it]"
     ]
    },
    {
     "name": "stdout",
     "output_type": "stream",
     "text": [
      "Train Epoch: 43 [30976/54863 (56%)]\tLoss: 0.092801\tTrain Accuracy: 98.030731\n"
     ]
    },
    {
     "name": "stderr",
     "output_type": "stream",
     "text": [
      " 66%|██████▌   | 141/215 [04:41<02:21,  1.91s/it]"
     ]
    },
    {
     "name": "stdout",
     "output_type": "stream",
     "text": [
      "Train Epoch: 43 [36096/54863 (66%)]\tLoss: 0.035240\tTrain Accuracy: 98.052414\n"
     ]
    },
    {
     "name": "stderr",
     "output_type": "stream",
     "text": [
      " 75%|███████▍  | 161/215 [05:18<01:40,  1.86s/it]"
     ]
    },
    {
     "name": "stdout",
     "output_type": "stream",
     "text": [
      "Train Epoch: 43 [41216/54863 (75%)]\tLoss: 0.054208\tTrain Accuracy: 98.073563\n"
     ]
    },
    {
     "name": "stderr",
     "output_type": "stream",
     "text": [
      " 84%|████████▍ | 181/215 [05:54<01:03,  1.85s/it]"
     ]
    },
    {
     "name": "stdout",
     "output_type": "stream",
     "text": [
      "Train Epoch: 43 [46336/54863 (84%)]\tLoss: 0.079944\tTrain Accuracy: 98.068459\n"
     ]
    },
    {
     "name": "stderr",
     "output_type": "stream",
     "text": [
      " 93%|█████████▎| 201/215 [06:30<00:25,  1.83s/it]"
     ]
    },
    {
     "name": "stdout",
     "output_type": "stream",
     "text": [
      "Train Epoch: 43 [51456/54863 (93%)]\tLoss: 0.062350\tTrain Accuracy: 98.091576\n"
     ]
    },
    {
     "name": "stderr",
     "output_type": "stream",
     "text": [
      "100%|██████████| 215/215 [06:54<00:00,  1.43s/it]\n",
      "  0%|          | 0/55 [00:00<?, ?it/s]"
     ]
    },
    {
     "name": "stdout",
     "output_type": "stream",
     "text": [
      "\n",
      "Train set: Average loss = 0.0561, Train Accuracy = 98.1335\n",
      "\n",
      "\n",
      "Testing:\n"
     ]
    },
    {
     "name": "stderr",
     "output_type": "stream",
     "text": [
      "100%|██████████| 55/55 [01:29<00:00,  1.62s/it]\n"
     ]
    },
    {
     "name": "stdout",
     "output_type": "stream",
     "text": [
      "\n",
      "Test set: Average loss = 0.9862, Test Accuracy = 82.3355\n",
      "\n"
     ]
    },
    {
     "name": "stderr",
     "output_type": "stream",
     "text": [
      "\r",
      "  0%|          | 0/215 [00:00<?, ?it/s]"
     ]
    },
    {
     "name": "stdout",
     "output_type": "stream",
     "text": [
      "Time taken for running epoch 43 is 507.820 seconds.\n",
      "\n",
      "\n",
      "Epoch number:  44\n",
      "\n",
      "Training:\n"
     ]
    },
    {
     "name": "stderr",
     "output_type": "stream",
     "text": [
      "\r",
      "  0%|          | 1/215 [00:05<18:47,  5.27s/it]"
     ]
    },
    {
     "name": "stdout",
     "output_type": "stream",
     "text": [
      "Train Epoch: 44 [256/54863 (0%)]\tLoss: 0.023828\tTrain Accuracy: 99.218750\n"
     ]
    },
    {
     "name": "stderr",
     "output_type": "stream",
     "text": [
      " 10%|▉         | 21/215 [00:48<06:55,  2.14s/it]"
     ]
    },
    {
     "name": "stdout",
     "output_type": "stream",
     "text": [
      "Train Epoch: 44 [5376/54863 (10%)]\tLoss: 0.097780\tTrain Accuracy: 97.842262\n"
     ]
    },
    {
     "name": "stderr",
     "output_type": "stream",
     "text": [
      " 19%|█▉        | 41/215 [01:28<06:09,  2.12s/it]"
     ]
    },
    {
     "name": "stdout",
     "output_type": "stream",
     "text": [
      "Train Epoch: 44 [10496/54863 (19%)]\tLoss: 0.030474\tTrain Accuracy: 97.932549\n"
     ]
    },
    {
     "name": "stderr",
     "output_type": "stream",
     "text": [
      " 28%|██▊       | 61/215 [02:08<05:11,  2.02s/it]"
     ]
    },
    {
     "name": "stdout",
     "output_type": "stream",
     "text": [
      "Train Epoch: 44 [15616/54863 (28%)]\tLoss: 0.068144\tTrain Accuracy: 98.021263\n"
     ]
    },
    {
     "name": "stderr",
     "output_type": "stream",
     "text": [
      " 38%|███▊      | 81/215 [02:47<04:29,  2.01s/it]"
     ]
    },
    {
     "name": "stdout",
     "output_type": "stream",
     "text": [
      "Train Epoch: 44 [20736/54863 (38%)]\tLoss: 0.031288\tTrain Accuracy: 98.051697\n"
     ]
    },
    {
     "name": "stderr",
     "output_type": "stream",
     "text": [
      " 47%|████▋     | 101/215 [03:25<03:45,  1.97s/it]"
     ]
    },
    {
     "name": "stdout",
     "output_type": "stream",
     "text": [
      "Train Epoch: 44 [25856/54863 (47%)]\tLoss: 0.040504\tTrain Accuracy: 98.151299\n"
     ]
    },
    {
     "name": "stderr",
     "output_type": "stream",
     "text": [
      " 56%|█████▋    | 121/215 [04:03<02:58,  1.90s/it]"
     ]
    },
    {
     "name": "stdout",
     "output_type": "stream",
     "text": [
      "Train Epoch: 44 [30976/54863 (56%)]\tLoss: 0.084727\tTrain Accuracy: 98.159866\n"
     ]
    },
    {
     "name": "stderr",
     "output_type": "stream",
     "text": [
      " 66%|██████▌   | 141/215 [04:40<02:25,  1.96s/it]"
     ]
    },
    {
     "name": "stdout",
     "output_type": "stream",
     "text": [
      "Train Epoch: 44 [36096/54863 (66%)]\tLoss: 0.074153\tTrain Accuracy: 98.218636\n"
     ]
    },
    {
     "name": "stderr",
     "output_type": "stream",
     "text": [
      " 75%|███████▍  | 161/215 [05:16<01:41,  1.89s/it]"
     ]
    },
    {
     "name": "stdout",
     "output_type": "stream",
     "text": [
      "Train Epoch: 44 [41216/54863 (75%)]\tLoss: 0.048222\tTrain Accuracy: 98.192451\n"
     ]
    },
    {
     "name": "stderr",
     "output_type": "stream",
     "text": [
      " 84%|████████▍ | 181/215 [05:52<01:02,  1.84s/it]"
     ]
    },
    {
     "name": "stdout",
     "output_type": "stream",
     "text": [
      "Train Epoch: 44 [46336/54863 (84%)]\tLoss: 0.020118\tTrain Accuracy: 98.204422\n"
     ]
    },
    {
     "name": "stderr",
     "output_type": "stream",
     "text": [
      " 93%|█████████▎| 201/215 [06:28<00:26,  1.87s/it]"
     ]
    },
    {
     "name": "stdout",
     "output_type": "stream",
     "text": [
      "Train Epoch: 44 [51456/54863 (93%)]\tLoss: 0.050037\tTrain Accuracy: 98.196518\n"
     ]
    },
    {
     "name": "stderr",
     "output_type": "stream",
     "text": [
      "100%|██████████| 215/215 [06:51<00:00,  1.33s/it]\n",
      "  0%|          | 0/55 [00:00<?, ?it/s]"
     ]
    },
    {
     "name": "stdout",
     "output_type": "stream",
     "text": [
      "\n",
      "Train set: Average loss = 0.0512, Train Accuracy = 98.2156\n",
      "\n",
      "\n",
      "Testing:\n"
     ]
    },
    {
     "name": "stderr",
     "output_type": "stream",
     "text": [
      "100%|██████████| 55/55 [01:27<00:00,  1.60s/it]\n"
     ]
    },
    {
     "name": "stdout",
     "output_type": "stream",
     "text": [
      "\n",
      "Test set: Average loss = 0.9022, Test Accuracy = 84.0998\n",
      "\n"
     ]
    },
    {
     "name": "stderr",
     "output_type": "stream",
     "text": [
      "\r",
      "  0%|          | 0/215 [00:00<?, ?it/s]"
     ]
    },
    {
     "name": "stdout",
     "output_type": "stream",
     "text": [
      "Time taken for running epoch 44 is 503.831 seconds.\n",
      "\n",
      "\n",
      "Epoch number:  45\n",
      "\n",
      "Training:\n"
     ]
    },
    {
     "name": "stderr",
     "output_type": "stream",
     "text": [
      "\r",
      "  0%|          | 1/215 [00:05<18:34,  5.21s/it]"
     ]
    },
    {
     "name": "stdout",
     "output_type": "stream",
     "text": [
      "Train Epoch: 45 [256/54863 (0%)]\tLoss: 0.087680\tTrain Accuracy: 96.484375\n"
     ]
    },
    {
     "name": "stderr",
     "output_type": "stream",
     "text": [
      " 10%|▉         | 21/215 [00:47<06:48,  2.10s/it]"
     ]
    },
    {
     "name": "stdout",
     "output_type": "stream",
     "text": [
      "Train Epoch: 45 [5376/54863 (10%)]\tLoss: 0.034095\tTrain Accuracy: 98.139877\n"
     ]
    },
    {
     "name": "stderr",
     "output_type": "stream",
     "text": [
      " 19%|█▉        | 41/215 [01:28<06:12,  2.14s/it]"
     ]
    },
    {
     "name": "stdout",
     "output_type": "stream",
     "text": [
      "Train Epoch: 45 [10496/54863 (19%)]\tLoss: 0.060987\tTrain Accuracy: 98.180260\n"
     ]
    },
    {
     "name": "stderr",
     "output_type": "stream",
     "text": [
      " 28%|██▊       | 61/215 [02:09<05:20,  2.08s/it]"
     ]
    },
    {
     "name": "stdout",
     "output_type": "stream",
     "text": [
      "Train Epoch: 45 [15616/54863 (28%)]\tLoss: 0.066931\tTrain Accuracy: 98.149338\n"
     ]
    },
    {
     "name": "stderr",
     "output_type": "stream",
     "text": [
      " 38%|███▊      | 81/215 [02:48<04:26,  1.99s/it]"
     ]
    },
    {
     "name": "stdout",
     "output_type": "stream",
     "text": [
      "Train Epoch: 45 [20736/54863 (38%)]\tLoss: 0.024795\tTrain Accuracy: 98.162613\n"
     ]
    },
    {
     "name": "stderr",
     "output_type": "stream",
     "text": [
      " 47%|████▋     | 101/215 [03:28<04:03,  2.14s/it]"
     ]
    },
    {
     "name": "stdout",
     "output_type": "stream",
     "text": [
      "Train Epoch: 45 [25856/54863 (47%)]\tLoss: 0.041213\tTrain Accuracy: 98.236389\n"
     ]
    },
    {
     "name": "stderr",
     "output_type": "stream",
     "text": [
      " 56%|█████▋    | 121/215 [04:06<03:02,  1.94s/it]"
     ]
    },
    {
     "name": "stdout",
     "output_type": "stream",
     "text": [
      "Train Epoch: 45 [30976/54863 (56%)]\tLoss: 0.033076\tTrain Accuracy: 98.240570\n"
     ]
    },
    {
     "name": "stderr",
     "output_type": "stream",
     "text": [
      " 66%|██████▌   | 141/215 [04:43<02:19,  1.89s/it]"
     ]
    },
    {
     "name": "stdout",
     "output_type": "stream",
     "text": [
      "Train Epoch: 45 [36096/54863 (66%)]\tLoss: 0.054209\tTrain Accuracy: 98.274048\n"
     ]
    },
    {
     "name": "stderr",
     "output_type": "stream",
     "text": [
      " 75%|███████▍  | 161/215 [05:20<01:44,  1.93s/it]"
     ]
    },
    {
     "name": "stdout",
     "output_type": "stream",
     "text": [
      "Train Epoch: 45 [41216/54863 (75%)]\tLoss: 0.032120\tTrain Accuracy: 98.255531\n"
     ]
    },
    {
     "name": "stderr",
     "output_type": "stream",
     "text": [
      " 84%|████████▍ | 181/215 [05:56<01:03,  1.86s/it]"
     ]
    },
    {
     "name": "stdout",
     "output_type": "stream",
     "text": [
      "Train Epoch: 45 [46336/54863 (84%)]\tLoss: 0.080710\tTrain Accuracy: 98.273483\n"
     ]
    },
    {
     "name": "stderr",
     "output_type": "stream",
     "text": [
      " 93%|█████████▎| 201/215 [06:32<00:25,  1.84s/it]"
     ]
    },
    {
     "name": "stdout",
     "output_type": "stream",
     "text": [
      "Train Epoch: 45 [51456/54863 (93%)]\tLoss: 0.043531\tTrain Accuracy: 98.282028\n"
     ]
    },
    {
     "name": "stderr",
     "output_type": "stream",
     "text": [
      "100%|██████████| 215/215 [06:55<00:00,  1.35s/it]\n",
      "  0%|          | 0/55 [00:00<?, ?it/s]"
     ]
    },
    {
     "name": "stdout",
     "output_type": "stream",
     "text": [
      "\n",
      "Train set: Average loss = 0.0506, Train Accuracy = 98.2812\n",
      "\n",
      "\n",
      "Testing:\n"
     ]
    },
    {
     "name": "stderr",
     "output_type": "stream",
     "text": [
      "100%|██████████| 55/55 [01:28<00:00,  1.61s/it]\n"
     ]
    },
    {
     "name": "stdout",
     "output_type": "stream",
     "text": [
      "\n",
      "Test set: Average loss = 0.8622, Test Accuracy = 82.8995\n",
      "\n"
     ]
    },
    {
     "name": "stderr",
     "output_type": "stream",
     "text": [
      "\r",
      "  0%|          | 0/215 [00:00<?, ?it/s]"
     ]
    },
    {
     "name": "stdout",
     "output_type": "stream",
     "text": [
      "Time taken for running epoch 45 is 509.400 seconds.\n",
      "\n",
      "\n",
      "Epoch number:  46\n",
      "\n",
      "Training:\n"
     ]
    },
    {
     "name": "stderr",
     "output_type": "stream",
     "text": [
      "\r",
      "  0%|          | 1/215 [00:04<17:45,  4.98s/it]"
     ]
    },
    {
     "name": "stdout",
     "output_type": "stream",
     "text": [
      "Train Epoch: 46 [256/54863 (0%)]\tLoss: 0.038697\tTrain Accuracy: 98.828125\n"
     ]
    },
    {
     "name": "stderr",
     "output_type": "stream",
     "text": [
      " 10%|▉         | 21/215 [00:47<06:51,  2.12s/it]"
     ]
    },
    {
     "name": "stdout",
     "output_type": "stream",
     "text": [
      "Train Epoch: 46 [5376/54863 (10%)]\tLoss: 0.023614\tTrain Accuracy: 98.344498\n"
     ]
    },
    {
     "name": "stderr",
     "output_type": "stream",
     "text": [
      " 19%|█▉        | 41/215 [01:27<06:01,  2.08s/it]"
     ]
    },
    {
     "name": "stdout",
     "output_type": "stream",
     "text": [
      "Train Epoch: 46 [10496/54863 (19%)]\tLoss: 0.042480\tTrain Accuracy: 98.361282\n"
     ]
    },
    {
     "name": "stderr",
     "output_type": "stream",
     "text": [
      " 28%|██▊       | 61/215 [02:07<05:14,  2.04s/it]"
     ]
    },
    {
     "name": "stdout",
     "output_type": "stream",
     "text": [
      "Train Epoch: 46 [15616/54863 (28%)]\tLoss: 0.032741\tTrain Accuracy: 98.437500\n"
     ]
    },
    {
     "name": "stderr",
     "output_type": "stream",
     "text": [
      " 38%|███▊      | 81/215 [02:45<04:22,  1.96s/it]"
     ]
    },
    {
     "name": "stdout",
     "output_type": "stream",
     "text": [
      "Train Epoch: 46 [20736/54863 (38%)]\tLoss: 0.045968\tTrain Accuracy: 98.490547\n"
     ]
    },
    {
     "name": "stderr",
     "output_type": "stream",
     "text": [
      " 47%|████▋     | 101/215 [03:23<03:40,  1.93s/it]"
     ]
    },
    {
     "name": "stdout",
     "output_type": "stream",
     "text": [
      "Train Epoch: 46 [25856/54863 (47%)]\tLoss: 0.053877\tTrain Accuracy: 98.445236\n"
     ]
    },
    {
     "name": "stderr",
     "output_type": "stream",
     "text": [
      " 56%|█████▋    | 121/215 [04:01<03:00,  1.92s/it]"
     ]
    },
    {
     "name": "stdout",
     "output_type": "stream",
     "text": [
      "Train Epoch: 46 [30976/54863 (56%)]\tLoss: 0.056465\tTrain Accuracy: 98.424583\n"
     ]
    },
    {
     "name": "stderr",
     "output_type": "stream",
     "text": [
      " 66%|██████▌   | 141/215 [04:37<02:16,  1.85s/it]"
     ]
    },
    {
     "name": "stdout",
     "output_type": "stream",
     "text": [
      "Train Epoch: 46 [36096/54863 (66%)]\tLoss: 0.024374\tTrain Accuracy: 98.415337\n"
     ]
    },
    {
     "name": "stderr",
     "output_type": "stream",
     "text": [
      " 75%|███████▍  | 161/215 [05:14<01:39,  1.84s/it]"
     ]
    },
    {
     "name": "stdout",
     "output_type": "stream",
     "text": [
      "Train Epoch: 46 [41216/54863 (75%)]\tLoss: 0.058771\tTrain Accuracy: 98.396255\n"
     ]
    },
    {
     "name": "stderr",
     "output_type": "stream",
     "text": [
      " 84%|████████▍ | 181/215 [05:50<01:00,  1.79s/it]"
     ]
    },
    {
     "name": "stdout",
     "output_type": "stream",
     "text": [
      "Train Epoch: 46 [46336/54863 (84%)]\tLoss: 0.049999\tTrain Accuracy: 98.407288\n"
     ]
    },
    {
     "name": "stderr",
     "output_type": "stream",
     "text": [
      " 93%|█████████▎| 201/215 [06:25<00:25,  1.85s/it]"
     ]
    },
    {
     "name": "stdout",
     "output_type": "stream",
     "text": [
      "Train Epoch: 46 [51456/54863 (93%)]\tLoss: 0.040023\tTrain Accuracy: 98.351990\n"
     ]
    },
    {
     "name": "stderr",
     "output_type": "stream",
     "text": [
      "100%|██████████| 215/215 [06:49<00:00,  1.41s/it]\n",
      "  0%|          | 0/55 [00:00<?, ?it/s]"
     ]
    },
    {
     "name": "stdout",
     "output_type": "stream",
     "text": [
      "\n",
      "Train set: Average loss = 0.0498, Train Accuracy = 98.3213\n",
      "\n",
      "\n",
      "Testing:\n"
     ]
    },
    {
     "name": "stderr",
     "output_type": "stream",
     "text": [
      "100%|██████████| 55/55 [01:27<00:00,  1.60s/it]\n"
     ]
    },
    {
     "name": "stdout",
     "output_type": "stream",
     "text": [
      "\n",
      "Test set: Average loss = 1.0250, Test Accuracy = 81.4678\n",
      "\n"
     ]
    },
    {
     "name": "stderr",
     "output_type": "stream",
     "text": [
      "\r",
      "  0%|          | 0/215 [00:00<?, ?it/s]"
     ]
    },
    {
     "name": "stdout",
     "output_type": "stream",
     "text": [
      "Time taken for running epoch 46 is 501.917 seconds.\n",
      "\n",
      "\n",
      "Epoch number:  47\n",
      "\n",
      "Training:\n"
     ]
    },
    {
     "name": "stderr",
     "output_type": "stream",
     "text": [
      "\r",
      "  0%|          | 1/215 [00:05<18:35,  5.21s/it]"
     ]
    },
    {
     "name": "stdout",
     "output_type": "stream",
     "text": [
      "Train Epoch: 47 [256/54863 (0%)]\tLoss: 0.071797\tTrain Accuracy: 98.437500\n"
     ]
    },
    {
     "name": "stderr",
     "output_type": "stream",
     "text": [
      " 10%|▉         | 21/215 [00:47<07:01,  2.17s/it]"
     ]
    },
    {
     "name": "stdout",
     "output_type": "stream",
     "text": [
      "Train Epoch: 47 [5376/54863 (10%)]\tLoss: 0.051670\tTrain Accuracy: 98.251488\n"
     ]
    },
    {
     "name": "stderr",
     "output_type": "stream",
     "text": [
      " 19%|█▉        | 41/215 [01:28<06:12,  2.14s/it]"
     ]
    },
    {
     "name": "stdout",
     "output_type": "stream",
     "text": [
      "Train Epoch: 47 [10496/54863 (19%)]\tLoss: 0.049322\tTrain Accuracy: 98.351753\n"
     ]
    },
    {
     "name": "stderr",
     "output_type": "stream",
     "text": [
      " 28%|██▊       | 61/215 [02:08<05:24,  2.11s/it]"
     ]
    },
    {
     "name": "stdout",
     "output_type": "stream",
     "text": [
      "Train Epoch: 47 [15616/54863 (28%)]\tLoss: 0.014478\tTrain Accuracy: 98.379868\n"
     ]
    },
    {
     "name": "stderr",
     "output_type": "stream",
     "text": [
      " 38%|███▊      | 81/215 [02:47<04:32,  2.03s/it]"
     ]
    },
    {
     "name": "stdout",
     "output_type": "stream",
     "text": [
      "Train Epoch: 47 [20736/54863 (38%)]\tLoss: 0.054605\tTrain Accuracy: 98.456787\n"
     ]
    },
    {
     "name": "stderr",
     "output_type": "stream",
     "text": [
      " 47%|████▋     | 101/215 [03:25<03:44,  1.97s/it]"
     ]
    },
    {
     "name": "stdout",
     "output_type": "stream",
     "text": [
      "Train Epoch: 47 [25856/54863 (47%)]\tLoss: 0.053948\tTrain Accuracy: 98.437500\n"
     ]
    },
    {
     "name": "stderr",
     "output_type": "stream",
     "text": [
      " 56%|█████▋    | 121/215 [04:03<02:59,  1.91s/it]"
     ]
    },
    {
     "name": "stdout",
     "output_type": "stream",
     "text": [
      "Train Epoch: 47 [30976/54863 (56%)]\tLoss: 0.042731\tTrain Accuracy: 98.469780\n"
     ]
    },
    {
     "name": "stderr",
     "output_type": "stream",
     "text": [
      " 66%|██████▌   | 141/215 [04:40<02:20,  1.90s/it]"
     ]
    },
    {
     "name": "stdout",
     "output_type": "stream",
     "text": [
      "Train Epoch: 47 [36096/54863 (66%)]\tLoss: 0.021327\tTrain Accuracy: 98.470741\n"
     ]
    },
    {
     "name": "stderr",
     "output_type": "stream",
     "text": [
      " 75%|███████▍  | 161/215 [05:16<01:41,  1.88s/it]"
     ]
    },
    {
     "name": "stdout",
     "output_type": "stream",
     "text": [
      "Train Epoch: 47 [41216/54863 (75%)]\tLoss: 0.042561\tTrain Accuracy: 98.427795\n"
     ]
    },
    {
     "name": "stderr",
     "output_type": "stream",
     "text": [
      " 84%|████████▍ | 181/215 [05:53<01:04,  1.89s/it]"
     ]
    },
    {
     "name": "stdout",
     "output_type": "stream",
     "text": [
      "Train Epoch: 47 [46336/54863 (84%)]\tLoss: 0.062519\tTrain Accuracy: 98.379227\n"
     ]
    },
    {
     "name": "stderr",
     "output_type": "stream",
     "text": [
      " 93%|█████████▎| 201/215 [06:29<00:25,  1.82s/it]"
     ]
    },
    {
     "name": "stdout",
     "output_type": "stream",
     "text": [
      "Train Epoch: 47 [51456/54863 (93%)]\tLoss: 0.060257\tTrain Accuracy: 98.326729\n"
     ]
    },
    {
     "name": "stderr",
     "output_type": "stream",
     "text": [
      "100%|██████████| 215/215 [06:52<00:00,  1.36s/it]\n",
      "  0%|          | 0/55 [00:00<?, ?it/s]"
     ]
    },
    {
     "name": "stdout",
     "output_type": "stream",
     "text": [
      "\n",
      "Train set: Average loss = 0.0485, Train Accuracy = 98.3359\n",
      "\n",
      "\n",
      "Testing:\n"
     ]
    },
    {
     "name": "stderr",
     "output_type": "stream",
     "text": [
      "100%|██████████| 55/55 [01:28<00:00,  1.60s/it]\n"
     ]
    },
    {
     "name": "stdout",
     "output_type": "stream",
     "text": [
      "\n",
      "Test set: Average loss = 0.9960, Test Accuracy = 82.2704\n",
      "\n"
     ]
    },
    {
     "name": "stderr",
     "output_type": "stream",
     "text": [
      "\r",
      "  0%|          | 0/215 [00:00<?, ?it/s]"
     ]
    },
    {
     "name": "stdout",
     "output_type": "stream",
     "text": [
      "Time taken for running epoch 47 is 505.101 seconds.\n",
      "\n",
      "\n",
      "Epoch number:  48\n",
      "\n",
      "Training:\n"
     ]
    },
    {
     "name": "stderr",
     "output_type": "stream",
     "text": [
      "\r",
      "  0%|          | 1/215 [00:05<18:27,  5.18s/it]"
     ]
    },
    {
     "name": "stdout",
     "output_type": "stream",
     "text": [
      "Train Epoch: 48 [256/54863 (0%)]\tLoss: 0.045043\tTrain Accuracy: 97.656250\n"
     ]
    },
    {
     "name": "stderr",
     "output_type": "stream",
     "text": [
      " 10%|▉         | 21/215 [00:47<06:49,  2.11s/it]"
     ]
    },
    {
     "name": "stdout",
     "output_type": "stream",
     "text": [
      "Train Epoch: 48 [5376/54863 (10%)]\tLoss: 0.038342\tTrain Accuracy: 98.344498\n"
     ]
    },
    {
     "name": "stderr",
     "output_type": "stream",
     "text": [
      " 19%|█▉        | 41/215 [01:27<06:04,  2.09s/it]"
     ]
    },
    {
     "name": "stdout",
     "output_type": "stream",
     "text": [
      "Train Epoch: 48 [10496/54863 (19%)]\tLoss: 0.071936\tTrain Accuracy: 98.399391\n"
     ]
    },
    {
     "name": "stderr",
     "output_type": "stream",
     "text": [
      " 28%|██▊       | 61/215 [02:07<05:17,  2.06s/it]"
     ]
    },
    {
     "name": "stdout",
     "output_type": "stream",
     "text": [
      "Train Epoch: 48 [15616/54863 (28%)]\tLoss: 0.040033\tTrain Accuracy: 98.450310\n"
     ]
    },
    {
     "name": "stderr",
     "output_type": "stream",
     "text": [
      " 38%|███▊      | 81/215 [02:47<04:29,  2.01s/it]"
     ]
    },
    {
     "name": "stdout",
     "output_type": "stream",
     "text": [
      "Train Epoch: 48 [20736/54863 (38%)]\tLoss: 0.039280\tTrain Accuracy: 98.331406\n"
     ]
    },
    {
     "name": "stderr",
     "output_type": "stream",
     "text": [
      " 47%|████▋     | 101/215 [03:25<03:41,  1.95s/it]"
     ]
    },
    {
     "name": "stdout",
     "output_type": "stream",
     "text": [
      "Train Epoch: 48 [25856/54863 (47%)]\tLoss: 0.081960\tTrain Accuracy: 98.290535\n"
     ]
    },
    {
     "name": "stderr",
     "output_type": "stream",
     "text": [
      " 56%|█████▋    | 121/215 [04:02<02:57,  1.88s/it]"
     ]
    },
    {
     "name": "stdout",
     "output_type": "stream",
     "text": [
      "Train Epoch: 48 [30976/54863 (56%)]\tLoss: 0.031229\tTrain Accuracy: 98.256714\n"
     ]
    },
    {
     "name": "stderr",
     "output_type": "stream",
     "text": [
      " 66%|██████▌   | 141/215 [04:39<02:18,  1.88s/it]"
     ]
    },
    {
     "name": "stdout",
     "output_type": "stream",
     "text": [
      "Train Epoch: 48 [36096/54863 (66%)]\tLoss: 0.040596\tTrain Accuracy: 98.282356\n"
     ]
    },
    {
     "name": "stderr",
     "output_type": "stream",
     "text": [
      " 75%|███████▍  | 161/215 [05:16<01:41,  1.89s/it]"
     ]
    },
    {
     "name": "stdout",
     "output_type": "stream",
     "text": [
      "Train Epoch: 48 [41216/54863 (75%)]\tLoss: 0.070718\tTrain Accuracy: 98.253105\n"
     ]
    },
    {
     "name": "stderr",
     "output_type": "stream",
     "text": [
      " 84%|████████▍ | 181/215 [05:52<01:02,  1.85s/it]"
     ]
    },
    {
     "name": "stdout",
     "output_type": "stream",
     "text": [
      "Train Epoch: 48 [46336/54863 (84%)]\tLoss: 0.073757\tTrain Accuracy: 98.277794\n"
     ]
    },
    {
     "name": "stderr",
     "output_type": "stream",
     "text": [
      " 93%|█████████▎| 201/215 [06:28<00:25,  1.79s/it]"
     ]
    },
    {
     "name": "stdout",
     "output_type": "stream",
     "text": [
      "Train Epoch: 48 [51456/54863 (93%)]\tLoss: 0.059363\tTrain Accuracy: 98.280083\n"
     ]
    },
    {
     "name": "stderr",
     "output_type": "stream",
     "text": [
      "100%|██████████| 215/215 [06:51<00:00,  1.42s/it]\n",
      "  0%|          | 0/55 [00:00<?, ?it/s]"
     ]
    },
    {
     "name": "stdout",
     "output_type": "stream",
     "text": [
      "\n",
      "Train set: Average loss = 0.0519, Train Accuracy = 98.3049\n",
      "\n",
      "\n",
      "Testing:\n"
     ]
    },
    {
     "name": "stderr",
     "output_type": "stream",
     "text": [
      "100%|██████████| 55/55 [01:30<00:00,  1.65s/it]\n"
     ]
    },
    {
     "name": "stdout",
     "output_type": "stream",
     "text": [
      "\n",
      "Test set: Average loss = 0.9795, Test Accuracy = 82.0607\n",
      "\n"
     ]
    },
    {
     "name": "stderr",
     "output_type": "stream",
     "text": [
      "\r",
      "  0%|          | 0/215 [00:00<?, ?it/s]"
     ]
    },
    {
     "name": "stdout",
     "output_type": "stream",
     "text": [
      "Time taken for running epoch 48 is 506.547 seconds.\n",
      "\n",
      "\n",
      "Epoch number:  49\n",
      "\n",
      "Training:\n"
     ]
    },
    {
     "name": "stderr",
     "output_type": "stream",
     "text": [
      "\r",
      "  0%|          | 1/215 [00:05<18:23,  5.16s/it]"
     ]
    },
    {
     "name": "stdout",
     "output_type": "stream",
     "text": [
      "Train Epoch: 49 [256/54863 (0%)]\tLoss: 0.047637\tTrain Accuracy: 98.046875\n"
     ]
    },
    {
     "name": "stderr",
     "output_type": "stream",
     "text": [
      " 10%|▉         | 21/215 [00:47<06:45,  2.09s/it]"
     ]
    },
    {
     "name": "stdout",
     "output_type": "stream",
     "text": [
      "Train Epoch: 49 [5376/54863 (10%)]\tLoss: 0.038311\tTrain Accuracy: 98.567711\n"
     ]
    },
    {
     "name": "stderr",
     "output_type": "stream",
     "text": [
      " 19%|█▉        | 41/215 [01:28<06:06,  2.11s/it]"
     ]
    },
    {
     "name": "stdout",
     "output_type": "stream",
     "text": [
      "Train Epoch: 49 [10496/54863 (19%)]\tLoss: 0.057878\tTrain Accuracy: 98.466080\n"
     ]
    },
    {
     "name": "stderr",
     "output_type": "stream",
     "text": [
      " 28%|██▊       | 61/215 [02:07<05:03,  1.97s/it]"
     ]
    },
    {
     "name": "stdout",
     "output_type": "stream",
     "text": [
      "Train Epoch: 49 [15616/54863 (28%)]\tLoss: 0.040778\tTrain Accuracy: 98.469521\n"
     ]
    },
    {
     "name": "stderr",
     "output_type": "stream",
     "text": [
      " 38%|███▊      | 81/215 [02:46<04:16,  1.91s/it]"
     ]
    },
    {
     "name": "stdout",
     "output_type": "stream",
     "text": [
      "Train Epoch: 49 [20736/54863 (38%)]\tLoss: 0.023961\tTrain Accuracy: 98.567711\n"
     ]
    },
    {
     "name": "stderr",
     "output_type": "stream",
     "text": [
      " 47%|████▋     | 101/215 [03:25<03:28,  1.83s/it]"
     ]
    },
    {
     "name": "stdout",
     "output_type": "stream",
     "text": [
      "Train Epoch: 49 [25856/54863 (47%)]\tLoss: 0.033314\tTrain Accuracy: 98.526451\n"
     ]
    },
    {
     "name": "stderr",
     "output_type": "stream",
     "text": [
      " 56%|█████▋    | 121/215 [04:03<02:51,  1.82s/it]"
     ]
    },
    {
     "name": "stdout",
     "output_type": "stream",
     "text": [
      "Train Epoch: 49 [30976/54863 (56%)]\tLoss: 0.029554\tTrain Accuracy: 98.531120\n"
     ]
    },
    {
     "name": "stderr",
     "output_type": "stream",
     "text": [
      " 66%|██████▌   | 141/215 [04:40<02:17,  1.85s/it]"
     ]
    },
    {
     "name": "stdout",
     "output_type": "stream",
     "text": [
      "Train Epoch: 49 [36096/54863 (66%)]\tLoss: 0.024393\tTrain Accuracy: 98.540001\n"
     ]
    },
    {
     "name": "stderr",
     "output_type": "stream",
     "text": [
      " 75%|███████▍  | 161/215 [05:17<01:36,  1.79s/it]"
     ]
    },
    {
     "name": "stdout",
     "output_type": "stream",
     "text": [
      "Train Epoch: 49 [41216/54863 (75%)]\tLoss: 0.044428\tTrain Accuracy: 98.546684\n"
     ]
    },
    {
     "name": "stderr",
     "output_type": "stream",
     "text": [
      " 84%|████████▍ | 181/215 [05:54<01:04,  1.91s/it]"
     ]
    },
    {
     "name": "stdout",
     "output_type": "stream",
     "text": [
      "Train Epoch: 49 [46336/54863 (84%)]\tLoss: 0.051698\tTrain Accuracy: 98.543251\n"
     ]
    },
    {
     "name": "stderr",
     "output_type": "stream",
     "text": [
      " 93%|█████████▎| 201/215 [06:30<00:26,  1.88s/it]"
     ]
    },
    {
     "name": "stdout",
     "output_type": "stream",
     "text": [
      "Train Epoch: 49 [51456/54863 (93%)]\tLoss: 0.044373\tTrain Accuracy: 98.509407\n"
     ]
    },
    {
     "name": "stderr",
     "output_type": "stream",
     "text": [
      "100%|██████████| 215/215 [06:53<00:00,  1.40s/it]\n",
      "  0%|          | 0/55 [00:00<?, ?it/s]"
     ]
    },
    {
     "name": "stdout",
     "output_type": "stream",
     "text": [
      "\n",
      "Train set: Average loss = 0.0462, Train Accuracy = 98.5127\n",
      "\n",
      "\n",
      "Testing:\n"
     ]
    },
    {
     "name": "stderr",
     "output_type": "stream",
     "text": [
      "100%|██████████| 55/55 [01:29<00:00,  1.62s/it]\n"
     ]
    },
    {
     "name": "stdout",
     "output_type": "stream",
     "text": [
      "\n",
      "Test set: Average loss = 1.0634, Test Accuracy = 81.1858\n",
      "\n",
      "Time taken for running epoch 49 is 507.185 seconds.\n",
      "\n",
      "\n"
     ]
    }
   ],
   "source": [
    "train_losses = []\n",
    "test_losses = []\n",
    "train_accuracies = []\n",
    "test_accuracies = []\n",
    "for epoch in range(0, EPOCHS):\n",
    "    print(\"Epoch number: \", epoch)\n",
    "    #lr = LEARNING_RATE * np.power(0.25, (int(epoch / 6)))\n",
    "    start_time = time.time()\n",
    "    print(\"\\nTraining:\")\n",
    "    train_loss, train_accuracy = train(net, device, train_dataloader, epoch)\n",
    "    print(\"\\nTesting:\")\n",
    "    test_loss, test_accuracy = test(net, device, test_dataloader)\n",
    "    train_losses.append((epoch, train_loss))\n",
    "    test_losses.append((epoch, test_loss))\n",
    "    train_accuracies.append((epoch, train_accuracy))\n",
    "    test_accuracies.append((epoch, test_accuracy))\n",
    "    torch.save(net.state_dict(), 'siamese_net_crossEntropy.pt')\n",
    "    end_time = time.time()\n",
    "    print(\"Time taken for running epoch {} is {:.3f} seconds.\\n\\n\".format(epoch, end_time-start_time))"
   ]
  },
  {
   "cell_type": "code",
   "execution_count": 0,
   "metadata": {
    "colab": {
     "base_uri": "https://localhost:8080/",
     "height": 867
    },
    "colab_type": "code",
    "id": "2-X4xJgLQk4t",
    "outputId": "f86b7137-8a11-41f6-db50-b8612715dcca"
   },
   "outputs": [
    {
     "data": {
      "text/plain": [
       "[(0, 1.3348422252854635),\n",
       " (1, 0.3246271992145583),\n",
       " (2, 0.2827379670947097),\n",
       " (3, 0.23794184507325639),\n",
       " (4, 0.2267191020901813),\n",
       " (5, 0.21681660964738492),\n",
       " (6, 0.2219450363932654),\n",
       " (7, 0.1776158954168475),\n",
       " (8, 0.1658069412722144),\n",
       " (9, 0.15025349928196086),\n",
       " (10, 0.14384612655916879),\n",
       " (11, 0.14011074872904045),\n",
       " (12, 0.13264988688535467),\n",
       " (13, 0.1240927389714607),\n",
       " (14, 0.12289460048426029),\n",
       " (15, 0.12610256249128385),\n",
       " (16, 0.11178098076651263),\n",
       " (17, 0.11764170643548633),\n",
       " (18, 0.10136540537310201),\n",
       " (19, 0.09572699932858002),\n",
       " (20, 0.0945117033671501),\n",
       " (21, 0.0933987880688767),\n",
       " (22, 0.09269349866135176),\n",
       " (23, 0.08910084123355011),\n",
       " (24, 0.09166274769881437),\n",
       " (25, 0.08238995225970135),\n",
       " (26, 0.08628533470422722),\n",
       " (27, 0.080994556835571),\n",
       " (28, 0.0758227679705204),\n",
       " (29, 0.07677794996389123),\n",
       " (30, 0.07610209883992063),\n",
       " (31, 0.0704283785161584),\n",
       " (32, 0.07010717084414737),\n",
       " (33, 0.0674664689401208),\n",
       " (34, 0.06736067644385405),\n",
       " (35, 0.06754855346367802),\n",
       " (36, 0.06255815898956255),\n",
       " (37, 0.06389889215487381),\n",
       " (38, 0.061119039521314374),\n",
       " (39, 0.0567967270046126),\n",
       " (40, 0.055559234009232634),\n",
       " (41, 0.05472447122772073),\n",
       " (42, 0.05531857587223829),\n",
       " (43, 0.056131696735703666),\n",
       " (44, 0.05116256185655677),\n",
       " (45, 0.05061109548564567),\n",
       " (46, 0.049838511931688284),\n",
       " (47, 0.04852184671042271),\n",
       " (48, 0.051854250311504965),\n",
       " (49, 0.046221237049199816)]"
      ]
     },
     "execution_count": 31,
     "metadata": {
      "tags": []
     },
     "output_type": "execute_result"
    }
   ],
   "source": [
    "train_losses"
   ]
  },
  {
   "cell_type": "markdown",
   "metadata": {
    "colab_type": "text",
    "id": "QGfOyfBRY6JU"
   },
   "source": [
    "### Remember to add the code for only saving the best model so far and also to be able to load the best model back to continue training (just like in the homeworks)"
   ]
  },
  {
   "cell_type": "code",
   "execution_count": 0,
   "metadata": {
    "colab": {
     "base_uri": "https://localhost:8080/",
     "height": 867
    },
    "colab_type": "code",
    "id": "qYBSf6xeQk4y",
    "outputId": "542d3102-da03-4ed3-d03f-60decc4b5d4b"
   },
   "outputs": [
    {
     "data": {
      "text/plain": [
       "[(0, 0.5134779545393857),\n",
       " (1, 0.5280129871585152),\n",
       " (2, 0.5616365920413624),\n",
       " (3, 0.5593684136867523),\n",
       " (4, 0.5844370465386998),\n",
       " (5, 0.6879350662231445),\n",
       " (6, 0.6657917539165779),\n",
       " (7, 0.7403975540941412),\n",
       " (8, 0.7674578536640514),\n",
       " (9, 0.6284512676975944),\n",
       " (10, 0.7566378555514596),\n",
       " (11, 0.9019004691730846),\n",
       " (12, 0.8768815918402239),\n",
       " (13, 0.922330112179572),\n",
       " (14, 0.6772601122205908),\n",
       " (15, 0.7560338692231612),\n",
       " (16, 0.6328377604484559),\n",
       " (17, 0.9935008699243719),\n",
       " (18, 0.7011822630058635),\n",
       " (19, 0.8850663488561457),\n",
       " (20, 0.9599769765680487),\n",
       " (21, 1.0641359134153887),\n",
       " (22, 1.9936040498993612),\n",
       " (23, 0.9017479842359369),\n",
       " (24, 0.8820084528489547),\n",
       " (25, 0.9474493341012434),\n",
       " (26, 0.9219563809308139),\n",
       " (27, 0.8142707983201201),\n",
       " (28, 0.8035957570780408),\n",
       " (29, 0.815651448562064),\n",
       " (30, 1.0197060975161465),\n",
       " (31, 0.783495466817509),\n",
       " (32, 0.8809433606537905),\n",
       " (33, 1.0224465692585165),\n",
       " (34, 0.7760209806940772),\n",
       " (35, 1.0978136268529024),\n",
       " (36, 0.9418400396000255),\n",
       " (37, 1.044001960212534),\n",
       " (38, 0.9852216948162426),\n",
       " (39, 0.9562297062440352),\n",
       " (40, 0.9532677975567905),\n",
       " (41, 1.0020305068655448),\n",
       " (42, 1.0247616955671799),\n",
       " (43, 0.986162828315388),\n",
       " (44, 0.9021941520951011),\n",
       " (45, 0.8621737373146143),\n",
       " (46, 1.0249591805718161),\n",
       " (47, 0.996028459072113),\n",
       " (48, 0.979454836926677),\n",
       " (49, 1.063434519551017)]"
      ]
     },
     "execution_count": 32,
     "metadata": {
      "tags": []
     },
     "output_type": "execute_result"
    }
   ],
   "source": [
    "test_losses"
   ]
  },
  {
   "cell_type": "code",
   "execution_count": 0,
   "metadata": {
    "colab": {
     "base_uri": "https://localhost:8080/",
     "height": 867
    },
    "colab_type": "code",
    "id": "-U4hzA8OQk40",
    "outputId": "e10396b5-5f5b-4a6d-b4df-8d25dc5499ee"
   },
   "outputs": [
    {
     "data": {
      "text/plain": [
       "[(0, tensor(75.3969)),\n",
       " (1, tensor(86.5647)),\n",
       " (2, tensor(88.8741)),\n",
       " (3, tensor(90.6677)),\n",
       " (4, tensor(91.4314)),\n",
       " (5, tensor(91.8925)),\n",
       " (6, tensor(91.9891)),\n",
       " (7, tensor(93.4473)),\n",
       " (8, tensor(93.8356)),\n",
       " (9, tensor(94.5373)),\n",
       " (10, tensor(94.7469)),\n",
       " (11, tensor(94.8909)),\n",
       " (12, tensor(95.1953)),\n",
       " (13, tensor(95.5835)),\n",
       " (14, tensor(95.6273)),\n",
       " (15, tensor(95.4924)),\n",
       " (16, tensor(96.0155)),\n",
       " (17, tensor(95.7184)),\n",
       " (18, tensor(96.3983)),\n",
       " (19, tensor(96.6225)),\n",
       " (20, tensor(96.6881)),\n",
       " (21, tensor(96.6626)),\n",
       " (22, tensor(96.8212)),\n",
       " (23, tensor(96.8540)),\n",
       " (24, tensor(96.7118)),\n",
       " (25, tensor(97.0928)),\n",
       " (26, tensor(96.9506)),\n",
       " (27, tensor(97.2003)),\n",
       " (28, tensor(97.3479)),\n",
       " (29, tensor(97.3352)),\n",
       " (30, tensor(97.3479)),\n",
       " (31, tensor(97.4573)),\n",
       " (32, tensor(97.5466)),\n",
       " (33, tensor(97.6213)),\n",
       " (34, tensor(97.6596)),\n",
       " (35, tensor(97.7034)),\n",
       " (36, tensor(97.8310)),\n",
       " (37, tensor(97.7325)),\n",
       " (38, tensor(97.9312)),\n",
       " (39, tensor(98.0697)),\n",
       " (40, tensor(98.0533)),\n",
       " (41, tensor(98.1372)),\n",
       " (42, tensor(98.1463)),\n",
       " (43, tensor(98.1335)),\n",
       " (44, tensor(98.2156)),\n",
       " (45, tensor(98.2812)),\n",
       " (46, tensor(98.3213)),\n",
       " (47, tensor(98.3359)),\n",
       " (48, tensor(98.3049)),\n",
       " (49, tensor(98.5127))]"
      ]
     },
     "execution_count": 33,
     "metadata": {
      "tags": []
     },
     "output_type": "execute_result"
    }
   ],
   "source": [
    "train_accuracies"
   ]
  },
  {
   "cell_type": "code",
   "execution_count": 0,
   "metadata": {
    "colab": {
     "base_uri": "https://localhost:8080/",
     "height": 867
    },
    "colab_type": "code",
    "id": "hhGsbT_oQk43",
    "outputId": "989221a2-9892-4297-d338-ef5e20d3fa6f"
   },
   "outputs": [
    {
     "data": {
      "text/plain": [
       "[(0, tensor(78.3876)),\n",
       " (1, tensor(80.8532)),\n",
       " (2, tensor(81.4678)),\n",
       " (3, tensor(82.0390)),\n",
       " (4, tensor(82.1258)),\n",
       " (5, tensor(82.0607)),\n",
       " (6, tensor(81.7281)),\n",
       " (7, tensor(82.7187)),\n",
       " (8, tensor(82.5886)),\n",
       " (9, tensor(82.8344)),\n",
       " (10, tensor(83.0224)),\n",
       " (11, tensor(80.7520)),\n",
       " (12, tensor(80.7231)),\n",
       " (13, tensor(82.0318)),\n",
       " (14, tensor(84.2733)),\n",
       " (15, tensor(82.6826)),\n",
       " (16, tensor(83.6009)),\n",
       " (17, tensor(79.7542)),\n",
       " (18, tensor(83.5647)),\n",
       " (19, tensor(81.1135)),\n",
       " (20, tensor(81.2292)),\n",
       " (21, tensor(79.5155)),\n",
       " (22, tensor(69.2480)),\n",
       " (23, tensor(81.3232)),\n",
       " (24, tensor(80.7881)),\n",
       " (25, tensor(81.7787)),\n",
       " (26, tensor(81.2292)),\n",
       " (27, tensor(82.9356)),\n",
       " (28, tensor(82.5380)),\n",
       " (29, tensor(82.7838)),\n",
       " (30, tensor(80.4266)),\n",
       " (31, tensor(83.1815)),\n",
       " (32, tensor(82.5886)),\n",
       " (33, tensor(80.5640)),\n",
       " (34, tensor(83.4852)),\n",
       " (35, tensor(78.6768)),\n",
       " (36, tensor(81.6341)),\n",
       " (37, tensor(80.5568)),\n",
       " (38, tensor(80.9472)),\n",
       " (39, tensor(81.2726)),\n",
       " (40, tensor(81.4100)),\n",
       " (41, tensor(80.2675)),\n",
       " (42, tensor(80.5495)),\n",
       " (43, tensor(82.3355)),\n",
       " (44, tensor(84.0998)),\n",
       " (45, tensor(82.8995)),\n",
       " (46, tensor(81.4678)),\n",
       " (47, tensor(82.2704)),\n",
       " (48, tensor(82.0607)),\n",
       " (49, tensor(81.1858))]"
      ]
     },
     "execution_count": 34,
     "metadata": {
      "tags": []
     },
     "output_type": "execute_result"
    }
   ],
   "source": [
    "test_accuracies"
   ]
  },
  {
   "cell_type": "code",
   "execution_count": 0,
   "metadata": {
    "colab": {},
    "colab_type": "code",
    "id": "8A_t17YCQk46"
   },
   "outputs": [],
   "source": [
    "np.save('train_losses.npy', np.array(train_losses))\n",
    "np.save('test_losses.npy', np.array(test_losses))\n",
    "np.save('train_accuracies.npy', np.array(train_accuracies))\n",
    "np.save('test_accuracies.npy', np.array(test_accuracies))"
   ]
  },
  {
   "cell_type": "code",
   "execution_count": 0,
   "metadata": {
    "colab": {
     "base_uri": "https://localhost:8080/",
     "height": 306
    },
    "colab_type": "code",
    "id": "mXwnh35QDLjt",
    "outputId": "808099a2-7599-467f-f12b-9e312e8260fb"
   },
   "outputs": [
    {
     "data": {
      "text/plain": [
       "SiameseNetwork(\n",
       "  (cnn1): Sequential(\n",
       "    (0): ReflectionPad2d((1, 1, 1, 1))\n",
       "    (1): Conv2d(1, 4, kernel_size=(3, 3), stride=(1, 1))\n",
       "    (2): ReLU(inplace=True)\n",
       "    (3): BatchNorm2d(4, eps=1e-05, momentum=0.1, affine=True, track_running_stats=True)\n",
       "    (4): ReflectionPad2d((1, 1, 1, 1))\n",
       "    (5): Conv2d(4, 8, kernel_size=(3, 3), stride=(1, 1))\n",
       "    (6): ReLU(inplace=True)\n",
       "    (7): BatchNorm2d(8, eps=1e-05, momentum=0.1, affine=True, track_running_stats=True)\n",
       "  )\n",
       "  (fc1): Sequential(\n",
       "    (0): Linear(in_features=412232, out_features=512, bias=True)\n",
       "    (1): ReLU(inplace=True)\n",
       "  )\n",
       "  (fc2): Linear(in_features=512, out_features=2, bias=True)\n",
       ")"
      ]
     },
     "execution_count": 36,
     "metadata": {
      "tags": []
     },
     "output_type": "execute_result"
    }
   ],
   "source": [
    "net"
   ]
  },
  {
   "cell_type": "code",
   "execution_count": 0,
   "metadata": {
    "colab": {},
    "colab_type": "code",
    "id": "vCj-PfqLQk49"
   },
   "outputs": [],
   "source": [
    "def my_plot(x_values, y_values, title, xlabel, ylabel):\n",
    "    \"\"\"Plots a line graph\n",
    "\n",
    "    Args:\n",
    "        x_values(list or np.array): x values for the line\n",
    "        y_values(list or np.array): y values for the line\n",
    "        title(str): Title for the plot\n",
    "        xlabel(str): Label for the x axis\n",
    "        ylabel(str): label for the y axis\n",
    "    \"\"\"\n",
    "\n",
    "    plt.figure(figsize=(20, 10))\n",
    "    plt.plot(x_values, y_values)\n",
    "    plt.title(title, fontsize=30)\n",
    "    plt.xlabel(xlabel, fontsize=20)\n",
    "    plt.ylabel(ylabel, fontsize=20)\n",
    "    plt.show()"
   ]
  },
  {
   "cell_type": "code",
   "execution_count": 0,
   "metadata": {
    "colab": {
     "base_uri": "https://localhost:8080/",
     "height": 1000
    },
    "colab_type": "code",
    "id": "OW3ATnaEQk4-",
    "outputId": "266d7eec-4800-42d6-a39e-05a2c8fdb82a",
    "scrolled": false
   },
   "outputs": [
    {
     "data": {
      "image/png": "[encoded data removed]",
      "text/plain": [
       "<Figure size 1440x720 with 1 Axes>"
      ]
     },
     "metadata": {
      "tags": []
     },
     "output_type": "display_data"
    },
    {
     "data": {
      "image/png": "[encoded data removed]",
      "text/plain": [
       "<Figure size 1440x720 with 1 Axes>"
      ]
     },
     "metadata": {
      "tags": []
     },
     "output_type": "display_data"
    }
   ],
   "source": [
    "ep, val = zip(*train_losses)\n",
    "my_plot(ep, val, 'Siamese Net on Spectograms: Train loss with epochs', 'Epoch', 'Train Loss')\n",
    "ep, val = zip(*test_losses)\n",
    "my_plot(ep, val, 'Siamese Net on Spectograms: Test loss with epochs', 'Epoch', 'Test Loss')"
   ]
  },
  {
   "cell_type": "code",
   "execution_count": 0,
   "metadata": {
    "colab": {
     "base_uri": "https://localhost:8080/",
     "height": 1000
    },
    "colab_type": "code",
    "id": "Gd1WbMXUQk5A",
    "outputId": "7f118806-76ad-4418-f652-1661efefad64"
   },
   "outputs": [
    {
     "data": {
      "image/png": "[encoded data removed]",
      "text/plain": [
       "<Figure size 1440x720 with 1 Axes>"
      ]
     },
     "metadata": {
      "tags": []
     },
     "output_type": "display_data"
    },
    {
     "data": {
      "image/png": "[encoded data removed]",
      "text/plain": [
       "<Figure size 1440x720 with 1 Axes>"
      ]
     },
     "metadata": {
      "tags": []
     },
     "output_type": "display_data"
    }
   ],
   "source": [
    "ep, val = zip(*train_accuracies)\n",
    "my_plot(ep, val, 'Siamese Net on Spectograms: Train Accuracy with epochs', 'Epoch', 'Train Accuracy')\n",
    "ep, val = zip(*test_accuracies)\n",
    "my_plot(ep, val, 'Siamese Net on Spectograms: Test Accuracy with epochs', 'Epoch', 'Test Accuracy')"
   ]
  },
  {
   "cell_type": "code",
   "execution_count": 0,
   "metadata": {
    "colab": {},
    "colab_type": "code",
    "id": "yMdFjrE9Qk5E"
   },
   "outputs": [],
   "source": [
    "torch.save(net.state_dict(), 'siamese_net_crossEntropy.pt')"
   ]
  },
  {
   "cell_type": "code",
   "execution_count": 0,
   "metadata": {
    "colab": {},
    "colab_type": "code",
    "id": "KJswES2XSPso"
   },
   "outputs": [],
   "source": [
    "def restore(net, save_file):\n",
    "    \"\"\"Restores the weights from a saved file\n",
    "\n",
    "    This does more than the simple Pytorch restore. It checks that the names\n",
    "    of variables match, and if they don't doesn't throw a fit. It is similar\n",
    "    to how Caffe acts. This is especially useful if you decide to change your\n",
    "    network architecture but don't want to retrain from scratch.\n",
    "\n",
    "    Args:\n",
    "        net(torch.nn.Module): The net to restore\n",
    "        save_file(str): The file path\n",
    "    \"\"\"\n",
    "\n",
    "    net_state_dict = net.state_dict()\n",
    "    restore_state_dict = torch.load(save_file)\n",
    "\n",
    "    restored_var_names = set()\n",
    "\n",
    "    print('Restoring:')\n",
    "    for var_name in restore_state_dict.keys():\n",
    "        if var_name in net_state_dict:\n",
    "            var_size = net_state_dict[var_name].size()\n",
    "            restore_size = restore_state_dict[var_name].size()\n",
    "            if var_size != restore_size:\n",
    "                print('Shape mismatch for var', var_name, 'expected', var_size, 'got', restore_size)\n",
    "            else:\n",
    "                if isinstance(net_state_dict[var_name], torch.nn.Parameter):\n",
    "                    # backwards compatibility for serialized parameters\n",
    "                    net_state_dict[var_name] = restore_state_dict[var_name].data\n",
    "                try:\n",
    "                    net_state_dict[var_name].copy_(restore_state_dict[var_name])\n",
    "                    print(str(var_name) + ' -> \\t' + str(var_size) + ' = ' + str(int(np.prod(var_size) * 4 / 10**6)) + 'MB')\n",
    "                    restored_var_names.add(var_name)\n",
    "                except Exception as ex:\n",
    "                    print('While copying the parameter named {}, whose dimensions in the model are'\n",
    "                          ' {} and whose dimensions in the checkpoint are {}, ...'.format(\n",
    "                              var_name, var_size, restore_size))\n",
    "                    raise ex\n",
    "\n",
    "    ignored_var_names = sorted(list(set(restore_state_dict.keys()) - restored_var_names))\n",
    "    unset_var_names = sorted(list(set(net_state_dict.keys()) - restored_var_names))\n",
    "    print('')\n",
    "    if len(ignored_var_names) == 0:\n",
    "        print('Restored all variables')\n",
    "    else:\n",
    "        print('Did not restore:\\n\\t' + '\\n\\t'.join(ignored_var_names))\n",
    "    if len(unset_var_names) == 0:\n",
    "        print('No new variables')\n",
    "    else:\n",
    "        print('Initialized but did not modify:\\n\\t' + '\\n\\t'.join(unset_var_names))\n",
    "\n",
    "    print('Restored %s' % save_file)"
   ]
  },
  {
   "cell_type": "code",
   "execution_count": 0,
   "metadata": {
    "colab": {},
    "colab_type": "code",
    "id": "6dDufWpWYRA0"
   },
   "outputs": [],
   "source": [
    "net_new = SiameseNetwork().to(device)"
   ]
  },
  {
   "cell_type": "code",
   "execution_count": 0,
   "metadata": {
    "colab": {
     "base_uri": "https://localhost:8080/",
     "height": 85
    },
    "colab_type": "code",
    "id": "seH_zqLIY-zR",
    "outputId": "4a6364ed-ef12-477b-d098-57d91d69ef81"
   },
   "outputs": [
    {
     "name": "stdout",
     "output_type": "stream",
     "text": [
      "mfcc\t\t\t     test-gram\t\t   train-gram-100.tar.gz\n",
      "siamese_net_crossEntropy.pt  test_losses.npy\t   train_losses.npy\n",
      "test_accuracies.npy\t     train_accuracies.npy\n",
      "test_gram\t\t     train-gram\n"
     ]
    }
   ],
   "source": [
    "!ls"
   ]
  },
  {
   "cell_type": "code",
   "execution_count": 0,
   "metadata": {
    "colab": {
     "base_uri": "https://localhost:8080/",
     "height": 408
    },
    "colab_type": "code",
    "id": "n3X9niQ4Y_zh",
    "outputId": "57d6b08a-1539-422f-c848-e1f6aafc6e65"
   },
   "outputs": [
    {
     "name": "stdout",
     "output_type": "stream",
     "text": [
      "Restoring:\n",
      "cnn1.1.weight -> \ttorch.Size([4, 1, 3, 3]) = 0MB\n",
      "cnn1.1.bias -> \ttorch.Size([4]) = 0MB\n",
      "cnn1.3.weight -> \ttorch.Size([4]) = 0MB\n",
      "cnn1.3.bias -> \ttorch.Size([4]) = 0MB\n",
      "cnn1.3.running_mean -> \ttorch.Size([4]) = 0MB\n",
      "cnn1.3.running_var -> \ttorch.Size([4]) = 0MB\n",
      "cnn1.3.num_batches_tracked -> \ttorch.Size([]) = 0MB\n",
      "cnn1.5.weight -> \ttorch.Size([8, 4, 3, 3]) = 0MB\n",
      "cnn1.5.bias -> \ttorch.Size([8]) = 0MB\n",
      "cnn1.7.weight -> \ttorch.Size([8]) = 0MB\n",
      "cnn1.7.bias -> \ttorch.Size([8]) = 0MB\n",
      "cnn1.7.running_mean -> \ttorch.Size([8]) = 0MB\n",
      "cnn1.7.running_var -> \ttorch.Size([8]) = 0MB\n",
      "cnn1.7.num_batches_tracked -> \ttorch.Size([]) = 0MB\n",
      "fc1.0.weight -> \ttorch.Size([512, 412232]) = 844MB\n",
      "fc1.0.bias -> \ttorch.Size([512]) = 0MB\n",
      "fc2.weight -> \ttorch.Size([2, 512]) = 0MB\n",
      "fc2.bias -> \ttorch.Size([2]) = 0MB\n",
      "\n",
      "Restored all variables\n",
      "No new variables\n",
      "Restored siamese_net_crossEntropy.pt\n"
     ]
    }
   ],
   "source": [
    "restore(net_new, 'siamese_net_crossEntropy.pt')"
   ]
  },
  {
   "cell_type": "code",
   "execution_count": 0,
   "metadata": {
    "colab": {
     "base_uri": "https://localhost:8080/",
     "height": 306
    },
    "colab_type": "code",
    "id": "O3_BJnRtZKEY",
    "outputId": "c3af3471-d80d-4d55-b577-8489b6cfec90"
   },
   "outputs": [
    {
     "data": {
      "text/plain": [
       "SiameseNetwork(\n",
       "  (cnn1): Sequential(\n",
       "    (0): ReflectionPad2d((1, 1, 1, 1))\n",
       "    (1): Conv2d(1, 4, kernel_size=(3, 3), stride=(1, 1))\n",
       "    (2): ReLU(inplace=True)\n",
       "    (3): BatchNorm2d(4, eps=1e-05, momentum=0.1, affine=True, track_running_stats=True)\n",
       "    (4): ReflectionPad2d((1, 1, 1, 1))\n",
       "    (5): Conv2d(4, 8, kernel_size=(3, 3), stride=(1, 1))\n",
       "    (6): ReLU(inplace=True)\n",
       "    (7): BatchNorm2d(8, eps=1e-05, momentum=0.1, affine=True, track_running_stats=True)\n",
       "  )\n",
       "  (fc1): Sequential(\n",
       "    (0): Linear(in_features=412232, out_features=512, bias=True)\n",
       "    (1): ReLU(inplace=True)\n",
       "  )\n",
       "  (fc2): Linear(in_features=512, out_features=2, bias=True)\n",
       ")"
      ]
     },
     "execution_count": 45,
     "metadata": {
      "tags": []
     },
     "output_type": "execute_result"
    }
   ],
   "source": [
    "net_new"
   ]
  },
  {
   "cell_type": "code",
   "execution_count": 0,
   "metadata": {
    "colab": {
     "base_uri": "https://localhost:8080/",
     "height": 935
    },
    "colab_type": "code",
    "id": "T2jlI-4uZNW0",
    "outputId": "cd25849f-07cf-40f9-c370-884e1f1269e8"
   },
   "outputs": [
    {
     "name": "stderr",
     "output_type": "stream",
     "text": [
      "\r",
      "  0%|          | 0/215 [00:00<?, ?it/s]"
     ]
    },
    {
     "name": "stdout",
     "output_type": "stream",
     "text": [
      "Epoch number:  0\n",
      "\n",
      "Training:\n"
     ]
    },
    {
     "name": "stderr",
     "output_type": "stream",
     "text": [
      "\r",
      "  0%|          | 1/215 [00:05<19:41,  5.52s/it]"
     ]
    },
    {
     "name": "stdout",
     "output_type": "stream",
     "text": [
      "Train Epoch: 0 [256/54863 (0%)]\tLoss: 0.081615\tTrain Accuracy: 96.093750\n"
     ]
    },
    {
     "name": "stderr",
     "output_type": "stream",
     "text": [
      " 10%|▉         | 21/215 [00:47<07:11,  2.23s/it]"
     ]
    },
    {
     "name": "stdout",
     "output_type": "stream",
     "text": [
      "Train Epoch: 0 [5376/54863 (10%)]\tLoss: 0.072862\tTrain Accuracy: 98.325890\n"
     ]
    },
    {
     "name": "stderr",
     "output_type": "stream",
     "text": [
      " 19%|█▉        | 41/215 [01:28<06:06,  2.11s/it]"
     ]
    },
    {
     "name": "stdout",
     "output_type": "stream",
     "text": [
      "Train Epoch: 0 [10496/54863 (19%)]\tLoss: 0.053878\tTrain Accuracy: 98.504189\n"
     ]
    },
    {
     "name": "stderr",
     "output_type": "stream",
     "text": [
      " 28%|██▊       | 61/215 [02:08<05:30,  2.15s/it]"
     ]
    },
    {
     "name": "stdout",
     "output_type": "stream",
     "text": [
      "Train Epoch: 0 [15616/54863 (28%)]\tLoss: 0.051315\tTrain Accuracy: 98.443901\n"
     ]
    },
    {
     "name": "stderr",
     "output_type": "stream",
     "text": [
      " 38%|███▊      | 81/215 [02:46<04:25,  1.98s/it]"
     ]
    },
    {
     "name": "stdout",
     "output_type": "stream",
     "text": [
      "Train Epoch: 0 [20736/54863 (38%)]\tLoss: 0.018463\tTrain Accuracy: 98.456787\n"
     ]
    },
    {
     "name": "stderr",
     "output_type": "stream",
     "text": [
      " 47%|████▋     | 101/215 [03:24<03:39,  1.92s/it]"
     ]
    },
    {
     "name": "stdout",
     "output_type": "stream",
     "text": [
      "Train Epoch: 0 [25856/54863 (47%)]\tLoss: 0.044337\tTrain Accuracy: 98.456841\n"
     ]
    },
    {
     "name": "stderr",
     "output_type": "stream",
     "text": [
      " 56%|█████▋    | 121/215 [04:01<02:57,  1.89s/it]"
     ]
    },
    {
     "name": "stdout",
     "output_type": "stream",
     "text": [
      "Train Epoch: 0 [30976/54863 (56%)]\tLoss: 0.058854\tTrain Accuracy: 98.440727\n"
     ]
    },
    {
     "name": "stderr",
     "output_type": "stream",
     "text": [
      " 66%|██████▌   | 141/215 [04:38<02:19,  1.88s/it]"
     ]
    },
    {
     "name": "stdout",
     "output_type": "stream",
     "text": [
      "Train Epoch: 0 [36096/54863 (66%)]\tLoss: 0.039389\tTrain Accuracy: 98.431961\n"
     ]
    },
    {
     "name": "stderr",
     "output_type": "stream",
     "text": [
      " 75%|███████▍  | 161/215 [05:15<01:41,  1.89s/it]"
     ]
    },
    {
     "name": "stdout",
     "output_type": "stream",
     "text": [
      "Train Epoch: 0 [41216/54863 (75%)]\tLoss: 0.041723\tTrain Accuracy: 98.454483\n"
     ]
    },
    {
     "name": "stderr",
     "output_type": "stream",
     "text": [
      " 84%|████████▍ | 181/215 [05:51<01:03,  1.86s/it]"
     ]
    },
    {
     "name": "stdout",
     "output_type": "stream",
     "text": [
      "Train Epoch: 0 [46336/54863 (84%)]\tLoss: 0.044301\tTrain Accuracy: 98.459084\n"
     ]
    },
    {
     "name": "stderr",
     "output_type": "stream",
     "text": [
      " 93%|█████████▎| 201/215 [06:28<00:26,  1.90s/it]"
     ]
    },
    {
     "name": "stdout",
     "output_type": "stream",
     "text": [
      "Train Epoch: 0 [51456/54863 (93%)]\tLoss: 0.033503\tTrain Accuracy: 98.486084\n"
     ]
    },
    {
     "name": "stderr",
     "output_type": "stream",
     "text": [
      "100%|██████████| 215/215 [06:52<00:00,  1.41s/it]\n",
      "  0%|          | 0/55 [00:00<?, ?it/s]"
     ]
    },
    {
     "name": "stdout",
     "output_type": "stream",
     "text": [
      "\n",
      "Train set: Average loss = 0.0453, Train Accuracy = 98.4963\n",
      "\n",
      "\n",
      "Testing:\n"
     ]
    },
    {
     "name": "stderr",
     "output_type": "stream",
     "text": [
      "100%|██████████| 55/55 [01:32<00:00,  1.68s/it]\n",
      "  0%|          | 0/215 [00:00<?, ?it/s]"
     ]
    },
    {
     "name": "stdout",
     "output_type": "stream",
     "text": [
      "\n",
      "Test set: Average loss = 1.0785, Test Accuracy = 81.7715\n",
      "\n",
      "Time taken for running epoch 0 is 504.530 seconds.\n",
      "\n",
      "\n",
      "Epoch number:  1\n",
      "\n",
      "Training:\n"
     ]
    },
    {
     "name": "stderr",
     "output_type": "stream",
     "text": [
      "\r",
      "  0%|          | 1/215 [00:04<17:32,  4.92s/it]"
     ]
    },
    {
     "name": "stdout",
     "output_type": "stream",
     "text": [
      "Train Epoch: 1 [256/54863 (0%)]\tLoss: 0.031359\tTrain Accuracy: 99.218750\n"
     ]
    },
    {
     "name": "stderr",
     "output_type": "stream",
     "text": [
      " 10%|▉         | 21/215 [00:42<06:22,  1.97s/it]"
     ]
    },
    {
     "name": "stdout",
     "output_type": "stream",
     "text": [
      "Train Epoch: 1 [5376/54863 (10%)]\tLoss: 0.051052\tTrain Accuracy: 98.344498\n"
     ]
    },
    {
     "name": "stderr",
     "output_type": "stream",
     "text": [
      " 19%|█▉        | 41/215 [01:21<05:46,  1.99s/it]"
     ]
    },
    {
     "name": "stdout",
     "output_type": "stream",
     "text": [
      "Train Epoch: 1 [10496/54863 (19%)]\tLoss: 0.047540\tTrain Accuracy: 98.418442\n"
     ]
    },
    {
     "name": "stderr",
     "output_type": "stream",
     "text": [
      " 28%|██▊       | 61/215 [01:59<05:02,  1.97s/it]"
     ]
    },
    {
     "name": "stdout",
     "output_type": "stream",
     "text": [
      "Train Epoch: 1 [15616/54863 (28%)]\tLoss: 0.049760\tTrain Accuracy: 98.431099\n"
     ]
    },
    {
     "name": "stderr",
     "output_type": "stream",
     "text": [
      " 38%|███▊      | 81/215 [02:36<04:21,  1.95s/it]"
     ]
    },
    {
     "name": "stdout",
     "output_type": "stream",
     "text": [
      "Train Epoch: 1 [20736/54863 (38%)]\tLoss: 0.039669\tTrain Accuracy: 98.374809\n"
     ]
    },
    {
     "name": "stderr",
     "output_type": "stream",
     "text": [
      " 47%|████▋     | 101/215 [03:14<03:44,  1.97s/it]"
     ]
    },
    {
     "name": "stdout",
     "output_type": "stream",
     "text": [
      "Train Epoch: 1 [25856/54863 (47%)]\tLoss: 0.047179\tTrain Accuracy: 98.425896\n"
     ]
    },
    {
     "name": "stderr",
     "output_type": "stream",
     "text": [
      " 56%|█████▋    | 121/215 [03:51<03:01,  1.93s/it]"
     ]
    },
    {
     "name": "stdout",
     "output_type": "stream",
     "text": [
      "Train Epoch: 1 [30976/54863 (56%)]\tLoss: 0.068351\tTrain Accuracy: 98.443954\n"
     ]
    },
    {
     "name": "stderr",
     "output_type": "stream",
     "text": [
      " 66%|██████▌   | 141/215 [04:28<02:15,  1.83s/it]"
     ]
    },
    {
     "name": "stdout",
     "output_type": "stream",
     "text": [
      "Train Epoch: 1 [36096/54863 (66%)]\tLoss: 0.031302\tTrain Accuracy: 98.443039\n"
     ]
    },
    {
     "name": "stderr",
     "output_type": "stream",
     "text": [
      " 75%|███████▍  | 161/215 [05:05<01:42,  1.90s/it]"
     ]
    },
    {
     "name": "stdout",
     "output_type": "stream",
     "text": [
      "Train Epoch: 1 [41216/54863 (75%)]\tLoss: 0.078346\tTrain Accuracy: 98.422943\n"
     ]
    },
    {
     "name": "stderr",
     "output_type": "stream",
     "text": [
      " 84%|████████▍ | 181/215 [05:41<01:04,  1.88s/it]"
     ]
    },
    {
     "name": "stdout",
     "output_type": "stream",
     "text": [
      "Train Epoch: 1 [46336/54863 (84%)]\tLoss: 0.037639\tTrain Accuracy: 98.454765\n"
     ]
    },
    {
     "name": "stderr",
     "output_type": "stream",
     "text": [
      " 93%|█████████▎| 201/215 [06:16<00:25,  1.82s/it]"
     ]
    },
    {
     "name": "stdout",
     "output_type": "stream",
     "text": [
      "Train Epoch: 1 [51456/54863 (93%)]\tLoss: 0.042177\tTrain Accuracy: 98.478310\n"
     ]
    },
    {
     "name": "stderr",
     "output_type": "stream",
     "text": [
      "100%|██████████| 215/215 [06:40<00:00,  1.33s/it]\n",
      "  0%|          | 0/55 [00:00<?, ?it/s]"
     ]
    },
    {
     "name": "stdout",
     "output_type": "stream",
     "text": [
      "\n",
      "Train set: Average loss = 0.0454, Train Accuracy = 98.4525\n",
      "\n",
      "\n",
      "Testing:\n"
     ]
    },
    {
     "name": "stderr",
     "output_type": "stream",
     "text": [
      "100%|██████████| 55/55 [01:23<00:00,  1.52s/it]"
     ]
    },
    {
     "name": "stdout",
     "output_type": "stream",
     "text": [
      "\n",
      "Test set: Average loss = 1.0256, Test Accuracy = 81.7281\n",
      "\n",
      "Time taken for running epoch 1 is 483.785 seconds.\n",
      "\n",
      "\n"
     ]
    },
    {
     "name": "stderr",
     "output_type": "stream",
     "text": [
      "\n"
     ]
    }
   ],
   "source": [
    "for epoch in range(0, 2):\n",
    "    print(\"Epoch number: \", epoch)\n",
    "    #lr = LEARNING_RATE * np.power(0.25, (int(epoch / 6)))\n",
    "    start_time = time.time()\n",
    "    print(\"\\nTraining:\")\n",
    "    train_loss, train_accuracy = train(net_new, device, train_dataloader, epoch)\n",
    "    print(\"\\nTesting:\")\n",
    "    test_loss, test_accuracy = test(net_new, device, test_dataloader)\n",
    "    #train_losses.append((epoch, train_loss))\n",
    "    #test_losses.append((epoch, test_loss))\n",
    "    #train_accuracies.append((epoch, train_accuracy))\n",
    "    #test_accuracies.append((epoch, test_accuracy))\n",
    "    #torch.save(net.state_dict(), 'siamese_net_crossEntropy.pt')\n",
    "    end_time = time.time()\n",
    "    print(\"Time taken for running epoch {} is {:.3f} seconds.\\n\\n\".format(epoch, end_time-start_time))"
   ]
  },
  {
   "cell_type": "code",
   "execution_count": 0,
   "metadata": {
    "colab": {},
    "colab_type": "code",
    "id": "SPxILQnGZkLV"
   },
   "outputs": [],
   "source": []
  }
 ],
 "metadata": {
  "accelerator": "GPU",
  "colab": {
   "collapsed_sections": [],
   "name": "SiameseNet_CrossEntropy.ipynb",
   "provenance": []
  },
  "kernelspec": {
   "display_name": "Python 3",
   "language": "python",
   "name": "python3"
  },
  "language_info": {
   "codemirror_mode": {
    "name": "ipython",
    "version": 3
   },
   "file_extension": ".py",
   "mimetype": "text/x-python",
   "name": "python",
   "nbconvert_exporter": "python",
   "pygments_lexer": "ipython3",
   "version": "3.6.6"
  }
 },
 "nbformat": 4,
 "nbformat_minor": 1
}
